{
 "cells": [
  {
   "cell_type": "code",
   "execution_count": 144,
   "metadata": {},
   "outputs": [],
   "source": [
    "import numpy as np\n",
    "import matplotlib.pyplot as plt\n",
    "from scipy.ndimage import map_coordinates\n",
    "import sys\n",
    "sys.path.append(\"..\")\n",
    "from util.oneDTravelWave import oneDTravelWave\n",
    "from scipy.optimize import least_squares\n",
    "from scipy.io import loadmat\n",
    "import matplotlib as mpl"
   ]
  },
  {
   "cell_type": "code",
   "execution_count": 186,
   "metadata": {},
   "outputs": [],
   "source": [
    "def loss(paras, X, Y,tao,delta_x,delta_t_integration, delta_t_frame):\n",
    "    \"\"\"\n",
    "    paras[0]: gamma\n",
    "    paras[1]: mass\n",
    "    paras[2]: ypsilon\n",
    "    \"\"\"\n",
    "    gamma = paras[0]\n",
    "    mass = paras[1]\n",
    "    ypsilon = paras[2]\n",
    "    shape = Y.shape\n",
    "    predict_interval = shape[2]\n",
    "    prediction = oneDTravelWave(X, predict_interval,gamma, mass, ypsilon,tao, delta_x,delta_t_integration,delta_t_frame)\n",
    "    error = np.mean(np.square(Y-prediction))\n",
    "    return error\n",
    "    \n",
    "def get_data(phase_fields, ids, predict_interval):\n",
    "    shape = phase_fields.shape\n",
    "    X = np.zeros((len(ids),shape[0]))\n",
    "    Y = np.zeros((len(ids),shape[0],predict_interval))\n",
    "    for i in ids:\n",
    "        X[i,:]= phase_fields[:,i]\n",
    "        Y[i,:,:] = phase_fields[:,(i+1):(i+1+predict_interval)]\n",
    "    #return np.array(X), np.swapaxes(np.array(Y),1,2)\n",
    "    return X, Y"
   ]
  },
  {
   "cell_type": "code",
   "execution_count": 187,
   "metadata": {},
   "outputs": [],
   "source": [
    "data = loadmat('../data/phase_field_oneD_simulation.mat')"
   ]
  },
  {
   "cell_type": "code",
   "execution_count": 188,
   "metadata": {},
   "outputs": [
    {
     "data": {
      "text/plain": [
       "(1, 500)"
      ]
     },
     "execution_count": 188,
     "metadata": {},
     "output_type": "execute_result"
    }
   ],
   "source": [
    "data['x'].shape"
   ]
  },
  {
   "cell_type": "code",
   "execution_count": 189,
   "metadata": {},
   "outputs": [
    {
     "data": {
      "text/plain": [
       "(500, 1)"
      ]
     },
     "execution_count": 189,
     "metadata": {},
     "output_type": "execute_result"
    }
   ],
   "source": [
    "data['t'].shape"
   ]
  },
  {
   "cell_type": "code",
   "execution_count": 190,
   "metadata": {},
   "outputs": [
    {
     "data": {
      "text/plain": [
       "(500, 500)"
      ]
     },
     "execution_count": 190,
     "metadata": {},
     "output_type": "execute_result"
    }
   ],
   "source": [
    "data['usol'].shape"
   ]
  },
  {
   "cell_type": "code",
   "execution_count": 238,
   "metadata": {},
   "outputs": [],
   "source": [
    "x = np.squeeze(data['x'])\n",
    "t = np.squeeze(data['t'])\n",
    "phase_fields = data['usol'][:,:200]"
   ]
  },
  {
   "cell_type": "code",
   "execution_count": 239,
   "metadata": {},
   "outputs": [],
   "source": [
    "predict_interval = 64\n",
    "shape = phase_fields.shape\n",
    "ids = np.arange(shape[1]-predict_interval)"
   ]
  },
  {
   "cell_type": "code",
   "execution_count": 242,
   "metadata": {},
   "outputs": [],
   "source": [
    "X,Y = get_data(phase_fields,ids,predict_interval)"
   ]
  },
  {
   "cell_type": "code",
   "execution_count": 243,
   "metadata": {},
   "outputs": [
    {
     "data": {
      "text/plain": [
       "(136, 500)"
      ]
     },
     "execution_count": 243,
     "metadata": {},
     "output_type": "execute_result"
    }
   ],
   "source": [
    "X.shape"
   ]
  },
  {
   "cell_type": "code",
   "execution_count": 244,
   "metadata": {},
   "outputs": [
    {
     "data": {
      "text/plain": [
       "(136, 500, 64)"
      ]
     },
     "execution_count": 244,
     "metadata": {},
     "output_type": "execute_result"
    }
   ],
   "source": [
    "Y.shape"
   ]
  },
  {
   "cell_type": "code",
   "execution_count": 247,
   "metadata": {},
   "outputs": [],
   "source": [
    "tao = 1\n",
    "delta_x = x[1]-x[0]\n",
    "delta_t_integration = 0.02\n",
    "delta_t_frame = 0.02\n",
    "opt = least_squares(loss,[1.5,-0.4,20],args=[X, Y, tao, delta_x, delta_t_integration, delta_t_frame], ftol=1e-10, xtol=1e-10,)"
   ]
  },
  {
   "cell_type": "code",
   "execution_count": 248,
   "metadata": {},
   "outputs": [
    {
     "data": {
      "text/plain": [
       " active_mask: array([0., 0., 0.])\n",
       "        cost: 4.174533730069905e-10\n",
       "         fun: array([2.88947529e-05])\n",
       "        grad: array([ 3.76918149e-09,  3.95083089e-09, -2.73584062e-11])\n",
       "         jac: array([[ 1.30445188e-04,  1.36731776e-04, -9.46829562e-07]])\n",
       "     message: '`gtol` termination condition is satisfied.'\n",
       "        nfev: 1\n",
       "        njev: 1\n",
       "  optimality: 3.950830887119811e-09\n",
       "      status: 1\n",
       "     success: True\n",
       "           x: array([ 1.5, -0.4, 20. ])"
      ]
     },
     "execution_count": 248,
     "metadata": {},
     "output_type": "execute_result"
    }
   ],
   "source": [
    "opt"
   ]
  },
  {
   "cell_type": "code",
   "execution_count": 228,
   "metadata": {},
   "outputs": [],
   "source": [
    "prediction = oneDTravelWave(X[0:1,:], predict_interval=predict_interval,gamma=opt.x[0], mass=opt.x[1],\n",
    "                   ypsilon=opt.x[2], delta_t_integration=delta_t_integration, delta_t_frame=delta_t_frame,delta_x=x[1]-x[0])"
   ]
  },
  {
   "cell_type": "code",
   "execution_count": 229,
   "metadata": {},
   "outputs": [
    {
     "data": {
      "text/plain": [
       "(1, 500, 199)"
      ]
     },
     "execution_count": 229,
     "metadata": {},
     "output_type": "execute_result"
    }
   ],
   "source": [
    "prediction.shape"
   ]
  },
  {
   "cell_type": "code",
   "execution_count": 230,
   "metadata": {},
   "outputs": [
    {
     "data": {
      "text/plain": [
       "(500, 200)"
      ]
     },
     "execution_count": 230,
     "metadata": {},
     "output_type": "execute_result"
    }
   ],
   "source": [
    "phase_fields.shape"
   ]
  },
  {
   "cell_type": "code",
   "execution_count": 231,
   "metadata": {},
   "outputs": [
    {
     "data": {
      "text/plain": [
       "(0, 200)"
      ]
     },
     "execution_count": 231,
     "metadata": {},
     "output_type": "execute_result"
    },
    {
     "data": {
      "image/png": "[encoded data removed]",
      "text/plain": [
       "<Figure size 432x288 with 1 Axes>"
      ]
     },
     "metadata": {
      "needs_background": "light"
     },
     "output_type": "display_data"
    }
   ],
   "source": [
    "cmap = mpl.cm.cividis\n",
    "step = 50\n",
    "for i in range(0,predict_interval, step):\n",
    "    plt.plot(prediction[0,:,i],linestyle='--',color=cmap(i / float(predict_interval)),linewidth=2)\n",
    "    plt.plot(phase_fields[:,i+1],linestyle='-',color=cmap(i / float(predict_interval)),linewidth=2)\n",
    "plt.xlim(0,200)\n",
    "#plt.legend()"
   ]
  }
 ],
 "metadata": {
  "kernelspec": {
   "display_name": "Python 3",
   "language": "python",
   "name": "python3"
  },
  "language_info": {
   "codemirror_mode": {
    "name": "ipython",
    "version": 3
   },
   "file_extension": ".py",
   "mimetype": "text/x-python",
   "name": "python",
   "nbconvert_exporter": "python",
   "pygments_lexer": "ipython3",
   "version": "3.7.4"
  }
 },
 "nbformat": 4,
 "nbformat_minor": 2
}
