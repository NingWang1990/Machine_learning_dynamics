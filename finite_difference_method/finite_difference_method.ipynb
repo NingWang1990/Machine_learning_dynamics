{
 "cells": [
  {
   "cell_type": "code",
   "execution_count": 99,
   "metadata": {},
   "outputs": [],
   "source": [
    "import numpy as np\n",
    "import matplotlib.pyplot as plt\n",
    "from scipy.ndimage import map_coordinates\n",
    "import sys\n",
    "sys.path.append(\"..\")\n",
    "from util.oneDTravelWave import oneDTravelWave\n",
    "from scipy.optimize import least_squares\n",
    "from scipy.io import loadmat\n",
    "import matplotlib as mpl"
   ]
  },
  {
   "cell_type": "code",
   "execution_count": 100,
   "metadata": {},
   "outputs": [],
   "source": [
    "def residual(paras, X, Y,tao,delta_x,delta_t_integration, delta_t_frame):\n",
    "    \"\"\"\n",
    "    paras[0]: ypsilon\n",
    "    paras[1]: mass\n",
    "    paras[2]: gamma\n",
    "    \"\"\"\n",
    "    ypsilon = paras[0]\n",
    "    gamma = paras[1]\n",
    "    mass = paras[2]\n",
    "    shape = Y.shape\n",
    "    predict_interval = shape[2]\n",
    "    prediction = oneDTravelWave(X, predict_interval,gamma, mass, ypsilon,tao, delta_x,delta_t_integration,delta_t_frame)\n",
    "    #error = np.mean(np.square(Y-prediction))\n",
    "    return np.reshape(Y-prediction,(-1))\n",
    "    \n",
    "def get_data(phase_fields, ids, predict_interval):\n",
    "    shape = phase_fields.shape\n",
    "    X = np.zeros((len(ids),shape[0]))\n",
    "    Y = np.zeros((len(ids),shape[0],predict_interval))\n",
    "    for i in ids:\n",
    "        X[i,:]= phase_fields[:,i]\n",
    "        Y[i,:,:] = phase_fields[:,(i+1):(i+1+predict_interval)]\n",
    "    #return np.array(X), np.swapaxes(np.array(Y),1,2)\n",
    "    return X, Y"
   ]
  },
  {
   "cell_type": "code",
   "execution_count": 101,
   "metadata": {},
   "outputs": [],
   "source": [
    "data = loadmat('../data/phase_field_oneD_simulation.mat')"
   ]
  },
  {
   "cell_type": "code",
   "execution_count": 102,
   "metadata": {},
   "outputs": [
    {
     "data": {
      "text/plain": [
       "(1, 500)"
      ]
     },
     "execution_count": 102,
     "metadata": {},
     "output_type": "execute_result"
    }
   ],
   "source": [
    "data['x'].shape"
   ]
  },
  {
   "cell_type": "code",
   "execution_count": 103,
   "metadata": {},
   "outputs": [
    {
     "data": {
      "text/plain": [
       "(500, 1)"
      ]
     },
     "execution_count": 103,
     "metadata": {},
     "output_type": "execute_result"
    }
   ],
   "source": [
    "data['t'].shape"
   ]
  },
  {
   "cell_type": "code",
   "execution_count": 104,
   "metadata": {},
   "outputs": [
    {
     "data": {
      "text/plain": [
       "(500, 500)"
      ]
     },
     "execution_count": 104,
     "metadata": {},
     "output_type": "execute_result"
    }
   ],
   "source": [
    "data['usol'].shape"
   ]
  },
  {
   "cell_type": "code",
   "execution_count": 105,
   "metadata": {},
   "outputs": [],
   "source": [
    "x = np.squeeze(data['x'])\n",
    "t = np.squeeze(data['t'])\n",
    "phase_fields = data['usol'][:,:100]"
   ]
  },
  {
   "cell_type": "code",
   "execution_count": 106,
   "metadata": {},
   "outputs": [],
   "source": [
    "predict_interval = 64\n",
    "shape = phase_fields.shape\n",
    "ids = np.arange(shape[1]-predict_interval)"
   ]
  },
  {
   "cell_type": "code",
   "execution_count": 107,
   "metadata": {},
   "outputs": [],
   "source": [
    "X,Y = get_data(phase_fields,ids,predict_interval)"
   ]
  },
  {
   "cell_type": "code",
   "execution_count": 108,
   "metadata": {},
   "outputs": [
    {
     "data": {
      "text/plain": [
       "(36, 500)"
      ]
     },
     "execution_count": 108,
     "metadata": {},
     "output_type": "execute_result"
    }
   ],
   "source": [
    "X.shape"
   ]
  },
  {
   "cell_type": "code",
   "execution_count": 109,
   "metadata": {},
   "outputs": [
    {
     "data": {
      "text/plain": [
       "(36, 500, 64)"
      ]
     },
     "execution_count": 109,
     "metadata": {},
     "output_type": "execute_result"
    }
   ],
   "source": [
    "Y.shape"
   ]
  },
  {
   "cell_type": "code",
   "execution_count": 110,
   "metadata": {},
   "outputs": [],
   "source": [
    "tao = 1\n",
    "delta_x = x[1]-x[0]\n",
    "delta_t_integration = 0.02\n",
    "delta_t_frame = 0.02\n",
    "opt = least_squares(residual,[20,2,-0.4],args=[X, Y, tao, delta_x, delta_t_integration, delta_t_frame], ftol=1e-10, xtol=1e-10,)"
   ]
  },
  {
   "cell_type": "code",
   "execution_count": 111,
   "metadata": {},
   "outputs": [
    {
     "data": {
      "text/plain": [
       " active_mask: array([0., 0., 0.])\n",
       "        cost: 1.8841139845773845e-22\n",
       "         fun: array([1.56784308e-14, 2.60173827e-14, 3.36675132e-14, ...,\n",
       "       0.00000000e+00, 0.00000000e+00, 0.00000000e+00])\n",
       "        grad: array([ 1.53469655e-13, -7.43860739e-11,  4.95881628e-10])\n",
       "         jac: array([[-1.13983871e-05,  1.68774977e-04, -3.50023853e-04],\n",
       "       [-1.91892963e-05,  3.34008599e-04, -6.92648813e-04],\n",
       "       [-2.51498539e-05,  4.95299002e-04, -1.02700759e-03],\n",
       "       ...,\n",
       "       [ 1.49011612e-09, -6.70552259e-08, -1.71363354e-07],\n",
       "       [ 1.49011612e-09, -6.70552259e-08, -1.78813934e-07],\n",
       "       [ 1.49011612e-09, -6.70552259e-08, -1.78813934e-07]])\n",
       "     message: '`gtol` termination condition is satisfied.'\n",
       "        nfev: 5\n",
       "        njev: 5\n",
       "  optimality: 4.958816279847351e-10\n",
       "      status: 1\n",
       "     success: True\n",
       "           x: array([10. ,  1. , -0.4])"
      ]
     },
     "execution_count": 111,
     "metadata": {},
     "output_type": "execute_result"
    }
   ],
   "source": [
    "opt"
   ]
  },
  {
   "cell_type": "code",
   "execution_count": 112,
   "metadata": {},
   "outputs": [],
   "source": [
    "prediction = oneDTravelWave(X[0:1,:], predict_interval=predict_interval,ypsilon=opt.x[0], gamma=opt.x[1],\n",
    "                   mass=opt.x[2], delta_t_integration=delta_t_integration, delta_t_frame=delta_t_frame,delta_x=x[1]-x[0])"
   ]
  },
  {
   "cell_type": "code",
   "execution_count": 113,
   "metadata": {},
   "outputs": [
    {
     "data": {
      "text/plain": [
       "(1, 500, 64)"
      ]
     },
     "execution_count": 113,
     "metadata": {},
     "output_type": "execute_result"
    }
   ],
   "source": [
    "prediction.shape"
   ]
  },
  {
   "cell_type": "code",
   "execution_count": 114,
   "metadata": {},
   "outputs": [
    {
     "data": {
      "text/plain": [
       "(500, 100)"
      ]
     },
     "execution_count": 114,
     "metadata": {},
     "output_type": "execute_result"
    }
   ],
   "source": [
    "phase_fields.shape"
   ]
  },
  {
   "cell_type": "code",
   "execution_count": 115,
   "metadata": {},
   "outputs": [
    {
     "data": {
      "text/plain": [
       "(0, 200)"
      ]
     },
     "execution_count": 115,
     "metadata": {},
     "output_type": "execute_result"
    },
    {
     "data": {
      "image/png": "[encoded data removed]",
      "text/plain": [
       "<Figure size 432x288 with 1 Axes>"
      ]
     },
     "metadata": {
      "needs_background": "light"
     },
     "output_type": "display_data"
    }
   ],
   "source": [
    "cmap = mpl.cm.cividis\n",
    "step = 50\n",
    "for i in range(0,predict_interval, step):\n",
    "    plt.plot(prediction[0,:,i],linestyle='--',color=cmap(i / float(predict_interval)),linewidth=2)\n",
    "    plt.plot(phase_fields[:,i+1],linestyle='-',color=cmap(i / float(predict_interval)),linewidth=2)\n",
    "plt.xlim(0,200)\n",
    "#plt.legend()"
   ]
  }
 ],
 "metadata": {
  "kernelspec": {
   "display_name": "Python 3",
   "language": "python",
   "name": "python3"
  },
  "language_info": {
   "codemirror_mode": {
    "name": "ipython",
    "version": 3
   },
   "file_extension": ".py",
   "mimetype": "text/x-python",
   "name": "python",
   "nbconvert_exporter": "python",
   "pygments_lexer": "ipython3",
   "version": "3.7.4"
  }
 },
 "nbformat": 4,
 "nbformat_minor": 2
}
