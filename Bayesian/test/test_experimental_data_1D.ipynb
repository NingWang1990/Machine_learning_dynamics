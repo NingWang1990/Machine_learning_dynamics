{
 "cells": [
  {
   "cell_type": "code",
   "execution_count": 1,
   "metadata": {},
   "outputs": [],
   "source": [
    "import numpy as np"
   ]
  },
  {
   "cell_type": "code",
   "execution_count": 2,
   "metadata": {},
   "outputs": [],
   "source": [
    "import matplotlib as mpl\n",
    "mpl.rcParams['figure.dpi'] = 200"
   ]
  },
  {
   "cell_type": "code",
   "execution_count": 3,
   "metadata": {},
   "outputs": [],
   "source": [
    "import scipy\n",
    "from scipy.io import loadmat\n",
    "from data_generator import DataGenerator"
   ]
  },
  {
   "cell_type": "code",
   "execution_count": 4,
   "metadata": {},
   "outputs": [],
   "source": [
    "from likelihood import GaussianLogLikelihood\n",
    "from prior import ComplexityLogPrior\n",
    "from posterior import LogPosterior\n",
    "from mcmc import MCMC\n",
    "from sequential_mc import SequentialMC\n",
    "from util import generate_binary_coef_random\n",
    "import pandas as pd"
   ]
  },
  {
   "cell_type": "code",
   "execution_count": 5,
   "metadata": {},
   "outputs": [],
   "source": [
    "import matplotlib.pyplot as plt"
   ]
  },
  {
   "cell_type": "code",
   "execution_count": 6,
   "metadata": {},
   "outputs": [],
   "source": [
    "data = loadmat('../data/phase_field_oneD_last641_filtered.mat')"
   ]
  },
  {
   "cell_type": "code",
   "execution_count": 7,
   "metadata": {},
   "outputs": [
    {
     "data": {
      "text/plain": [
       "(500, 641)"
      ]
     },
     "execution_count": 7,
     "metadata": {},
     "output_type": "execute_result"
    }
   ],
   "source": [
    "data['usol'].shape"
   ]
  },
  {
   "cell_type": "code",
   "execution_count": 8,
   "metadata": {},
   "outputs": [
    {
     "data": {
      "text/plain": [
       "<matplotlib.image.AxesImage at 0x2b6ec4da61d0>"
      ]
     },
     "execution_count": 8,
     "metadata": {},
     "output_type": "execute_result"
    },
    {
     "data": {
      "image/png": "[encoded data removed]",
      "text/plain": [
       "<Figure size 432x288 with 1 Axes>"
      ]
     },
     "metadata": {
      "needs_background": "light"
     },
     "output_type": "display_data"
    }
   ],
   "source": [
    "plt.imshow(data['usol'])"
   ]
  },
  {
   "cell_type": "code",
   "execution_count": 9,
   "metadata": {},
   "outputs": [
    {
     "data": {
      "text/plain": [
       "(500, 641)"
      ]
     },
     "execution_count": 9,
     "metadata": {},
     "output_type": "execute_result"
    }
   ],
   "source": [
    "data['usol'].shape"
   ]
  },
  {
   "cell_type": "code",
   "execution_count": 10,
   "metadata": {},
   "outputs": [],
   "source": [
    "# calculate derivatives and prepare data\n",
    "u = data['usol'][200:300,200:300]\n",
    "t = np.squeeze(data['t'])[200:300]\n",
    "x = np.squeeze(data['x'])[200:300]"
   ]
  },
  {
   "cell_type": "code",
   "execution_count": 11,
   "metadata": {},
   "outputs": [],
   "source": [
    "shape = u.shape"
   ]
  },
  {
   "cell_type": "code",
   "execution_count": 12,
   "metadata": {},
   "outputs": [
    {
     "data": {
      "text/plain": [
       "(100, 100)"
      ]
     },
     "execution_count": 12,
     "metadata": {},
     "output_type": "execute_result"
    }
   ],
   "source": [
    "u.shape"
   ]
  },
  {
   "cell_type": "code",
   "execution_count": 13,
   "metadata": {},
   "outputs": [
    {
     "data": {
      "text/plain": [
       "<matplotlib.image.AxesImage at 0x2b6ecbce5780>"
      ]
     },
     "execution_count": 13,
     "metadata": {},
     "output_type": "execute_result"
    },
    {
     "data": {
      "image/png": "[encoded data removed]",
      "text/plain": [
       "<Figure size 432x288 with 1 Axes>"
      ]
     },
     "metadata": {
      "needs_background": "light"
     },
     "output_type": "display_data"
    }
   ],
   "source": [
    "plt.imshow(u)"
   ]
  },
  {
   "cell_type": "code",
   "execution_count": 37,
   "metadata": {},
   "outputs": [],
   "source": [
    "from sklearn.gaussian_process import GaussianProcessRegressor"
   ]
  },
  {
   "cell_type": "code",
   "execution_count": 38,
   "metadata": {},
   "outputs": [],
   "source": [
    "regressor = GaussianProcessRegressor()"
   ]
  },
  {
   "cell_type": "code",
   "execution_count": 59,
   "metadata": {},
   "outputs": [],
   "source": [
    "x_mesh, t_mesh = np.meshgrid(x,t,indexing='ij')"
   ]
  },
  {
   "cell_type": "code",
   "execution_count": 60,
   "metadata": {},
   "outputs": [],
   "source": [
    "X_train = np.vstack([x_mesh.flatten(),t_mesh.flatten()]).T"
   ]
  },
  {
   "cell_type": "code",
   "execution_count": 61,
   "metadata": {},
   "outputs": [
    {
     "data": {
      "text/plain": [
       "(10000, 2)"
      ]
     },
     "execution_count": 61,
     "metadata": {},
     "output_type": "execute_result"
    }
   ],
   "source": [
    "X_train.shape"
   ]
  },
  {
   "cell_type": "code",
   "execution_count": 62,
   "metadata": {},
   "outputs": [],
   "source": [
    "from sklearn.utils import shuffle"
   ]
  },
  {
   "cell_type": "code",
   "execution_count": 75,
   "metadata": {},
   "outputs": [],
   "source": [
    "y_train = u.flatten()"
   ]
  },
  {
   "cell_type": "code",
   "execution_count": 64,
   "metadata": {},
   "outputs": [
    {
     "data": {
      "text/plain": [
       "GaussianProcessRegressor()"
      ]
     },
     "execution_count": 64,
     "metadata": {},
     "output_type": "execute_result"
    }
   ],
   "source": [
    "regressor.fit(X_train[:10000], y_train[:10000])"
   ]
  },
  {
   "cell_type": "code",
   "execution_count": 65,
   "metadata": {},
   "outputs": [],
   "source": [
    "u_predict = regressor.predict(X_train)"
   ]
  },
  {
   "cell_type": "code",
   "execution_count": 66,
   "metadata": {},
   "outputs": [],
   "source": [
    "u_predict = np.reshape(u_predict,shape)"
   ]
  },
  {
   "cell_type": "code",
   "execution_count": 67,
   "metadata": {},
   "outputs": [
    {
     "data": {
      "text/plain": [
       "(100, 100)"
      ]
     },
     "execution_count": 67,
     "metadata": {},
     "output_type": "execute_result"
    }
   ],
   "source": [
    "u_predict.shape"
   ]
  },
  {
   "cell_type": "code",
   "execution_count": 74,
   "metadata": {},
   "outputs": [
    {
     "data": {
      "text/plain": [
       "[<matplotlib.lines.Line2D at 0x2b08b7dd7e48>]"
      ]
     },
     "execution_count": 74,
     "metadata": {},
     "output_type": "execute_result"
    },
    {
     "data": {
      "image/png": "[encoded data removed]",
      "text/plain": [
       "<Figure size 432x288 with 1 Axes>"
      ]
     },
     "metadata": {
      "needs_background": "light"
     },
     "output_type": "display_data"
    }
   ],
   "source": [
    "plt.plot(u[30,:])\n",
    "plt.plot(u_predict[30,:])"
   ]
  },
  {
   "cell_type": "code",
   "execution_count": 68,
   "metadata": {},
   "outputs": [
    {
     "data": {
      "text/plain": [
       "<matplotlib.image.AxesImage at 0x2b08c6f27eb8>"
      ]
     },
     "execution_count": 68,
     "metadata": {},
     "output_type": "execute_result"
    },
    {
     "data": {
      "image/png": "[encoded data removed]",
      "text/plain": [
       "<Figure size 432x288 with 1 Axes>"
      ]
     },
     "metadata": {
      "needs_background": "light"
     },
     "output_type": "display_data"
    }
   ],
   "source": [
    "plt.imshow(u_predict)"
   ]
  },
  {
   "cell_type": "code",
   "execution_count": 119,
   "metadata": {},
   "outputs": [],
   "source": [
    "from numerical_derivative import ChebyshevLocalFit_1D\n",
    "width = 11                \n",
    "du_x, du_xx, du_t = ChebyshevLocalFit_1D(u, x, t, deg=3, width=width, diff=2)\n",
    "u = u[width:(-width), width:(-width)]"
   ]
  },
  {
   "cell_type": "code",
   "execution_count": 13,
   "metadata": {},
   "outputs": [],
   "source": [
    "random_seed = 1001"
   ]
  },
  {
   "cell_type": "code",
   "execution_count": 14,
   "metadata": {},
   "outputs": [],
   "source": [
    "np.random.seed(random_seed)"
   ]
  },
  {
   "cell_type": "code",
   "execution_count": 213,
   "metadata": {},
   "outputs": [],
   "source": [
    "data = np.load('train_data_experiment.npy')"
   ]
  },
  {
   "cell_type": "code",
   "execution_count": 214,
   "metadata": {},
   "outputs": [],
   "source": [
    "dg = DataGenerator()"
   ]
  },
  {
   "cell_type": "code",
   "execution_count": 215,
   "metadata": {},
   "outputs": [
    {
     "data": {
      "text/plain": [
       "(45000, 3)"
      ]
     },
     "execution_count": 215,
     "metadata": {},
     "output_type": "execute_result"
    }
   ],
   "source": [
    "data[:,:-1].shape"
   ]
  },
  {
   "cell_type": "code",
   "execution_count": 216,
   "metadata": {},
   "outputs": [],
   "source": [
    "u = data[:,0]\n",
    "u_x = data[:,1]\n",
    "u_xx = data[:,2]\n",
    "u_t = data[:,3]"
   ]
  },
  {
   "cell_type": "code",
   "execution_count": 218,
   "metadata": {},
   "outputs": [],
   "source": [
    "u = np.reshape(u, (150,300))\n",
    "u_t = np.reshape(u_t, (150,300))\n",
    "u_x = np.reshape(u_x, (150,300))\n",
    "u_xx = np.reshape(u_xx, (150,300))"
   ]
  },
  {
   "cell_type": "code",
   "execution_count": 219,
   "metadata": {},
   "outputs": [],
   "source": [
    "ind = 10"
   ]
  },
  {
   "cell_type": "code",
   "execution_count": 97,
   "metadata": {},
   "outputs": [],
   "source": [
    "n_samples = 5000"
   ]
  },
  {
   "cell_type": "code",
   "execution_count": 99,
   "metadata": {},
   "outputs": [],
   "source": [
    "np.random.shuffle(data)\n",
    "data = data[:n_samples]"
   ]
  },
  {
   "cell_type": "code",
   "execution_count": 100,
   "metadata": {
    "scrolled": true
   },
   "outputs": [],
   "source": [
    "X, names, complexity = dg(data[:,:-1], descriptions=['u','u_x','u_xx'] )"
   ]
  },
  {
   "cell_type": "code",
   "execution_count": 101,
   "metadata": {},
   "outputs": [
    {
     "data": {
      "text/plain": [
       "(5000, 20)"
      ]
     },
     "execution_count": 101,
     "metadata": {},
     "output_type": "execute_result"
    }
   ],
   "source": [
    "X.shape"
   ]
  },
  {
   "cell_type": "code",
   "execution_count": 102,
   "metadata": {},
   "outputs": [],
   "source": [
    "Y = data[:,-1]\n",
    "#Y = -0.9*X[:,0] + 10.*X[:,2] +1.9*X[:,3] -1.*X[:,9]"
   ]
  },
  {
   "cell_type": "code",
   "execution_count": 175,
   "metadata": {},
   "outputs": [],
   "source": [
    "prior = ComplexityLogPrior(method='num_terms', simplicity_preference=0.1,complexity_terms=1.)"
   ]
  },
  {
   "cell_type": "code",
   "execution_count": 176,
   "metadata": {},
   "outputs": [],
   "source": [
    "likelihood = GaussianLogLikelihood(X,Y,reg_normalization=False,random_state=random_seed)"
   ]
  },
  {
   "cell_type": "code",
   "execution_count": 177,
   "metadata": {},
   "outputs": [],
   "source": [
    "posterior = LogPosterior(prior, likelihood)"
   ]
  },
  {
   "cell_type": "code",
   "execution_count": 178,
   "metadata": {},
   "outputs": [],
   "source": [
    "import itertools"
   ]
  },
  {
   "cell_type": "code",
   "execution_count": 179,
   "metadata": {},
   "outputs": [],
   "source": [
    "init_coefs = generate_binary_coef_random(len(names),40)"
   ]
  },
  {
   "cell_type": "code",
   "execution_count": 180,
   "metadata": {},
   "outputs": [],
   "source": [
    "sequentialmc = SequentialMC(posterior=posterior,log_file='mc.csv')"
   ]
  },
  {
   "cell_type": "code",
   "execution_count": 181,
   "metadata": {},
   "outputs": [
    {
     "name": "stdout",
     "output_type": "stream",
     "text": [
      "0 1\n",
      "1 u\n",
      "2 u_x\n",
      "3 u_xx\n",
      "4 u**2\n",
      "5 u*u_x\n",
      "6 u*u_xx\n",
      "7 u_x**2\n",
      "8 u_x*u_xx\n",
      "9 u_xx**2\n",
      "10 u**3\n",
      "11 u**2*u_x\n",
      "12 u**2*u_xx\n",
      "13 u*u_x**2\n",
      "14 u*u_x*u_xx\n",
      "15 u*u_xx**2\n",
      "16 u_x**3\n",
      "17 u_x**2*u_xx\n",
      "18 u_x*u_xx**2\n",
      "19 u_xx**3\n"
     ]
    }
   ],
   "source": [
    "for i, name in enumerate(names):\n",
    "    print (i, name)"
   ]
  },
  {
   "cell_type": "code",
   "execution_count": 182,
   "metadata": {},
   "outputs": [
    {
     "data": {
      "text/plain": [
       "(5000, 20)"
      ]
     },
     "execution_count": 182,
     "metadata": {},
     "output_type": "execute_result"
    }
   ],
   "source": [
    "X.shape"
   ]
  },
  {
   "cell_type": "code",
   "execution_count": 183,
   "metadata": {},
   "outputs": [],
   "source": [
    "from get_pareto import ParetoSet"
   ]
  },
  {
   "cell_type": "code",
   "execution_count": 184,
   "metadata": {},
   "outputs": [],
   "source": [
    "#sequentialmc.pareto_set = ParetoSet()"
   ]
  },
  {
   "cell_type": "code",
   "execution_count": 185,
   "metadata": {},
   "outputs": [],
   "source": [
    "#init_coefs[0] = np.array([1,0,1,1,0,0,0,0,0,1,0,0,0,0,0,0,0,0,0])"
   ]
  },
  {
   "cell_type": "code",
   "execution_count": 186,
   "metadata": {},
   "outputs": [
    {
     "data": {
      "text/plain": [
       "array([[1, 0, 0, 0, 1, 1, 0, 0, 1, 1, 0, 1, 0, 0, 1, 1, 1, 1, 1, 0],\n",
       "       [0, 0, 1, 1, 1, 0, 0, 0, 1, 1, 0, 0, 0, 0, 1, 0, 0, 0, 1, 1],\n",
       "       [0, 1, 1, 0, 0, 1, 0, 0, 0, 1, 0, 0, 0, 1, 1, 1, 0, 0, 0, 1],\n",
       "       [1, 0, 0, 1, 0, 0, 0, 1, 1, 1, 0, 0, 0, 0, 1, 1, 0, 0, 0, 0],\n",
       "       [0, 1, 1, 1, 0, 0, 0, 1, 1, 0, 0, 0, 0, 0, 1, 1, 1, 1, 1, 0],\n",
       "       [0, 1, 1, 0, 1, 0, 1, 0, 1, 1, 0, 0, 0, 0, 1, 0, 0, 0, 1, 1],\n",
       "       [1, 0, 1, 0, 0, 1, 0, 1, 0, 0, 1, 0, 0, 0, 0, 1, 1, 0, 0, 0],\n",
       "       [0, 1, 0, 0, 1, 1, 1, 0, 0, 1, 1, 1, 1, 1, 1, 1, 0, 1, 0, 0],\n",
       "       [0, 1, 0, 0, 1, 0, 1, 0, 0, 1, 0, 0, 0, 0, 0, 0, 0, 1, 1, 1],\n",
       "       [0, 0, 0, 0, 1, 0, 0, 0, 1, 0, 1, 1, 1, 1, 0, 1, 0, 0, 0, 0],\n",
       "       [1, 1, 0, 1, 0, 0, 0, 1, 1, 0, 1, 0, 1, 0, 1, 0, 1, 0, 1, 1],\n",
       "       [0, 0, 0, 0, 1, 0, 0, 0, 0, 0, 0, 0, 1, 1, 1, 0, 1, 1, 0, 1],\n",
       "       [1, 0, 1, 1, 1, 1, 0, 1, 1, 1, 0, 0, 1, 0, 0, 1, 0, 1, 0, 0],\n",
       "       [0, 1, 0, 0, 1, 0, 1, 1, 0, 1, 0, 1, 1, 0, 0, 1, 0, 1, 0, 1],\n",
       "       [0, 1, 0, 0, 0, 0, 1, 0, 0, 1, 1, 1, 1, 0, 0, 1, 1, 1, 1, 0],\n",
       "       [0, 0, 1, 1, 1, 0, 0, 0, 1, 0, 1, 0, 0, 0, 1, 0, 0, 1, 1, 0],\n",
       "       [1, 1, 1, 0, 0, 0, 1, 0, 1, 1, 1, 0, 1, 0, 0, 1, 1, 1, 1, 0],\n",
       "       [1, 1, 1, 1, 1, 0, 0, 0, 1, 0, 0, 0, 0, 0, 0, 0, 0, 1, 1, 1],\n",
       "       [1, 1, 1, 1, 0, 0, 1, 0, 0, 0, 1, 0, 0, 1, 0, 1, 0, 1, 0, 0],\n",
       "       [1, 0, 1, 0, 0, 1, 0, 0, 1, 1, 1, 1, 0, 0, 0, 0, 1, 1, 0, 0],\n",
       "       [1, 1, 0, 0, 1, 1, 0, 0, 0, 0, 1, 1, 0, 0, 1, 1, 0, 0, 0, 1],\n",
       "       [1, 1, 0, 1, 1, 1, 1, 0, 1, 1, 0, 0, 1, 1, 1, 1, 1, 0, 0, 1],\n",
       "       [1, 0, 1, 0, 1, 1, 1, 0, 1, 1, 1, 1, 0, 1, 0, 0, 0, 0, 1, 1],\n",
       "       [1, 0, 1, 0, 1, 0, 0, 1, 0, 0, 0, 0, 1, 0, 1, 0, 1, 0, 0, 1],\n",
       "       [0, 0, 0, 1, 0, 1, 0, 0, 1, 0, 0, 1, 0, 1, 0, 0, 1, 0, 0, 1],\n",
       "       [1, 1, 1, 1, 1, 1, 1, 1, 0, 0, 1, 0, 1, 0, 0, 1, 0, 1, 0, 0],\n",
       "       [0, 0, 1, 0, 0, 0, 1, 0, 0, 0, 1, 1, 1, 1, 0, 1, 1, 0, 1, 0],\n",
       "       [1, 0, 0, 0, 1, 0, 1, 0, 0, 0, 0, 0, 1, 1, 1, 1, 1, 0, 1, 1],\n",
       "       [0, 1, 1, 1, 0, 1, 1, 0, 1, 0, 0, 0, 0, 0, 0, 0, 1, 1, 0, 0],\n",
       "       [1, 0, 1, 0, 1, 0, 0, 0, 0, 0, 1, 0, 0, 1, 1, 1, 1, 0, 1, 0],\n",
       "       [1, 1, 1, 0, 1, 0, 0, 1, 0, 0, 1, 0, 1, 1, 1, 0, 0, 1, 0, 1],\n",
       "       [0, 0, 1, 1, 1, 1, 1, 0, 0, 1, 1, 0, 1, 1, 1, 1, 0, 0, 0, 0],\n",
       "       [1, 1, 0, 1, 1, 0, 0, 0, 0, 1, 0, 1, 0, 0, 0, 0, 1, 0, 1, 0],\n",
       "       [0, 1, 1, 0, 1, 0, 1, 0, 0, 1, 0, 1, 0, 0, 0, 0, 0, 0, 1, 0],\n",
       "       [0, 1, 1, 1, 1, 0, 1, 1, 0, 0, 1, 0, 1, 0, 1, 0, 1, 1, 0, 0],\n",
       "       [1, 0, 1, 1, 0, 0, 0, 1, 0, 0, 0, 1, 1, 1, 1, 0, 1, 0, 0, 1],\n",
       "       [0, 0, 0, 0, 0, 0, 1, 0, 0, 1, 1, 0, 0, 0, 0, 0, 0, 1, 0, 1],\n",
       "       [1, 1, 1, 0, 0, 1, 1, 1, 1, 0, 1, 1, 1, 0, 0, 1, 0, 1, 1, 0],\n",
       "       [0, 0, 1, 1, 1, 1, 0, 1, 0, 0, 0, 0, 0, 0, 1, 1, 0, 1, 0, 0],\n",
       "       [1, 0, 1, 1, 1, 1, 0, 0, 1, 0, 0, 1, 0, 1, 1, 0, 1, 0, 0, 0]],\n",
       "      dtype=int32)"
      ]
     },
     "execution_count": 186,
     "metadata": {},
     "output_type": "execute_result"
    }
   ],
   "source": [
    "init_coefs"
   ]
  },
  {
   "cell_type": "code",
   "execution_count": 200,
   "metadata": {
    "scrolled": true
   },
   "outputs": [
    {
     "name": "stdout",
     "output_type": "stream",
     "text": [
      "step: 0, beta:  0.000\n",
      "step: 1, beta:  0.010\n",
      "step: 2, beta:  0.020\n",
      "step: 3, beta:  0.030\n",
      "step: 4, beta:  0.040\n",
      "step: 5, beta:  0.051\n",
      "step: 6, beta:  0.061\n",
      "step: 7, beta:  0.071\n",
      "step: 8, beta:  0.081\n",
      "step: 9, beta:  0.091\n",
      "step: 10, beta:  0.101\n",
      "step: 11, beta:  0.111\n",
      "step: 12, beta:  0.121\n",
      "step: 13, beta:  0.131\n",
      "step: 14, beta:  0.141\n",
      "step: 15, beta:  0.152\n",
      "step: 16, beta:  0.162\n",
      "step: 17, beta:  0.172\n",
      "step: 18, beta:  0.182\n",
      "step: 19, beta:  0.192\n",
      "step: 20, beta:  0.202\n",
      "step: 21, beta:  0.212\n",
      "step: 22, beta:  0.222\n",
      "step: 23, beta:  0.232\n",
      "step: 24, beta:  0.242\n",
      "step: 25, beta:  0.253\n",
      "step: 26, beta:  0.263\n",
      "step: 27, beta:  0.273\n",
      "step: 28, beta:  0.283\n",
      "step: 29, beta:  0.293\n",
      "step: 30, beta:  0.303\n",
      "step: 31, beta:  0.313\n",
      "step: 32, beta:  0.323\n",
      "step: 33, beta:  0.333\n",
      "step: 34, beta:  0.343\n",
      "step: 35, beta:  0.354\n",
      "step: 36, beta:  0.364\n",
      "step: 37, beta:  0.374\n",
      "step: 38, beta:  0.384\n",
      "step: 39, beta:  0.394\n",
      "step: 40, beta:  0.404\n",
      "step: 41, beta:  0.414\n",
      "step: 42, beta:  0.424\n",
      "step: 43, beta:  0.434\n",
      "step: 44, beta:  0.444\n",
      "step: 45, beta:  0.455\n",
      "step: 46, beta:  0.465\n",
      "step: 47, beta:  0.475\n",
      "step: 48, beta:  0.485\n",
      "step: 49, beta:  0.495\n",
      "step: 50, beta:  0.505\n",
      "step: 51, beta:  0.515\n",
      "step: 52, beta:  0.525\n",
      "step: 53, beta:  0.535\n",
      "step: 54, beta:  0.545\n",
      "step: 55, beta:  0.556\n",
      "step: 56, beta:  0.566\n",
      "step: 57, beta:  0.576\n",
      "step: 58, beta:  0.586\n",
      "step: 59, beta:  0.596\n",
      "step: 60, beta:  0.606\n",
      "step: 61, beta:  0.616\n",
      "step: 62, beta:  0.626\n",
      "step: 63, beta:  0.636\n",
      "step: 64, beta:  0.646\n",
      "step: 65, beta:  0.657\n",
      "step: 66, beta:  0.667\n",
      "step: 67, beta:  0.677\n",
      "step: 68, beta:  0.687\n",
      "step: 69, beta:  0.697\n",
      "step: 70, beta:  0.707\n",
      "step: 71, beta:  0.717\n",
      "step: 72, beta:  0.727\n",
      "step: 73, beta:  0.737\n",
      "step: 74, beta:  0.747\n",
      "step: 75, beta:  0.758\n",
      "step: 76, beta:  0.768\n",
      "step: 77, beta:  0.778\n",
      "step: 78, beta:  0.788\n",
      "step: 79, beta:  0.798\n",
      "step: 80, beta:  0.808\n",
      "step: 81, beta:  0.818\n",
      "step: 82, beta:  0.828\n",
      "step: 83, beta:  0.838\n",
      "step: 84, beta:  0.848\n",
      "step: 85, beta:  0.859\n",
      "step: 86, beta:  0.869\n",
      "step: 87, beta:  0.879\n",
      "step: 88, beta:  0.889\n",
      "step: 89, beta:  0.899\n",
      "step: 90, beta:  0.909\n",
      "step: 91, beta:  0.919\n",
      "step: 92, beta:  0.929\n",
      "step: 93, beta:  0.939\n",
      "step: 94, beta:  0.949\n",
      "step: 95, beta:  0.960\n",
      "step: 96, beta:  0.970\n",
      "step: 97, beta:  0.980\n",
      "step: 98, beta:  0.990\n",
      "step: 99, beta:  1.000\n",
      "step: 100, beta:  1.000\n",
      "step: 101, beta:  1.000\n",
      "step: 102, beta:  1.000\n",
      "step: 103, beta:  1.000\n",
      "step: 104, beta:  1.000\n",
      "step: 105, beta:  1.000\n",
      "step: 106, beta:  1.000\n",
      "step: 107, beta:  1.000\n",
      "step: 108, beta:  1.000\n",
      "step: 109, beta:  1.000\n",
      "step: 110, beta:  1.000\n",
      "step: 111, beta:  1.000\n",
      "step: 112, beta:  1.000\n",
      "step: 113, beta:  1.000\n",
      "step: 114, beta:  1.000\n",
      "step: 115, beta:  1.000\n",
      "step: 116, beta:  1.000\n",
      "step: 117, beta:  1.000\n",
      "step: 118, beta:  1.000\n",
      "step: 119, beta:  1.000\n",
      "step: 120, beta:  1.000\n",
      "step: 121, beta:  1.000\n",
      "step: 122, beta:  1.000\n",
      "step: 123, beta:  1.000\n",
      "step: 124, beta:  1.000\n",
      "step: 125, beta:  1.000\n",
      "step: 126, beta:  1.000\n",
      "step: 127, beta:  1.000\n",
      "step: 128, beta:  1.000\n",
      "step: 129, beta:  1.000\n",
      "step: 130, beta:  1.000\n",
      "step: 131, beta:  1.000\n",
      "step: 132, beta:  1.000\n",
      "step: 133, beta:  1.000\n",
      "step: 134, beta:  1.000\n",
      "step: 135, beta:  1.000\n",
      "step: 136, beta:  1.000\n",
      "step: 137, beta:  1.000\n",
      "step: 138, beta:  1.000\n",
      "step: 139, beta:  1.000\n",
      "step: 140, beta:  1.000\n",
      "step: 141, beta:  1.000\n",
      "step: 142, beta:  1.000\n",
      "step: 143, beta:  1.000\n",
      "step: 144, beta:  1.000\n",
      "step: 145, beta:  1.000\n",
      "step: 146, beta:  1.000\n",
      "step: 147, beta:  1.000\n",
      "step: 148, beta:  1.000\n",
      "step: 149, beta:  1.000\n",
      "step: 150, beta:  1.000\n",
      "step: 151, beta:  1.000\n",
      "step: 152, beta:  1.000\n",
      "step: 153, beta:  1.000\n",
      "step: 154, beta:  1.000\n",
      "step: 155, beta:  1.000\n",
      "step: 156, beta:  1.000\n",
      "step: 157, beta:  1.000\n",
      "step: 158, beta:  1.000\n",
      "step: 159, beta:  1.000\n",
      "step: 160, beta:  1.000\n",
      "step: 161, beta:  1.000\n",
      "step: 162, beta:  1.000\n",
      "step: 163, beta:  1.000\n",
      "step: 164, beta:  1.000\n",
      "step: 165, beta:  1.000\n",
      "step: 166, beta:  1.000\n",
      "step: 167, beta:  1.000\n"
     ]
    },
    {
     "ename": "KeyboardInterrupt",
     "evalue": "",
     "output_type": "error",
     "traceback": [
      "\u001b[0;31m---------------------------------------------------------------------------\u001b[0m",
      "\u001b[0;31mKeyboardInterrupt\u001b[0m                         Traceback (most recent call last)",
      "\u001b[0;32m<ipython-input-200-d3eda483a5c3>\u001b[0m in \u001b[0;36m<module>\u001b[0;34m\u001b[0m\n\u001b[0;32m----> 1\u001b[0;31m \u001b[0mpareto_set\u001b[0m \u001b[0;34m=\u001b[0m \u001b[0msequentialmc\u001b[0m\u001b[0;34m(\u001b[0m\u001b[0msamples\u001b[0m\u001b[0;34m=\u001b[0m\u001b[0minit_coefs\u001b[0m\u001b[0;34m,\u001b[0m\u001b[0mbeta0_nsteps\u001b[0m\u001b[0;34m=\u001b[0m\u001b[0;36m0\u001b[0m\u001b[0;34m,\u001b[0m\u001b[0mbeta0to1_nsteps\u001b[0m\u001b[0;34m=\u001b[0m\u001b[0;36m100\u001b[0m\u001b[0;34m,\u001b[0m\u001b[0mbeta1_nsteps\u001b[0m\u001b[0;34m=\u001b[0m\u001b[0;36m100\u001b[0m\u001b[0;34m,\u001b[0m \u001b[0mmcmc_nsteps\u001b[0m\u001b[0;34m=\u001b[0m\u001b[0;36m10\u001b[0m\u001b[0;34m,\u001b[0m\u001b[0mfeature_descriptions\u001b[0m\u001b[0;34m=\u001b[0m\u001b[0mnames\u001b[0m \u001b[0;34m)\u001b[0m\u001b[0;34m\u001b[0m\u001b[0;34m\u001b[0m\u001b[0m\n\u001b[0m",
      "\u001b[0;32m/talos/u/wangnisn/devel/Machine_learning_dynamics/Bayesian/sequential_mc.py\u001b[0m in \u001b[0;36m__call__\u001b[0;34m(self, samples, feature_descriptions, beta0_nsteps, beta0to1_nsteps, beta1_nsteps, mcmc_nsteps)\u001b[0m\n\u001b[1;32m     76\u001b[0m \u001b[0;34m\u001b[0m\u001b[0m\n\u001b[1;32m     77\u001b[0m             \u001b[0;32mif\u001b[0m \u001b[0;32mnot\u001b[0m \u001b[0mout_csv\u001b[0m \u001b[0;34m==\u001b[0m \u001b[0;32mNone\u001b[0m\u001b[0;34m:\u001b[0m\u001b[0;34m\u001b[0m\u001b[0;34m\u001b[0m\u001b[0m\n\u001b[0;32m---> 78\u001b[0;31m                 \u001b[0mself\u001b[0m\u001b[0;34m.\u001b[0m\u001b[0mlog\u001b[0m\u001b[0;34m(\u001b[0m\u001b[0mi\u001b[0m\u001b[0;34m+\u001b[0m\u001b[0;36m1\u001b[0m\u001b[0;34m,\u001b[0m \u001b[0msamples\u001b[0m\u001b[0;34m,\u001b[0m \u001b[0mfeature_descriptions\u001b[0m\u001b[0;34m,\u001b[0m \u001b[0mout_csv\u001b[0m\u001b[0;34m)\u001b[0m\u001b[0;34m\u001b[0m\u001b[0;34m\u001b[0m\u001b[0m\n\u001b[0m\u001b[1;32m     79\u001b[0m \u001b[0;34m\u001b[0m\u001b[0m\n\u001b[1;32m     80\u001b[0m             \u001b[0;32mfor\u001b[0m \u001b[0msample\u001b[0m \u001b[0;32min\u001b[0m \u001b[0msamples\u001b[0m\u001b[0;34m:\u001b[0m\u001b[0;34m\u001b[0m\u001b[0;34m\u001b[0m\u001b[0m\n",
      "\u001b[0;32m/talos/u/wangnisn/devel/Machine_learning_dynamics/Bayesian/sequential_mc.py\u001b[0m in \u001b[0;36mlog\u001b[0;34m(self, step, samples, feature_descriptions, out_csv, log_header)\u001b[0m\n\u001b[1;32m    190\u001b[0m         \u001b[0;32mfor\u001b[0m \u001b[0msample\u001b[0m \u001b[0;32min\u001b[0m \u001b[0msamples\u001b[0m\u001b[0;34m:\u001b[0m\u001b[0;34m\u001b[0m\u001b[0;34m\u001b[0m\u001b[0m\n\u001b[1;32m    191\u001b[0m             \u001b[0mweights\u001b[0m\u001b[0;34m,\u001b[0m \u001b[0mbias\u001b[0m \u001b[0;34m=\u001b[0m \u001b[0mself\u001b[0m\u001b[0;34m.\u001b[0m\u001b[0mposterior\u001b[0m\u001b[0;34m.\u001b[0m\u001b[0mlikelihood\u001b[0m\u001b[0;34m.\u001b[0m\u001b[0mget_weights_bias\u001b[0m\u001b[0;34m(\u001b[0m\u001b[0msample\u001b[0m\u001b[0;34m)\u001b[0m\u001b[0;34m\u001b[0m\u001b[0;34m\u001b[0m\u001b[0m\n\u001b[0;32m--> 192\u001b[0;31m             \u001b[0mexpr\u001b[0m \u001b[0;34m=\u001b[0m \u001b[0mself\u001b[0m\u001b[0;34m.\u001b[0m\u001b[0mconstruct_linear_expression\u001b[0m\u001b[0;34m(\u001b[0m\u001b[0mweights\u001b[0m\u001b[0;34m,\u001b[0m\u001b[0mbias\u001b[0m\u001b[0;34m,\u001b[0m\u001b[0mfeature_descriptions\u001b[0m\u001b[0;34m)\u001b[0m\u001b[0;34m\u001b[0m\u001b[0;34m\u001b[0m\u001b[0m\n\u001b[0m\u001b[1;32m    193\u001b[0m             \u001b[0mrow\u001b[0m \u001b[0;34m+=\u001b[0m \u001b[0;34m[\u001b[0m \u001b[0mstr\u001b[0m\u001b[0;34m(\u001b[0m\u001b[0mexpr\u001b[0m\u001b[0;34m)\u001b[0m\u001b[0;34m,\u001b[0m\u001b[0;34m]\u001b[0m\u001b[0;34m\u001b[0m\u001b[0;34m\u001b[0m\u001b[0m\n\u001b[1;32m    194\u001b[0m         \u001b[0mout_csv\u001b[0m\u001b[0;34m.\u001b[0m\u001b[0mwriterow\u001b[0m\u001b[0;34m(\u001b[0m\u001b[0mrow\u001b[0m\u001b[0;34m)\u001b[0m\u001b[0;34m\u001b[0m\u001b[0;34m\u001b[0m\u001b[0m\n",
      "\u001b[0;32m/talos/u/wangnisn/devel/Machine_learning_dynamics/Bayesian/sequential_mc.py\u001b[0m in \u001b[0;36mconstruct_linear_expression\u001b[0;34m(self, weights, bias, feature_descriptions)\u001b[0m\n\u001b[1;32m    169\u001b[0m         \u001b[0mexpr\u001b[0m \u001b[0;34m=\u001b[0m \u001b[0msympy\u001b[0m\u001b[0;34m.\u001b[0m\u001b[0mInteger\u001b[0m\u001b[0;34m(\u001b[0m\u001b[0;36m0\u001b[0m\u001b[0;34m)\u001b[0m\u001b[0;34m\u001b[0m\u001b[0;34m\u001b[0m\u001b[0m\n\u001b[1;32m    170\u001b[0m         \u001b[0;32mfor\u001b[0m \u001b[0mi\u001b[0m\u001b[0;34m,\u001b[0m \u001b[0mdesp\u001b[0m \u001b[0;32min\u001b[0m \u001b[0menumerate\u001b[0m\u001b[0;34m(\u001b[0m\u001b[0mfeature_descriptions\u001b[0m\u001b[0;34m)\u001b[0m\u001b[0;34m:\u001b[0m\u001b[0;34m\u001b[0m\u001b[0;34m\u001b[0m\u001b[0m\n\u001b[0;32m--> 171\u001b[0;31m             \u001b[0mexpr\u001b[0m \u001b[0;34m+=\u001b[0m \u001b[0mweights\u001b[0m\u001b[0;34m[\u001b[0m\u001b[0mi\u001b[0m\u001b[0;34m]\u001b[0m \u001b[0;34m*\u001b[0m \u001b[0mdesp\u001b[0m\u001b[0;34m\u001b[0m\u001b[0;34m\u001b[0m\u001b[0m\n\u001b[0m\u001b[1;32m    172\u001b[0m         \u001b[0mexpr\u001b[0m \u001b[0;34m+=\u001b[0m \u001b[0mbias\u001b[0m\u001b[0;34m\u001b[0m\u001b[0;34m\u001b[0m\u001b[0m\n\u001b[1;32m    173\u001b[0m         \u001b[0;32mreturn\u001b[0m \u001b[0mexpr\u001b[0m\u001b[0;34m\u001b[0m\u001b[0;34m\u001b[0m\u001b[0m\n",
      "\u001b[0;32m/mpcdf/soft/SLE_15/packages/x86_64/anaconda/3/2019.03/lib/python3.7/site-packages/sympy/core/decorators.py\u001b[0m in \u001b[0;36m__sympifyit_wrapper\u001b[0;34m(a, b)\u001b[0m\n\u001b[1;32m     82\u001b[0m \u001b[0;34m\u001b[0m\u001b[0m\n\u001b[1;32m     83\u001b[0m     \u001b[0;32melse\u001b[0m\u001b[0;34m:\u001b[0m\u001b[0;34m\u001b[0m\u001b[0;34m\u001b[0m\u001b[0m\n\u001b[0;32m---> 84\u001b[0;31m         \u001b[0;34m@\u001b[0m\u001b[0mwraps\u001b[0m\u001b[0;34m(\u001b[0m\u001b[0mfunc\u001b[0m\u001b[0;34m)\u001b[0m\u001b[0;34m\u001b[0m\u001b[0;34m\u001b[0m\u001b[0m\n\u001b[0m\u001b[1;32m     85\u001b[0m         \u001b[0;32mdef\u001b[0m \u001b[0m__sympifyit_wrapper\u001b[0m\u001b[0;34m(\u001b[0m\u001b[0ma\u001b[0m\u001b[0;34m,\u001b[0m \u001b[0mb\u001b[0m\u001b[0;34m)\u001b[0m\u001b[0;34m:\u001b[0m\u001b[0;34m\u001b[0m\u001b[0;34m\u001b[0m\u001b[0m\n\u001b[1;32m     86\u001b[0m             \u001b[0;32mtry\u001b[0m\u001b[0;34m:\u001b[0m\u001b[0;34m\u001b[0m\u001b[0;34m\u001b[0m\u001b[0m\n",
      "\u001b[0;31mKeyboardInterrupt\u001b[0m: "
     ]
    }
   ],
   "source": [
    "pareto_set = sequentialmc(samples=init_coefs,beta0_nsteps=0,beta0to1_nsteps=100,beta1_nsteps=100, mcmc_nsteps=10,feature_descriptions=names )"
   ]
  },
  {
   "cell_type": "code",
   "execution_count": 201,
   "metadata": {},
   "outputs": [],
   "source": [
    "pareto_set = sequentialmc.pareto_set"
   ]
  },
  {
   "cell_type": "code",
   "execution_count": 202,
   "metadata": {},
   "outputs": [],
   "source": [
    "pareto_set.save_csv('pareto_set_experiment.csv')"
   ]
  },
  {
   "cell_type": "code",
   "execution_count": 203,
   "metadata": {},
   "outputs": [
    {
     "data": {
      "text/plain": [
       "array([[2.00000000e+00, 2.43968765e-02],\n",
       "       [3.00000000e+00, 1.77176841e-02],\n",
       "       [4.00000000e+00, 1.65536839e-02],\n",
       "       [5.00000000e+00, 1.38346740e-02],\n",
       "       [6.00000000e+00, 1.38045733e-02],\n",
       "       [7.00000000e+00, 1.28248341e-02],\n",
       "       [8.00000000e+00, 1.27045171e-02],\n",
       "       [9.00000000e+00, 1.23361733e-02],\n",
       "       [1.20000000e+01, 1.22702723e-02],\n",
       "       [1.30000000e+01, 1.22402559e-02],\n",
       "       [1.40000000e+01, 1.22391122e-02]])"
      ]
     },
     "execution_count": 203,
     "metadata": {},
     "output_type": "execute_result"
    }
   ],
   "source": [
    "pareto_set.to_array()"
   ]
  },
  {
   "cell_type": "code",
   "execution_count": 204,
   "metadata": {},
   "outputs": [
    {
     "data": {
      "image/png": "[encoded data removed]",
      "text/plain": [
       "<Figure size 576x432 with 1 Axes>"
      ]
     },
     "metadata": {
      "needs_background": "light"
     },
     "output_type": "display_data"
    }
   ],
   "source": [
    "pareto_set.plot()"
   ]
  },
  {
   "cell_type": "code",
   "execution_count": 205,
   "metadata": {},
   "outputs": [
    {
     "data": {
      "text/plain": [
       "-0.185232351776985*u**2*u_x - 4.42173681816584*u_x**2"
      ]
     },
     "execution_count": 205,
     "metadata": {},
     "output_type": "execute_result"
    }
   ],
   "source": [
    "pareto_set[0].data"
   ]
  },
  {
   "cell_type": "code",
   "execution_count": 206,
   "metadata": {},
   "outputs": [
    {
     "data": {
      "text/plain": [
       "-4.23633499853767*u**2*u_x + 4.05196360523886*u*u_x - 15.282432532225*u_x**2"
      ]
     },
     "execution_count": 206,
     "metadata": {},
     "output_type": "execute_result"
    }
   ],
   "source": [
    "pareto_set[1].data"
   ]
  },
  {
   "cell_type": "code",
   "execution_count": 207,
   "metadata": {},
   "outputs": [
    {
     "data": {
      "text/plain": [
       "-50.9151838889856*u_x**3 + 1144.6918467288*u_x*u_xx**2 - 157.395928212894*u_xx**2 - 8.08393275251475e-7"
      ]
     },
     "execution_count": 207,
     "metadata": {},
     "output_type": "execute_result"
    }
   ],
   "source": [
    "pareto_set[2].data"
   ]
  },
  {
   "cell_type": "code",
   "execution_count": 208,
   "metadata": {},
   "outputs": [
    {
     "data": {
      "text/plain": [
       "-11.9083265567301*u*u_x*u_xx - 0.248177074867163*u*u_x - 134.378128209555*u_x**3 + 9.19002105732799*u_x**2 - 155.122323914716*u_xx**2"
      ]
     },
     "execution_count": 208,
     "metadata": {},
     "output_type": "execute_result"
    }
   ],
   "source": [
    "pareto_set[3].data"
   ]
  },
  {
   "cell_type": "code",
   "execution_count": 209,
   "metadata": {},
   "outputs": [
    {
     "data": {
      "text/plain": [
       "0.635891394517524*u**2*u_xx + 15.3487396237924*u*u_x**2 - 130.809183273006*u_x**3 + 27.1623265125787*u_x*u_xx - 3528.99355768995*u_xx**3 - 137.83714694009*u_xx**2"
      ]
     },
     "execution_count": 209,
     "metadata": {},
     "output_type": "execute_result"
    }
   ],
   "source": [
    "pareto_set[4].data"
   ]
  },
  {
   "cell_type": "code",
   "execution_count": 210,
   "metadata": {},
   "outputs": [
    {
     "data": {
      "text/plain": [
       "4.99413365187832*u**2*u_x - 11.6146426477562*u*u_x*u_xx - 5.17385052448521*u*u_x - 274.327595663912*u_x**3 + 35.2591432222176*u_x**2 - 280.215304648183*u_xx**2 - 4.97404942481028e-5"
      ]
     },
     "execution_count": 210,
     "metadata": {},
     "output_type": "execute_result"
    }
   ],
   "source": [
    "pareto_set[5].data"
   ]
  },
  {
   "cell_type": "code",
   "execution_count": 211,
   "metadata": {},
   "outputs": [
    {
     "data": {
      "text/plain": [
       "5.30979320779647*u**2*u_x + 10.7767993632666*u*u_x**2 + 19.5631997870607*u*u_x*u_xx - 5.83368693050132*u*u_x - 0.924655880262673*u*u_xx - 312.453602438764*u_x**3 + 36.1644331052005*u_x**2 - 264.208114664753*u_xx**2"
      ]
     },
     "execution_count": 211,
     "metadata": {},
     "output_type": "execute_result"
    }
   ],
   "source": [
    "pareto_set[6].data"
   ]
  },
  {
   "cell_type": "code",
   "execution_count": 212,
   "metadata": {},
   "outputs": [
    {
     "data": {
      "text/plain": [
       "4.23620958871735*u**2*u_x + 29.8637574911216*u*u_x**2 - 4.62976468717828*u*u_x + 252.375580906372*u*u_xx**2 - 288.416072878808*u_x**3 - 233.145816512571*u_x**2*u_xx + 20.8427108860787*u_x**2 + 63.7531388155491*u_x*u_xx - 378.515844363362*u_xx**2"
      ]
     },
     "execution_count": 212,
     "metadata": {},
     "output_type": "execute_result"
    }
   ],
   "source": [
    "pareto_set[7].data"
   ]
  }
 ],
 "metadata": {
  "kernelspec": {
   "display_name": "Python 3",
   "language": "python",
   "name": "python3"
  },
  "language_info": {
   "codemirror_mode": {
    "name": "ipython",
    "version": 3
   },
   "file_extension": ".py",
   "mimetype": "text/x-python",
   "name": "python",
   "nbconvert_exporter": "python",
   "pygments_lexer": "ipython3",
   "version": "3.7.3"
  }
 },
 "nbformat": 4,
 "nbformat_minor": 2
}
