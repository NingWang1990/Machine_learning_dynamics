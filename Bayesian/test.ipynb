{
 "cells": [
  {
   "cell_type": "code",
   "execution_count": 1,
   "metadata": {},
   "outputs": [],
   "source": [
    "import numpy as np"
   ]
  },
  {
   "cell_type": "code",
   "execution_count": 2,
   "metadata": {},
   "outputs": [],
   "source": [
    "import scipy\n",
    "from scipy.io import loadmat\n",
    "from data_generator import DataGenerator"
   ]
  },
  {
   "cell_type": "code",
   "execution_count": 3,
   "metadata": {},
   "outputs": [],
   "source": [
    "from likelihood import GaussianLogLikelihood\n",
    "from prior import ComplexityLogPrior\n",
    "from posterior import LogPosterior\n",
    "from mcmc import MCMC\n",
    "from sequential_mc import SequentialMC\n",
    "from util import generate_binary_coef\n",
    "import pandas as pd"
   ]
  },
  {
   "cell_type": "code",
   "execution_count": 4,
   "metadata": {},
   "outputs": [],
   "source": [
    "import matplotlib.pyplot as plt"
   ]
  },
  {
   "cell_type": "code",
   "execution_count": 5,
   "metadata": {},
   "outputs": [],
   "source": [
    "data = loadmat('../data/phase_field_oneD_simulation_beginning_stage.mat')"
   ]
  },
  {
   "cell_type": "code",
   "execution_count": 6,
   "metadata": {},
   "outputs": [
    {
     "ename": "KeyboardInterrupt",
     "evalue": "",
     "output_type": "error",
     "traceback": [
      "\u001b[0;31m---------------------------------------------------------------------------\u001b[0m",
      "\u001b[0;31mKeyboardInterrupt\u001b[0m                         Traceback (most recent call last)",
      "\u001b[0;32m<ipython-input-6-d2b137eefe11>\u001b[0m in \u001b[0;36m<module>\u001b[0;34m\u001b[0m\n\u001b[1;32m      5\u001b[0m \u001b[0;32mfrom\u001b[0m \u001b[0mnumerical_derivative\u001b[0m \u001b[0;32mimport\u001b[0m \u001b[0mChebyshevLocalFit_1D\u001b[0m\u001b[0;34m\u001b[0m\u001b[0;34m\u001b[0m\u001b[0m\n\u001b[1;32m      6\u001b[0m \u001b[0mwidth\u001b[0m \u001b[0;34m=\u001b[0m \u001b[0;36m5\u001b[0m\u001b[0;34m\u001b[0m\u001b[0;34m\u001b[0m\u001b[0m\n\u001b[0;32m----> 7\u001b[0;31m \u001b[0mdu_x\u001b[0m\u001b[0;34m,\u001b[0m \u001b[0mdu_xx\u001b[0m\u001b[0;34m,\u001b[0m \u001b[0mdu_t\u001b[0m \u001b[0;34m=\u001b[0m \u001b[0mChebyshevLocalFit_1D\u001b[0m\u001b[0;34m(\u001b[0m\u001b[0mu\u001b[0m\u001b[0;34m,\u001b[0m \u001b[0mx\u001b[0m\u001b[0;34m,\u001b[0m \u001b[0mt\u001b[0m\u001b[0;34m,\u001b[0m \u001b[0mdeg\u001b[0m\u001b[0;34m=\u001b[0m\u001b[0;36m3\u001b[0m\u001b[0;34m,\u001b[0m \u001b[0mwidth\u001b[0m\u001b[0;34m=\u001b[0m\u001b[0mwidth\u001b[0m\u001b[0;34m,\u001b[0m \u001b[0mdiff\u001b[0m\u001b[0;34m=\u001b[0m\u001b[0;36m2\u001b[0m\u001b[0;34m)\u001b[0m\u001b[0;34m\u001b[0m\u001b[0;34m\u001b[0m\u001b[0m\n\u001b[0m\u001b[1;32m      8\u001b[0m \u001b[0mu\u001b[0m \u001b[0;34m=\u001b[0m \u001b[0mu\u001b[0m\u001b[0;34m[\u001b[0m\u001b[0mwidth\u001b[0m\u001b[0;34m:\u001b[0m\u001b[0;34m(\u001b[0m\u001b[0;34m-\u001b[0m\u001b[0mwidth\u001b[0m\u001b[0;34m)\u001b[0m\u001b[0;34m,\u001b[0m \u001b[0mwidth\u001b[0m\u001b[0;34m:\u001b[0m\u001b[0;34m(\u001b[0m\u001b[0;34m-\u001b[0m\u001b[0mwidth\u001b[0m\u001b[0;34m)\u001b[0m\u001b[0;34m]\u001b[0m\u001b[0;34m\u001b[0m\u001b[0;34m\u001b[0m\u001b[0m\n\u001b[1;32m      9\u001b[0m \u001b[0;34m\u001b[0m\u001b[0m\n",
      "\u001b[0;32m~/devel/Machine_learning_dynamics/Bayesian/numerical_derivative.py\u001b[0m in \u001b[0;36mChebyshevLocalFit_1D\u001b[0;34m(u, x, t, deg, diff, width)\u001b[0m\n\u001b[1;32m    114\u001b[0m             \u001b[0;31m# x\u001b[0m\u001b[0;34m\u001b[0m\u001b[0;34m\u001b[0m\u001b[0;34m\u001b[0m\u001b[0m\n\u001b[1;32m    115\u001b[0m             \u001b[0mpoints\u001b[0m \u001b[0;34m=\u001b[0m \u001b[0mnp\u001b[0m\u001b[0;34m.\u001b[0m\u001b[0marange\u001b[0m\u001b[0;34m(\u001b[0m\u001b[0mi\u001b[0m\u001b[0;34m-\u001b[0m\u001b[0mwidth\u001b[0m\u001b[0;34m,\u001b[0m \u001b[0mi\u001b[0m\u001b[0;34m+\u001b[0m\u001b[0mwidth\u001b[0m\u001b[0;34m)\u001b[0m\u001b[0;34m\u001b[0m\u001b[0;34m\u001b[0m\u001b[0m\n\u001b[0;32m--> 116\u001b[0;31m             \u001b[0mpoly\u001b[0m \u001b[0;34m=\u001b[0m \u001b[0mnp\u001b[0m\u001b[0;34m.\u001b[0m\u001b[0mpolynomial\u001b[0m\u001b[0;34m.\u001b[0m\u001b[0mchebyshev\u001b[0m\u001b[0;34m.\u001b[0m\u001b[0mChebyshev\u001b[0m\u001b[0;34m.\u001b[0m\u001b[0mfit\u001b[0m\u001b[0;34m(\u001b[0m\u001b[0mx\u001b[0m\u001b[0;34m[\u001b[0m\u001b[0mpoints\u001b[0m\u001b[0;34m]\u001b[0m\u001b[0;34m,\u001b[0m\u001b[0mu\u001b[0m\u001b[0;34m[\u001b[0m\u001b[0mpoints\u001b[0m\u001b[0;34m,\u001b[0m\u001b[0mj\u001b[0m\u001b[0;34m]\u001b[0m\u001b[0;34m,\u001b[0m\u001b[0mdeg\u001b[0m\u001b[0;34m)\u001b[0m\u001b[0;34m\u001b[0m\u001b[0;34m\u001b[0m\u001b[0m\n\u001b[0m\u001b[1;32m    117\u001b[0m             \u001b[0mdu_x\u001b[0m\u001b[0;34m[\u001b[0m\u001b[0mi\u001b[0m\u001b[0;34m-\u001b[0m\u001b[0mwidth\u001b[0m\u001b[0;34m,\u001b[0m \u001b[0mj\u001b[0m\u001b[0;34m-\u001b[0m\u001b[0mwidth\u001b[0m\u001b[0;34m]\u001b[0m \u001b[0;34m=\u001b[0m \u001b[0mpoly\u001b[0m\u001b[0;34m.\u001b[0m\u001b[0mderiv\u001b[0m\u001b[0;34m(\u001b[0m\u001b[0mm\u001b[0m\u001b[0;34m=\u001b[0m\u001b[0;36m1\u001b[0m\u001b[0;34m)\u001b[0m\u001b[0;34m(\u001b[0m\u001b[0mx\u001b[0m\u001b[0;34m[\u001b[0m\u001b[0mi\u001b[0m\u001b[0;34m]\u001b[0m\u001b[0;34m)\u001b[0m\u001b[0;34m\u001b[0m\u001b[0;34m\u001b[0m\u001b[0m\n\u001b[1;32m    118\u001b[0m             \u001b[0;32mif\u001b[0m \u001b[0mdiff\u001b[0m \u001b[0;34m==\u001b[0m \u001b[0;36m2\u001b[0m\u001b[0;34m:\u001b[0m\u001b[0;34m\u001b[0m\u001b[0;34m\u001b[0m\u001b[0m\n",
      "\u001b[0;32m~/anaconda3/lib/python3.7/site-packages/numpy/polynomial/_polybase.py\u001b[0m in \u001b[0;36mfit\u001b[0;34m(cls, x, y, deg, domain, rcond, full, w, window)\u001b[0m\n\u001b[1;32m    890\u001b[0m \u001b[0;34m\u001b[0m\u001b[0m\n\u001b[1;32m    891\u001b[0m         \u001b[0mxnew\u001b[0m \u001b[0;34m=\u001b[0m \u001b[0mpu\u001b[0m\u001b[0;34m.\u001b[0m\u001b[0mmapdomain\u001b[0m\u001b[0;34m(\u001b[0m\u001b[0mx\u001b[0m\u001b[0;34m,\u001b[0m \u001b[0mdomain\u001b[0m\u001b[0;34m,\u001b[0m \u001b[0mwindow\u001b[0m\u001b[0;34m)\u001b[0m\u001b[0;34m\u001b[0m\u001b[0;34m\u001b[0m\u001b[0m\n\u001b[0;32m--> 892\u001b[0;31m         \u001b[0mres\u001b[0m \u001b[0;34m=\u001b[0m \u001b[0mcls\u001b[0m\u001b[0;34m.\u001b[0m\u001b[0m_fit\u001b[0m\u001b[0;34m(\u001b[0m\u001b[0mxnew\u001b[0m\u001b[0;34m,\u001b[0m \u001b[0my\u001b[0m\u001b[0;34m,\u001b[0m \u001b[0mdeg\u001b[0m\u001b[0;34m,\u001b[0m \u001b[0mw\u001b[0m\u001b[0;34m=\u001b[0m\u001b[0mw\u001b[0m\u001b[0;34m,\u001b[0m \u001b[0mrcond\u001b[0m\u001b[0;34m=\u001b[0m\u001b[0mrcond\u001b[0m\u001b[0;34m,\u001b[0m \u001b[0mfull\u001b[0m\u001b[0;34m=\u001b[0m\u001b[0mfull\u001b[0m\u001b[0;34m)\u001b[0m\u001b[0;34m\u001b[0m\u001b[0;34m\u001b[0m\u001b[0m\n\u001b[0m\u001b[1;32m    893\u001b[0m         \u001b[0;32mif\u001b[0m \u001b[0mfull\u001b[0m\u001b[0;34m:\u001b[0m\u001b[0;34m\u001b[0m\u001b[0;34m\u001b[0m\u001b[0m\n\u001b[1;32m    894\u001b[0m             \u001b[0;34m[\u001b[0m\u001b[0mcoef\u001b[0m\u001b[0;34m,\u001b[0m \u001b[0mstatus\u001b[0m\u001b[0;34m]\u001b[0m \u001b[0;34m=\u001b[0m \u001b[0mres\u001b[0m\u001b[0;34m\u001b[0m\u001b[0;34m\u001b[0m\u001b[0m\n",
      "\u001b[0;32m~/anaconda3/lib/python3.7/site-packages/numpy/polynomial/chebyshev.py\u001b[0m in \u001b[0;36mchebfit\u001b[0;34m(x, y, deg, rcond, full, w)\u001b[0m\n\u001b[1;32m   1645\u001b[0m \u001b[0;34m\u001b[0m\u001b[0m\n\u001b[1;32m   1646\u001b[0m     \"\"\"\n\u001b[0;32m-> 1647\u001b[0;31m     \u001b[0;32mreturn\u001b[0m \u001b[0mpu\u001b[0m\u001b[0;34m.\u001b[0m\u001b[0m_fit\u001b[0m\u001b[0;34m(\u001b[0m\u001b[0mchebvander\u001b[0m\u001b[0;34m,\u001b[0m \u001b[0mx\u001b[0m\u001b[0;34m,\u001b[0m \u001b[0my\u001b[0m\u001b[0;34m,\u001b[0m \u001b[0mdeg\u001b[0m\u001b[0;34m,\u001b[0m \u001b[0mrcond\u001b[0m\u001b[0;34m,\u001b[0m \u001b[0mfull\u001b[0m\u001b[0;34m,\u001b[0m \u001b[0mw\u001b[0m\u001b[0;34m)\u001b[0m\u001b[0;34m\u001b[0m\u001b[0;34m\u001b[0m\u001b[0m\n\u001b[0m\u001b[1;32m   1648\u001b[0m \u001b[0;34m\u001b[0m\u001b[0m\n\u001b[1;32m   1649\u001b[0m \u001b[0;34m\u001b[0m\u001b[0m\n",
      "\u001b[0;32m~/anaconda3/lib/python3.7/site-packages/numpy/polynomial/polyutils.py\u001b[0m in \u001b[0;36m_fit\u001b[0;34m(vander_f, x, y, deg, rcond, full, w)\u001b[0m\n\u001b[1;32m    669\u001b[0m \u001b[0;34m\u001b[0m\u001b[0m\n\u001b[1;32m    670\u001b[0m     \u001b[0;31m# Solve the least squares problem.\u001b[0m\u001b[0;34m\u001b[0m\u001b[0;34m\u001b[0m\u001b[0;34m\u001b[0m\u001b[0m\n\u001b[0;32m--> 671\u001b[0;31m     \u001b[0mc\u001b[0m\u001b[0;34m,\u001b[0m \u001b[0mresids\u001b[0m\u001b[0;34m,\u001b[0m \u001b[0mrank\u001b[0m\u001b[0;34m,\u001b[0m \u001b[0ms\u001b[0m \u001b[0;34m=\u001b[0m \u001b[0mnp\u001b[0m\u001b[0;34m.\u001b[0m\u001b[0mlinalg\u001b[0m\u001b[0;34m.\u001b[0m\u001b[0mlstsq\u001b[0m\u001b[0;34m(\u001b[0m\u001b[0mlhs\u001b[0m\u001b[0;34m.\u001b[0m\u001b[0mT\u001b[0m\u001b[0;34m/\u001b[0m\u001b[0mscl\u001b[0m\u001b[0;34m,\u001b[0m \u001b[0mrhs\u001b[0m\u001b[0;34m.\u001b[0m\u001b[0mT\u001b[0m\u001b[0;34m,\u001b[0m \u001b[0mrcond\u001b[0m\u001b[0;34m)\u001b[0m\u001b[0;34m\u001b[0m\u001b[0;34m\u001b[0m\u001b[0m\n\u001b[0m\u001b[1;32m    672\u001b[0m     \u001b[0mc\u001b[0m \u001b[0;34m=\u001b[0m \u001b[0;34m(\u001b[0m\u001b[0mc\u001b[0m\u001b[0;34m.\u001b[0m\u001b[0mT\u001b[0m\u001b[0;34m/\u001b[0m\u001b[0mscl\u001b[0m\u001b[0;34m)\u001b[0m\u001b[0;34m.\u001b[0m\u001b[0mT\u001b[0m\u001b[0;34m\u001b[0m\u001b[0;34m\u001b[0m\u001b[0m\n\u001b[1;32m    673\u001b[0m \u001b[0;34m\u001b[0m\u001b[0m\n",
      "\u001b[0;32m<__array_function__ internals>\u001b[0m in \u001b[0;36mlstsq\u001b[0;34m(*args, **kwargs)\u001b[0m\n",
      "\u001b[0;32m~/anaconda3/lib/python3.7/site-packages/numpy/linalg/linalg.py\u001b[0m in \u001b[0;36mlstsq\u001b[0;34m(a, b, rcond)\u001b[0m\n\u001b[1;32m   2266\u001b[0m         \u001b[0;31m# lapack can't handle n_rhs = 0 - so allocate the array one larger in that axis\u001b[0m\u001b[0;34m\u001b[0m\u001b[0;34m\u001b[0m\u001b[0;34m\u001b[0m\u001b[0m\n\u001b[1;32m   2267\u001b[0m         \u001b[0mb\u001b[0m \u001b[0;34m=\u001b[0m \u001b[0mzeros\u001b[0m\u001b[0;34m(\u001b[0m\u001b[0mb\u001b[0m\u001b[0;34m.\u001b[0m\u001b[0mshape\u001b[0m\u001b[0;34m[\u001b[0m\u001b[0;34m:\u001b[0m\u001b[0;34m-\u001b[0m\u001b[0;36m2\u001b[0m\u001b[0;34m]\u001b[0m \u001b[0;34m+\u001b[0m \u001b[0;34m(\u001b[0m\u001b[0mm\u001b[0m\u001b[0;34m,\u001b[0m \u001b[0mn_rhs\u001b[0m \u001b[0;34m+\u001b[0m \u001b[0;36m1\u001b[0m\u001b[0;34m)\u001b[0m\u001b[0;34m,\u001b[0m \u001b[0mdtype\u001b[0m\u001b[0;34m=\u001b[0m\u001b[0mb\u001b[0m\u001b[0;34m.\u001b[0m\u001b[0mdtype\u001b[0m\u001b[0;34m)\u001b[0m\u001b[0;34m\u001b[0m\u001b[0;34m\u001b[0m\u001b[0m\n\u001b[0;32m-> 2268\u001b[0;31m     \u001b[0mx\u001b[0m\u001b[0;34m,\u001b[0m \u001b[0mresids\u001b[0m\u001b[0;34m,\u001b[0m \u001b[0mrank\u001b[0m\u001b[0;34m,\u001b[0m \u001b[0ms\u001b[0m \u001b[0;34m=\u001b[0m \u001b[0mgufunc\u001b[0m\u001b[0;34m(\u001b[0m\u001b[0ma\u001b[0m\u001b[0;34m,\u001b[0m \u001b[0mb\u001b[0m\u001b[0;34m,\u001b[0m \u001b[0mrcond\u001b[0m\u001b[0;34m,\u001b[0m \u001b[0msignature\u001b[0m\u001b[0;34m=\u001b[0m\u001b[0msignature\u001b[0m\u001b[0;34m,\u001b[0m \u001b[0mextobj\u001b[0m\u001b[0;34m=\u001b[0m\u001b[0mextobj\u001b[0m\u001b[0;34m)\u001b[0m\u001b[0;34m\u001b[0m\u001b[0;34m\u001b[0m\u001b[0m\n\u001b[0m\u001b[1;32m   2269\u001b[0m     \u001b[0;32mif\u001b[0m \u001b[0mm\u001b[0m \u001b[0;34m==\u001b[0m \u001b[0;36m0\u001b[0m\u001b[0;34m:\u001b[0m\u001b[0;34m\u001b[0m\u001b[0;34m\u001b[0m\u001b[0m\n\u001b[1;32m   2270\u001b[0m         \u001b[0mx\u001b[0m\u001b[0;34m[\u001b[0m\u001b[0;34m...\u001b[0m\u001b[0;34m]\u001b[0m \u001b[0;34m=\u001b[0m \u001b[0;36m0\u001b[0m\u001b[0;34m\u001b[0m\u001b[0;34m\u001b[0m\u001b[0m\n",
      "\u001b[0;31mKeyboardInterrupt\u001b[0m: "
     ]
    }
   ],
   "source": [
    "# calculate derivatives and prepare data\n",
    "u = data['usol']\n",
    "t = np.squeeze(data['t'])\n",
    "x = np.squeeze(data['x'])\n",
    "from numerical_derivative import ChebyshevLocalFit_1D\n",
    "width = 5                \n",
    "du_x, du_xx, du_t = ChebyshevLocalFit_1D(u, x, t, deg=3, width=width, diff=2)\n",
    "u = u[width:(-width), width:(-width)]\n",
    "\n",
    "n_samples = 5000\n",
    "\n",
    "u = u.flatten()\n",
    "du_x = du_x.flatten()\n",
    "du_xx = du_xx.flatten()\n",
    "du_t = du_t.flatten()\n",
    "\n",
    "data = np.vstack([u,du_x,du_xx, du_t]).T\n",
    "\n",
    "np.random.seed(1001)\n",
    "\n",
    "np.random.shuffle(data)\n",
    "data = data[:n_samples]\n",
    "\n",
    "np.save('raw_data', data)"
   ]
  },
  {
   "cell_type": "code",
   "execution_count": 5,
   "metadata": {},
   "outputs": [],
   "source": [
    "data = np.load('raw_data.npy')"
   ]
  },
  {
   "cell_type": "code",
   "execution_count": 6,
   "metadata": {},
   "outputs": [],
   "source": [
    "dg = DataGenerator()"
   ]
  },
  {
   "cell_type": "code",
   "execution_count": 7,
   "metadata": {},
   "outputs": [
    {
     "data": {
      "text/plain": [
       "(5000, 3)"
      ]
     },
     "execution_count": 7,
     "metadata": {},
     "output_type": "execute_result"
    }
   ],
   "source": [
    "data[:,:-1].shape"
   ]
  },
  {
   "cell_type": "code",
   "execution_count": 8,
   "metadata": {
    "scrolled": true
   },
   "outputs": [],
   "source": [
    "X, names = dg(data[:,:-1], descriptions=['u','u_x','u_xx'] )"
   ]
  },
  {
   "cell_type": "code",
   "execution_count": 9,
   "metadata": {},
   "outputs": [
    {
     "data": {
      "text/plain": [
       "(5000, 19)"
      ]
     },
     "execution_count": 9,
     "metadata": {},
     "output_type": "execute_result"
    }
   ],
   "source": [
    "X.shape"
   ]
  },
  {
   "cell_type": "code",
   "execution_count": 10,
   "metadata": {},
   "outputs": [],
   "source": [
    "Y = data[:,-1]"
   ]
  },
  {
   "cell_type": "code",
   "execution_count": 11,
   "metadata": {},
   "outputs": [],
   "source": [
    "prior = ComplexityLogPrior(method='num_terms', simplicity_preference=1.)"
   ]
  },
  {
   "cell_type": "code",
   "execution_count": 12,
   "metadata": {},
   "outputs": [],
   "source": [
    "likelihood = GaussianLogLikelihood(X,Y)"
   ]
  },
  {
   "cell_type": "code",
   "execution_count": 13,
   "metadata": {},
   "outputs": [],
   "source": [
    "posterior = LogPosterior(prior, likelihood)"
   ]
  },
  {
   "cell_type": "code",
   "execution_count": 14,
   "metadata": {},
   "outputs": [],
   "source": [
    "import itertools"
   ]
  },
  {
   "cell_type": "code",
   "execution_count": 15,
   "metadata": {},
   "outputs": [],
   "source": [
    "init_coefs = generate_binary_coef(1, len(names))"
   ]
  },
  {
   "cell_type": "code",
   "execution_count": 16,
   "metadata": {},
   "outputs": [],
   "source": [
    "sequentialmc = SequentialMC(posterior=posterior,log_file='mc.csv')"
   ]
  },
  {
   "cell_type": "code",
   "execution_count": 17,
   "metadata": {},
   "outputs": [
    {
     "data": {
      "text/plain": [
       "[u,\n",
       " u_x,\n",
       " u_xx,\n",
       " u**2,\n",
       " u*u_x,\n",
       " u*u_xx,\n",
       " u_x**2,\n",
       " u_x*u_xx,\n",
       " u_xx**2,\n",
       " u**3,\n",
       " u**2*u_x,\n",
       " u**2*u_xx,\n",
       " u*u_x**2,\n",
       " u*u_x*u_xx,\n",
       " u*u_xx**2,\n",
       " u_x**3,\n",
       " u_x**2*u_xx,\n",
       " u_x*u_xx**2,\n",
       " u_xx**3]"
      ]
     },
     "execution_count": 17,
     "metadata": {},
     "output_type": "execute_result"
    }
   ],
   "source": [
    "names"
   ]
  },
  {
   "cell_type": "code",
   "execution_count": 18,
   "metadata": {},
   "outputs": [],
   "source": [
    "#init_coefs[0] = np.array([1,0,1,1,0,0,0,0,0,1,0,0,0,0,0,0,0,0,0])"
   ]
  },
  {
   "cell_type": "code",
   "execution_count": null,
   "metadata": {},
   "outputs": [
    {
     "name": "stdout",
     "output_type": "stream",
     "text": [
      "step: 0, beta:  0.000\n",
      "step: 1, beta:  0.000\n",
      "step: 2, beta:  0.000\n",
      "step: 3, beta:  0.000\n"
     ]
    }
   ],
   "source": [
    "pareto_set = sequentialmc(samples=init_coefs,beta0_nsteps=100,beta0to1_nsteps=100,beta1_nsteps=100, mcmc_nsteps=10,feature_descriptions=names )"
   ]
  },
  {
   "cell_type": "code",
   "execution_count": null,
   "metadata": {},
   "outputs": [],
   "source": [
    "array = pareto_set.to_array()"
   ]
  },
  {
   "cell_type": "code",
   "execution_count": null,
   "metadata": {},
   "outputs": [],
   "source": [
    "array"
   ]
  },
  {
   "cell_type": "code",
   "execution_count": 30,
   "metadata": {},
   "outputs": [
    {
     "data": {
      "image/png": "[encoded data removed]",
      "text/plain": [
       "<Figure size 576x432 with 1 Axes>"
      ]
     },
     "metadata": {
      "needs_background": "light"
     },
     "output_type": "display_data"
    }
   ],
   "source": [
    "pareto_set.plot()"
   ]
  },
  {
   "cell_type": "code",
   "execution_count": 21,
   "metadata": {},
   "outputs": [
    {
     "data": {
      "text/plain": [
       "ParetoSet([], key=<function ParetoSet.__init__.<locals>.<lambda> at 0x7f17a2a56290>)"
      ]
     },
     "execution_count": 21,
     "metadata": {},
     "output_type": "execute_result"
    }
   ],
   "source": [
    "samples"
   ]
  },
  {
   "cell_type": "code",
   "execution_count": 22,
   "metadata": {},
   "outputs": [],
   "source": [
    "data = pd.read_csv('mc.csv', header=0)"
   ]
  },
  {
   "cell_type": "code",
   "execution_count": 38,
   "metadata": {},
   "outputs": [],
   "source": [
    "a=np.array([3])"
   ]
  },
  {
   "cell_type": "code",
   "execution_count": 39,
   "metadata": {},
   "outputs": [
    {
     "data": {
      "text/plain": [
       "array([], dtype=int64)"
      ]
     },
     "execution_count": 39,
     "metadata": {},
     "output_type": "execute_result"
    }
   ],
   "source": [
    "a[:-1]"
   ]
  },
  {
   "cell_type": "code",
   "execution_count": 23,
   "metadata": {},
   "outputs": [
    {
     "data": {
      "text/html": [
       "<div>\n",
       "<style scoped>\n",
       "    .dataframe tbody tr th:only-of-type {\n",
       "        vertical-align: middle;\n",
       "    }\n",
       "\n",
       "    .dataframe tbody tr th {\n",
       "        vertical-align: top;\n",
       "    }\n",
       "\n",
       "    .dataframe thead th {\n",
       "        text-align: right;\n",
       "    }\n",
       "</style>\n",
       "<table border=\"1\" class=\"dataframe\">\n",
       "  <thead>\n",
       "    <tr style=\"text-align: right;\">\n",
       "      <th></th>\n",
       "      <th>step</th>\n",
       "      <th>sample 0</th>\n",
       "      <th>sample 1</th>\n",
       "      <th>sample 2</th>\n",
       "      <th>sample 3</th>\n",
       "      <th>sample 4</th>\n",
       "      <th>sample 5</th>\n",
       "      <th>sample 6</th>\n",
       "      <th>sample 7</th>\n",
       "      <th>sample 8</th>\n",
       "      <th>...</th>\n",
       "      <th>sample 10</th>\n",
       "      <th>sample 11</th>\n",
       "      <th>sample 12</th>\n",
       "      <th>sample 13</th>\n",
       "      <th>sample 14</th>\n",
       "      <th>sample 15</th>\n",
       "      <th>sample 16</th>\n",
       "      <th>sample 17</th>\n",
       "      <th>sample 18</th>\n",
       "      <th>sample 19</th>\n",
       "    </tr>\n",
       "  </thead>\n",
       "  <tbody>\n",
       "    <tr>\n",
       "      <td>0</td>\n",
       "      <td>0</td>\n",
       "      <td>-1.00537965213825*u**3 + 1.90786200584944*u**2...</td>\n",
       "      <td>0.0256409290831834*u - 0.0189620587969618</td>\n",
       "      <td>0.0083903660459691 - 3.9826135766061*u_x</td>\n",
       "      <td>8.59273690807373e-5 - 19.8992243645254*u_xx</td>\n",
       "      <td>0.0310490535813891*u**2 - 0.0221187261424073</td>\n",
       "      <td>-5.42192889102722*u*u_x + 0.00565546324669181</td>\n",
       "      <td>1.75646125885161*u*u_xx + 6.00656823463434e-5</td>\n",
       "      <td>0.00425961540935096 - 124.540124248242*u_x**2</td>\n",
       "      <td>-661.074920378391*u_x*u_xx + 5.75202422869897e-5</td>\n",
       "      <td>...</td>\n",
       "      <td>0.0327783226179635*u**3 - 0.0228756294487691</td>\n",
       "      <td>-5.50654789128108*u**2*u_x + 0.00383585874812367</td>\n",
       "      <td>19.4907350260109*u**2*u_xx + 0.000650383978770292</td>\n",
       "      <td>-211.979461179363*u*u_x**2 + 0.00341586092605491</td>\n",
       "      <td>354.744848288076*u*u_x*u_xx + 0.00014042516086...</td>\n",
       "      <td>-25465.5085045224*u*u_xx**2 + 0.00135803823039383</td>\n",
       "      <td>0.00249159540165444 - 3176.58589972123*u_x**3</td>\n",
       "      <td>-18478.9362363788*u_x**2*u_xx + 3.288174163164...</td>\n",
       "      <td>-753332.094247003*u_x*u_xx**2 + 0.001829867516...</td>\n",
       "      <td>8.80193678520384e-5 - 2884025.08265936*u_xx**3</td>\n",
       "    </tr>\n",
       "    <tr>\n",
       "      <td>1</td>\n",
       "      <td>1</td>\n",
       "      <td>-1.00420953786684*u**3 - 0.069735566190924*u**...</td>\n",
       "      <td>0.0945862029304471*u**3 - 60.6399386290718*u**...</td>\n",
       "      <td>-0.99234976113262*u**3 + 2.78035172780362*u**2...</td>\n",
       "      <td>-1.00120637328334*u**3 - 0.733491854699136*u**...</td>\n",
       "      <td>-1.00109201227204*u**3 + 0.0223807004669037*u*...</td>\n",
       "      <td>-1.01980564349505*u**3 - 0.431423721098334*u**...</td>\n",
       "      <td>-1.00249891449457*u**3 + 1.90504208469782*u**2...</td>\n",
       "      <td>-1.00314469837904*u**3 - 0.0523893953646391*u*...</td>\n",
       "      <td>-1.02156602470465*u**3 - 0.499718476728945*u**...</td>\n",
       "      <td>...</td>\n",
       "      <td>-1.02185379236712*u**3 - 0.556482859948088*u**...</td>\n",
       "      <td>-1.0029569202484*u**3 + 1.90458978837764*u**2 ...</td>\n",
       "      <td>-0.959166704628357*u**3 + 7.98977037464269*u**...</td>\n",
       "      <td>-0.994004013310043*u**3 - 14.1224244482928*u**...</td>\n",
       "      <td>-1.01223596298263*u**3 - 0.513142095500386*u**...</td>\n",
       "      <td>-0.997910945314483*u**3 + 1.24676443455419*u**...</td>\n",
       "      <td>59.49157911157*u**2*u_x + 8182.06356375692*u*u...</td>\n",
       "      <td>24.4792792231534*u**2*u_x + 0.744249572098142*...</td>\n",
       "      <td>-1.00140302537428*u**3 + 1.90215953894905*u**2...</td>\n",
       "      <td>-1.01155043048703*u**3 - 0.50364388538958*u**2...</td>\n",
       "    </tr>\n",
       "  </tbody>\n",
       "</table>\n",
       "<p>2 rows × 21 columns</p>\n",
       "</div>"
      ],
      "text/plain": [
       "   step                                           sample 0  \\\n",
       "0     0  -1.00537965213825*u**3 + 1.90786200584944*u**2...   \n",
       "1     1  -1.00420953786684*u**3 - 0.069735566190924*u**...   \n",
       "\n",
       "                                            sample 1  \\\n",
       "0          0.0256409290831834*u - 0.0189620587969618   \n",
       "1  0.0945862029304471*u**3 - 60.6399386290718*u**...   \n",
       "\n",
       "                                            sample 2  \\\n",
       "0           0.0083903660459691 - 3.9826135766061*u_x   \n",
       "1  -0.99234976113262*u**3 + 2.78035172780362*u**2...   \n",
       "\n",
       "                                            sample 3  \\\n",
       "0        8.59273690807373e-5 - 19.8992243645254*u_xx   \n",
       "1  -1.00120637328334*u**3 - 0.733491854699136*u**...   \n",
       "\n",
       "                                            sample 4  \\\n",
       "0       0.0310490535813891*u**2 - 0.0221187261424073   \n",
       "1  -1.00109201227204*u**3 + 0.0223807004669037*u*...   \n",
       "\n",
       "                                            sample 5  \\\n",
       "0      -5.42192889102722*u*u_x + 0.00565546324669181   \n",
       "1  -1.01980564349505*u**3 - 0.431423721098334*u**...   \n",
       "\n",
       "                                            sample 6  \\\n",
       "0      1.75646125885161*u*u_xx + 6.00656823463434e-5   \n",
       "1  -1.00249891449457*u**3 + 1.90504208469782*u**2...   \n",
       "\n",
       "                                            sample 7  \\\n",
       "0      0.00425961540935096 - 124.540124248242*u_x**2   \n",
       "1  -1.00314469837904*u**3 - 0.0523893953646391*u*...   \n",
       "\n",
       "                                            sample 8  ...  \\\n",
       "0   -661.074920378391*u_x*u_xx + 5.75202422869897e-5  ...   \n",
       "1  -1.02156602470465*u**3 - 0.499718476728945*u**...  ...   \n",
       "\n",
       "                                           sample 10  \\\n",
       "0       0.0327783226179635*u**3 - 0.0228756294487691   \n",
       "1  -1.02185379236712*u**3 - 0.556482859948088*u**...   \n",
       "\n",
       "                                           sample 11  \\\n",
       "0   -5.50654789128108*u**2*u_x + 0.00383585874812367   \n",
       "1  -1.0029569202484*u**3 + 1.90458978837764*u**2 ...   \n",
       "\n",
       "                                           sample 12  \\\n",
       "0  19.4907350260109*u**2*u_xx + 0.000650383978770292   \n",
       "1  -0.959166704628357*u**3 + 7.98977037464269*u**...   \n",
       "\n",
       "                                           sample 13  \\\n",
       "0   -211.979461179363*u*u_x**2 + 0.00341586092605491   \n",
       "1  -0.994004013310043*u**3 - 14.1224244482928*u**...   \n",
       "\n",
       "                                           sample 14  \\\n",
       "0  354.744848288076*u*u_x*u_xx + 0.00014042516086...   \n",
       "1  -1.01223596298263*u**3 - 0.513142095500386*u**...   \n",
       "\n",
       "                                           sample 15  \\\n",
       "0  -25465.5085045224*u*u_xx**2 + 0.00135803823039383   \n",
       "1  -0.997910945314483*u**3 + 1.24676443455419*u**...   \n",
       "\n",
       "                                           sample 16  \\\n",
       "0      0.00249159540165444 - 3176.58589972123*u_x**3   \n",
       "1  59.49157911157*u**2*u_x + 8182.06356375692*u*u...   \n",
       "\n",
       "                                           sample 17  \\\n",
       "0  -18478.9362363788*u_x**2*u_xx + 3.288174163164...   \n",
       "1  24.4792792231534*u**2*u_x + 0.744249572098142*...   \n",
       "\n",
       "                                           sample 18  \\\n",
       "0  -753332.094247003*u_x*u_xx**2 + 0.001829867516...   \n",
       "1  -1.00140302537428*u**3 + 1.90215953894905*u**2...   \n",
       "\n",
       "                                           sample 19  \n",
       "0     8.80193678520384e-5 - 2884025.08265936*u_xx**3  \n",
       "1  -1.01155043048703*u**3 - 0.50364388538958*u**2...  \n",
       "\n",
       "[2 rows x 21 columns]"
      ]
     },
     "execution_count": 23,
     "metadata": {},
     "output_type": "execute_result"
    }
   ],
   "source": [
    "data"
   ]
  }
 ],
 "metadata": {
  "kernelspec": {
   "display_name": "Python 3",
   "language": "python",
   "name": "python3"
  },
  "language_info": {
   "codemirror_mode": {
    "name": "ipython",
    "version": 3
   },
   "file_extension": ".py",
   "mimetype": "text/x-python",
   "name": "python",
   "nbconvert_exporter": "python",
   "pygments_lexer": "ipython3",
   "version": "3.7.4"
  }
 },
 "nbformat": 4,
 "nbformat_minor": 2
}
