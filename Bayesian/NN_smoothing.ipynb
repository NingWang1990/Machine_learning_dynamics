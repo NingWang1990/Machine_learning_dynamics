{
 "cells": [
  {
   "cell_type": "code",
   "execution_count": 1,
   "metadata": {},
   "outputs": [],
   "source": [
    "import numpy as np"
   ]
  },
  {
   "cell_type": "code",
   "execution_count": 2,
   "metadata": {},
   "outputs": [],
   "source": [
    "import matplotlib as mpl\n",
    "mpl.rcParams['figure.dpi'] = 200"
   ]
  },
  {
   "cell_type": "code",
   "execution_count": 3,
   "metadata": {},
   "outputs": [],
   "source": [
    "import scipy\n",
    "from scipy.io import loadmat\n",
    "from data_generator import DataGenerator"
   ]
  },
  {
   "cell_type": "code",
   "execution_count": 4,
   "metadata": {},
   "outputs": [],
   "source": [
    "from likelihood import GaussianLogLikelihood\n",
    "from prior import ComplexityLogPrior\n",
    "from posterior import LogPosterior\n",
    "from mcmc import MCMC\n",
    "from sequential_mc import SequentialMC\n",
    "from util import generate_binary_coef_random\n",
    "import pandas as pd\n",
    "import torch"
   ]
  },
  {
   "cell_type": "code",
   "execution_count": 5,
   "metadata": {},
   "outputs": [],
   "source": [
    "import matplotlib.pyplot as plt"
   ]
  },
  {
   "cell_type": "code",
   "execution_count": 6,
   "metadata": {},
   "outputs": [
    {
     "name": "stdout",
     "output_type": "stream",
     "text": [
      "In init py ['/talos/u/wangnisn/devel/Machine_learning_dynamics/Bayesian', '', '/mpcdf/soft/SLE_15/packages/x86_64/keras/anaconda_3_2019.03-2019.03/2.3.1/lib/python3.7/site-packages', '/mpcdf/soft/SLE_15/packages/skylake/tensorflow/gpu/anaconda_3_2019.03-2019.03-cuda_10.0-10.0.130/1.14.0/lib/python3.7/site-packages', '/mpcdf/soft/SLE_15/packages/skylake/pytorch/gpu/anaconda_3_2019.03-2019.03-cuda_10.0-10.0.130/1.2.0/lib/python3.7/site-packages', '/u/wangnisn/kaggle/defect_in_steel/version3/code/dummy_11a', '/mpcdf/soft/SLE_15/packages/x86_64/anaconda/3/2019.03/lib/python37.zip', '/mpcdf/soft/SLE_15/packages/x86_64/anaconda/3/2019.03/lib/python3.7', '/mpcdf/soft/SLE_15/packages/x86_64/anaconda/3/2019.03/lib/python3.7/lib-dynload', '/u/wangnisn/.local/lib/python3.7/site-packages', '/u/wangnisn/.local/lib/python3.7/site-packages/pystem-0.0.13-py3.7-linux-x86_64.egg', '/mpcdf/soft/SLE_15/packages/x86_64/anaconda/3/2019.03/lib/python3.7/site-packages', '/mpcdf/soft/SLE_15/packages/x86_64/anaconda/3/2019.03/lib/python3.7/site-packages/IPython/extensions', '/talos/u/wangnisn/.ipython']\n"
     ]
    },
    {
     "name": "stderr",
     "output_type": "stream",
     "text": [
      "WARNING: Logging before flag parsing goes to stderr.\n",
      "W0528 09:43:22.819103 47145081609600 __init__.py:308] Limited tf.compat.v2.summary API due to missing TensorBoard installation.\n",
      "W0528 09:43:22.870014 47145081609600 deprecation_wrapper.py:119] From /talos/u/wangnisn/devel/Machine_learning_dynamics/Bayesian/nn_smoothing_1D.py:13: The name tf.set_random_seed is deprecated. Please use tf.compat.v1.set_random_seed instead.\n",
      "\n"
     ]
    }
   ],
   "source": [
    "from nn_smoothing_1D import NNSmoothing"
   ]
  },
  {
   "cell_type": "code",
   "execution_count": 7,
   "metadata": {},
   "outputs": [],
   "source": [
    "data = loadmat('../data/phase_field_oneD_last641_filtered.mat')"
   ]
  },
  {
   "cell_type": "code",
   "execution_count": 8,
   "metadata": {},
   "outputs": [
    {
     "data": {
      "text/plain": [
       "(500, 641)"
      ]
     },
     "execution_count": 8,
     "metadata": {},
     "output_type": "execute_result"
    }
   ],
   "source": [
    "data['usol'].shape"
   ]
  },
  {
   "cell_type": "code",
   "execution_count": 9,
   "metadata": {},
   "outputs": [
    {
     "data": {
      "text/plain": [
       "<matplotlib.image.AxesImage at 0x2ae17c7ac630>"
      ]
     },
     "execution_count": 9,
     "metadata": {},
     "output_type": "execute_result"
    },
    {
     "data": {
      "image/png": "[encoded data removed]",
      "text/plain": [
       "<Figure size 432x288 with 1 Axes>"
      ]
     },
     "metadata": {
      "needs_background": "light"
     },
     "output_type": "display_data"
    }
   ],
   "source": [
    "plt.imshow(data['usol'])"
   ]
  },
  {
   "cell_type": "code",
   "execution_count": 10,
   "metadata": {},
   "outputs": [
    {
     "data": {
      "text/plain": [
       "(500, 641)"
      ]
     },
     "execution_count": 10,
     "metadata": {},
     "output_type": "execute_result"
    }
   ],
   "source": [
    "data['usol'].shape"
   ]
  },
  {
   "cell_type": "code",
   "execution_count": 11,
   "metadata": {},
   "outputs": [],
   "source": [
    "# calculate derivatives and prepare data\n",
    "u = data['usol']\n",
    "t = np.squeeze(data['t'])\n",
    "x = np.squeeze(data['x'])"
   ]
  },
  {
   "cell_type": "code",
   "execution_count": 12,
   "metadata": {},
   "outputs": [
    {
     "data": {
      "text/plain": [
       "(500, 641)"
      ]
     },
     "execution_count": 12,
     "metadata": {},
     "output_type": "execute_result"
    }
   ],
   "source": [
    "u.shape"
   ]
  },
  {
   "cell_type": "code",
   "execution_count": 13,
   "metadata": {},
   "outputs": [],
   "source": [
    "x_mesh, t_mesh = np.meshgrid(x,t,indexing='ij')"
   ]
  },
  {
   "cell_type": "code",
   "execution_count": 14,
   "metadata": {},
   "outputs": [],
   "source": [
    "x_train = np.expand_dims( x_mesh.flatten(),axis=1)"
   ]
  },
  {
   "cell_type": "code",
   "execution_count": 15,
   "metadata": {},
   "outputs": [],
   "source": [
    "t_train = np.expand_dims(t_mesh.flatten(),axis=1)"
   ]
  },
  {
   "cell_type": "code",
   "execution_count": 16,
   "metadata": {},
   "outputs": [],
   "source": [
    "y_train = np.expand_dims(u.flatten(),axis=1)"
   ]
  },
  {
   "cell_type": "code",
   "execution_count": 19,
   "metadata": {},
   "outputs": [],
   "source": [
    "layers = [2, 20, 20, 20, 20, 20, 20, 20, 20, 1]"
   ]
  },
  {
   "cell_type": "code",
   "execution_count": 20,
   "metadata": {},
   "outputs": [
    {
     "name": "stderr",
     "output_type": "stream",
     "text": [
      "W0528 09:47:23.465712 47145081609600 lazy_loader.py:50] \n",
      "The TensorFlow contrib module will not be included in TensorFlow 2.0.\n",
      "For more information, please see:\n",
      "  * https://github.com/tensorflow/community/blob/master/rfcs/20180907-contrib-sunset.md\n",
      "  * https://github.com/tensorflow/addons\n",
      "  * https://github.com/tensorflow/io (for I/O related ops)\n",
      "If you depend on functionality not listed there, please file an issue.\n",
      "\n",
      "W0528 09:47:26.982194 47145081609600 deprecation_wrapper.py:119] From /talos/u/wangnisn/devel/Machine_learning_dynamics/Bayesian/nn_smoothing_1D.py:63: The name tf.train.AdamOptimizer is deprecated. Please use tf.compat.v1.train.AdamOptimizer instead.\n",
      "\n"
     ]
    }
   ],
   "source": [
    "nnsmooth = NNSmoothing(x=x_train, t=t_train,u=y_train,layers=layers,alpha=1.0)"
   ]
  },
  {
   "cell_type": "code",
   "execution_count": null,
   "metadata": {},
   "outputs": [
    {
     "name": "stdout",
     "output_type": "stream",
     "text": [
      "It: 0, Loss: 1.489e+05, Time: 3.90\n",
      "It: 10, Loss: 5.286e+04, Time: 1.94\n",
      "It: 20, Loss: 3.201e+04, Time: 1.94\n",
      "It: 30, Loss: 2.418e+04, Time: 1.94\n",
      "It: 40, Loss: 2.465e+04, Time: 1.95\n",
      "It: 50, Loss: 2.319e+04, Time: 1.95\n",
      "It: 60, Loss: 2.276e+04, Time: 1.96\n",
      "It: 70, Loss: 2.228e+04, Time: 1.95\n",
      "It: 80, Loss: 2.161e+04, Time: 1.94\n",
      "It: 90, Loss: 2.071e+04, Time: 1.95\n",
      "It: 100, Loss: 1.930e+04, Time: 1.94\n",
      "It: 110, Loss: 1.702e+04, Time: 1.94\n",
      "It: 120, Loss: 1.377e+04, Time: 1.96\n",
      "It: 130, Loss: 1.053e+04, Time: 1.94\n",
      "It: 140, Loss: 9.002e+03, Time: 1.94\n",
      "It: 150, Loss: 8.539e+03, Time: 1.96\n",
      "It: 160, Loss: 8.136e+03, Time: 1.94\n",
      "It: 170, Loss: 7.731e+03, Time: 1.96\n",
      "It: 180, Loss: 7.401e+03, Time: 1.95\n",
      "It: 190, Loss: 7.087e+03, Time: 1.94\n",
      "It: 200, Loss: 6.807e+03, Time: 1.95\n",
      "It: 210, Loss: 6.575e+03, Time: 1.94\n",
      "It: 220, Loss: 6.394e+03, Time: 1.94\n",
      "It: 230, Loss: 6.259e+03, Time: 1.92\n",
      "It: 240, Loss: 6.161e+03, Time: 1.94\n",
      "It: 250, Loss: 6.088e+03, Time: 1.93\n",
      "It: 260, Loss: 6.029e+03, Time: 1.93\n",
      "It: 270, Loss: 5.975e+03, Time: 1.93\n",
      "It: 280, Loss: 5.921e+03, Time: 1.93\n",
      "It: 290, Loss: 5.864e+03, Time: 1.93\n",
      "It: 300, Loss: 5.800e+03, Time: 1.93\n",
      "It: 310, Loss: 5.729e+03, Time: 1.93\n",
      "It: 320, Loss: 5.647e+03, Time: 1.94\n",
      "It: 330, Loss: 5.553e+03, Time: 1.93\n",
      "It: 340, Loss: 5.443e+03, Time: 1.93\n",
      "It: 350, Loss: 5.314e+03, Time: 1.93\n",
      "It: 360, Loss: 5.162e+03, Time: 1.92\n",
      "It: 370, Loss: 4.984e+03, Time: 1.95\n",
      "It: 380, Loss: 4.776e+03, Time: 1.93\n",
      "It: 390, Loss: 4.543e+03, Time: 1.94\n",
      "It: 400, Loss: 4.294e+03, Time: 2.26\n",
      "It: 410, Loss: 4.056e+03, Time: 1.93\n",
      "It: 420, Loss: 3.858e+03, Time: 1.93\n",
      "It: 430, Loss: 3.713e+03, Time: 1.93\n",
      "It: 440, Loss: 3.605e+03, Time: 1.95\n",
      "It: 450, Loss: 3.506e+03, Time: 1.93\n",
      "It: 460, Loss: 3.409e+03, Time: 1.93\n",
      "It: 470, Loss: 3.316e+03, Time: 1.93\n",
      "It: 480, Loss: 3.225e+03, Time: 1.94\n",
      "It: 490, Loss: 3.139e+03, Time: 1.93\n",
      "It: 500, Loss: 3.056e+03, Time: 1.93\n",
      "It: 510, Loss: 2.977e+03, Time: 1.93\n",
      "It: 520, Loss: 2.903e+03, Time: 1.92\n",
      "It: 530, Loss: 2.834e+03, Time: 1.94\n",
      "It: 540, Loss: 2.770e+03, Time: 1.94\n",
      "It: 550, Loss: 2.711e+03, Time: 1.93\n",
      "It: 560, Loss: 2.658e+03, Time: 1.93\n",
      "It: 570, Loss: 2.610e+03, Time: 1.93\n",
      "It: 580, Loss: 2.567e+03, Time: 1.93\n",
      "It: 590, Loss: 2.528e+03, Time: 1.93\n",
      "It: 600, Loss: 2.494e+03, Time: 1.93\n",
      "It: 610, Loss: 2.462e+03, Time: 1.94\n",
      "It: 620, Loss: 2.434e+03, Time: 1.94\n",
      "It: 630, Loss: 2.408e+03, Time: 1.93\n",
      "It: 640, Loss: 2.384e+03, Time: 1.94\n",
      "It: 650, Loss: 2.362e+03, Time: 1.93\n",
      "It: 660, Loss: 2.340e+03, Time: 1.94\n",
      "It: 670, Loss: 2.320e+03, Time: 1.93\n",
      "It: 680, Loss: 2.300e+03, Time: 1.93\n",
      "It: 690, Loss: 2.280e+03, Time: 1.93\n",
      "It: 700, Loss: 2.261e+03, Time: 1.93\n",
      "It: 710, Loss: 2.242e+03, Time: 1.93\n",
      "It: 720, Loss: 2.224e+03, Time: 1.94\n",
      "It: 730, Loss: 2.206e+03, Time: 1.93\n",
      "It: 740, Loss: 2.187e+03, Time: 1.93\n",
      "It: 750, Loss: 2.170e+03, Time: 1.93\n",
      "It: 760, Loss: 2.152e+03, Time: 1.93\n",
      "It: 770, Loss: 2.135e+03, Time: 1.94\n",
      "It: 780, Loss: 2.118e+03, Time: 1.94\n",
      "It: 790, Loss: 2.114e+03, Time: 1.93\n",
      "It: 800, Loss: 2.087e+03, Time: 1.94\n",
      "It: 810, Loss: 2.071e+03, Time: 1.93\n",
      "It: 820, Loss: 2.054e+03, Time: 1.93\n",
      "It: 830, Loss: 2.039e+03, Time: 1.93\n",
      "It: 840, Loss: 2.025e+03, Time: 1.94\n",
      "It: 850, Loss: 2.011e+03, Time: 1.93\n",
      "It: 860, Loss: 1.997e+03, Time: 1.93\n",
      "It: 870, Loss: 1.984e+03, Time: 1.93\n",
      "It: 880, Loss: 1.972e+03, Time: 1.93\n",
      "It: 890, Loss: 1.960e+03, Time: 1.93\n",
      "It: 900, Loss: 1.948e+03, Time: 1.94\n",
      "It: 910, Loss: 1.937e+03, Time: 1.93\n",
      "It: 920, Loss: 1.926e+03, Time: 1.93\n",
      "It: 930, Loss: 1.917e+03, Time: 1.93\n",
      "It: 940, Loss: 1.916e+03, Time: 1.93\n",
      "It: 950, Loss: 1.902e+03, Time: 1.93\n",
      "It: 960, Loss: 1.887e+03, Time: 1.94\n",
      "It: 970, Loss: 1.879e+03, Time: 2.25\n",
      "It: 980, Loss: 1.870e+03, Time: 1.93\n",
      "It: 990, Loss: 1.861e+03, Time: 1.93\n",
      "It: 1000, Loss: 1.853e+03, Time: 1.93\n",
      "It: 1010, Loss: 1.845e+03, Time: 1.93\n",
      "It: 1020, Loss: 1.837e+03, Time: 1.95\n",
      "It: 1030, Loss: 1.830e+03, Time: 1.93\n",
      "It: 1040, Loss: 1.823e+03, Time: 1.94\n",
      "It: 1050, Loss: 1.816e+03, Time: 1.93\n",
      "It: 1060, Loss: 1.809e+03, Time: 1.93\n",
      "It: 1070, Loss: 1.802e+03, Time: 1.93\n",
      "It: 1080, Loss: 1.799e+03, Time: 1.94\n",
      "It: 1090, Loss: 1.793e+03, Time: 1.92\n",
      "It: 1100, Loss: 1.792e+03, Time: 1.92\n",
      "It: 1110, Loss: 1.781e+03, Time: 1.94\n",
      "It: 1120, Loss: 1.773e+03, Time: 1.93\n",
      "It: 1130, Loss: 1.767e+03, Time: 1.93\n",
      "It: 1140, Loss: 1.762e+03, Time: 1.92\n",
      "It: 1150, Loss: 1.757e+03, Time: 1.93\n",
      "It: 1160, Loss: 1.753e+03, Time: 1.93\n",
      "It: 1170, Loss: 1.748e+03, Time: 1.93\n",
      "It: 1180, Loss: 1.744e+03, Time: 1.93\n",
      "It: 1190, Loss: 1.740e+03, Time: 1.93\n",
      "It: 1200, Loss: 1.737e+03, Time: 1.93\n",
      "It: 1210, Loss: 1.733e+03, Time: 1.94\n",
      "It: 1220, Loss: 1.730e+03, Time: 1.93\n",
      "It: 1230, Loss: 1.727e+03, Time: 1.93\n",
      "It: 1240, Loss: 1.724e+03, Time: 1.93\n",
      "It: 1250, Loss: 1.721e+03, Time: 1.93\n",
      "It: 1260, Loss: 1.736e+03, Time: 1.93\n",
      "It: 1270, Loss: 1.736e+03, Time: 1.92\n",
      "It: 1280, Loss: 1.714e+03, Time: 1.93\n",
      "It: 1290, Loss: 1.711e+03, Time: 1.93\n",
      "It: 1300, Loss: 1.709e+03, Time: 1.93\n",
      "It: 1310, Loss: 1.707e+03, Time: 1.93\n",
      "It: 1320, Loss: 1.704e+03, Time: 1.93\n",
      "It: 1330, Loss: 1.702e+03, Time: 1.94\n",
      "It: 1340, Loss: 1.700e+03, Time: 1.94\n",
      "It: 1350, Loss: 1.698e+03, Time: 1.93\n",
      "It: 1360, Loss: 1.697e+03, Time: 1.92\n",
      "It: 1370, Loss: 1.695e+03, Time: 1.93\n",
      "It: 1380, Loss: 1.694e+03, Time: 1.93\n",
      "It: 1390, Loss: 1.692e+03, Time: 1.93\n",
      "It: 1400, Loss: 1.691e+03, Time: 1.95\n",
      "It: 1410, Loss: 1.689e+03, Time: 1.93\n",
      "It: 1420, Loss: 1.688e+03, Time: 1.93\n",
      "It: 1430, Loss: 1.687e+03, Time: 1.94\n",
      "It: 1440, Loss: 1.685e+03, Time: 1.93\n",
      "It: 1450, Loss: 1.685e+03, Time: 1.93\n",
      "It: 1460, Loss: 1.739e+03, Time: 1.94\n",
      "It: 1470, Loss: 1.685e+03, Time: 1.93\n",
      "It: 1480, Loss: 1.681e+03, Time: 1.94\n",
      "It: 1490, Loss: 1.681e+03, Time: 1.93\n",
      "It: 1500, Loss: 1.679e+03, Time: 1.93\n",
      "It: 1510, Loss: 1.678e+03, Time: 1.93\n",
      "It: 1520, Loss: 1.677e+03, Time: 2.27\n",
      "It: 1530, Loss: 1.676e+03, Time: 1.92\n",
      "It: 1540, Loss: 1.675e+03, Time: 1.93\n",
      "It: 1550, Loss: 1.674e+03, Time: 1.94\n",
      "It: 1560, Loss: 1.673e+03, Time: 1.93\n",
      "It: 1570, Loss: 1.672e+03, Time: 1.93\n",
      "It: 1580, Loss: 1.671e+03, Time: 1.93\n",
      "It: 1590, Loss: 1.670e+03, Time: 1.93\n",
      "It: 1600, Loss: 1.670e+03, Time: 1.93\n",
      "It: 1610, Loss: 1.669e+03, Time: 1.93\n",
      "It: 1620, Loss: 1.668e+03, Time: 1.93\n",
      "It: 1630, Loss: 1.667e+03, Time: 1.93\n",
      "It: 1640, Loss: 1.666e+03, Time: 1.93\n",
      "It: 1650, Loss: 1.666e+03, Time: 1.93\n",
      "It: 1660, Loss: 1.665e+03, Time: 1.93\n",
      "It: 1670, Loss: 1.693e+03, Time: 1.94\n",
      "It: 1680, Loss: 1.704e+03, Time: 1.93\n",
      "It: 1690, Loss: 1.676e+03, Time: 1.94\n",
      "It: 1700, Loss: 1.667e+03, Time: 1.93\n",
      "It: 1710, Loss: 1.663e+03, Time: 1.92\n",
      "It: 1720, Loss: 1.661e+03, Time: 1.93\n",
      "It: 1730, Loss: 1.660e+03, Time: 1.94\n",
      "It: 1740, Loss: 1.659e+03, Time: 1.93\n",
      "It: 1750, Loss: 1.658e+03, Time: 1.93\n",
      "It: 1760, Loss: 1.658e+03, Time: 1.93\n",
      "It: 1770, Loss: 1.657e+03, Time: 1.92\n",
      "It: 1780, Loss: 1.656e+03, Time: 1.93\n",
      "It: 1790, Loss: 1.655e+03, Time: 1.94\n",
      "It: 1800, Loss: 1.655e+03, Time: 1.94\n",
      "It: 1810, Loss: 1.654e+03, Time: 1.92\n",
      "It: 1820, Loss: 1.653e+03, Time: 1.93\n",
      "It: 1830, Loss: 1.653e+03, Time: 1.93\n",
      "It: 1840, Loss: 1.652e+03, Time: 1.93\n",
      "It: 1850, Loss: 1.651e+03, Time: 1.93\n",
      "It: 1860, Loss: 1.650e+03, Time: 1.94\n",
      "It: 1870, Loss: 1.650e+03, Time: 1.92\n",
      "It: 1880, Loss: 1.649e+03, Time: 1.92\n",
      "It: 1890, Loss: 1.648e+03, Time: 1.94\n",
      "It: 1900, Loss: 1.648e+03, Time: 1.93\n",
      "It: 1910, Loss: 1.647e+03, Time: 1.92\n",
      "It: 1920, Loss: 1.646e+03, Time: 1.92\n",
      "It: 1930, Loss: 1.672e+03, Time: 1.93\n",
      "It: 1940, Loss: 1.692e+03, Time: 1.93\n",
      "It: 1950, Loss: 1.659e+03, Time: 1.93\n",
      "It: 1960, Loss: 1.649e+03, Time: 1.92\n",
      "It: 1970, Loss: 1.645e+03, Time: 1.93\n",
      "It: 1980, Loss: 1.643e+03, Time: 1.94\n",
      "It: 1990, Loss: 1.641e+03, Time: 1.93\n",
      "It: 2000, Loss: 1.641e+03, Time: 1.93\n",
      "It: 2010, Loss: 1.640e+03, Time: 1.93\n",
      "It: 2020, Loss: 1.639e+03, Time: 1.93\n",
      "It: 2030, Loss: 1.638e+03, Time: 1.94\n",
      "It: 2040, Loss: 1.638e+03, Time: 1.93\n",
      "It: 2050, Loss: 1.637e+03, Time: 1.93\n",
      "It: 2060, Loss: 1.636e+03, Time: 1.93\n",
      "It: 2070, Loss: 1.635e+03, Time: 2.26\n",
      "It: 2080, Loss: 1.635e+03, Time: 1.92\n",
      "It: 2090, Loss: 1.634e+03, Time: 1.94\n",
      "It: 2100, Loss: 1.633e+03, Time: 1.94\n",
      "It: 2110, Loss: 1.632e+03, Time: 1.92\n",
      "It: 2120, Loss: 1.631e+03, Time: 1.93\n",
      "It: 2130, Loss: 1.631e+03, Time: 1.93\n",
      "It: 2140, Loss: 1.630e+03, Time: 1.95\n",
      "It: 2150, Loss: 1.629e+03, Time: 1.93\n",
      "It: 2160, Loss: 1.628e+03, Time: 1.93\n",
      "It: 2170, Loss: 1.627e+03, Time: 1.93\n",
      "It: 2180, Loss: 1.627e+03, Time: 1.92\n"
     ]
    },
    {
     "name": "stdout",
     "output_type": "stream",
     "text": [
      "It: 2190, Loss: 1.626e+03, Time: 1.93\n",
      "It: 2200, Loss: 1.625e+03, Time: 1.93\n",
      "It: 2210, Loss: 1.714e+03, Time: 1.93\n",
      "It: 2220, Loss: 1.628e+03, Time: 1.93\n",
      "It: 2230, Loss: 1.623e+03, Time: 1.93\n",
      "It: 2240, Loss: 1.623e+03, Time: 1.93\n",
      "It: 2250, Loss: 1.622e+03, Time: 1.93\n",
      "It: 2260, Loss: 1.621e+03, Time: 1.93\n",
      "It: 2270, Loss: 1.619e+03, Time: 1.93\n",
      "It: 2280, Loss: 1.618e+03, Time: 1.94\n",
      "It: 2290, Loss: 1.617e+03, Time: 1.93\n",
      "It: 2300, Loss: 1.617e+03, Time: 1.93\n",
      "It: 2310, Loss: 1.616e+03, Time: 1.93\n",
      "It: 2320, Loss: 1.615e+03, Time: 1.93\n",
      "It: 2330, Loss: 1.614e+03, Time: 1.93\n",
      "It: 2340, Loss: 1.613e+03, Time: 1.92\n",
      "It: 2350, Loss: 1.612e+03, Time: 1.93\n",
      "It: 2360, Loss: 1.611e+03, Time: 1.93\n",
      "It: 2370, Loss: 1.610e+03, Time: 1.93\n",
      "It: 2380, Loss: 1.609e+03, Time: 1.93\n",
      "It: 2390, Loss: 1.608e+03, Time: 1.94\n",
      "It: 2400, Loss: 1.607e+03, Time: 1.94\n",
      "It: 2410, Loss: 1.606e+03, Time: 1.92\n",
      "It: 2420, Loss: 1.605e+03, Time: 1.93\n",
      "It: 2430, Loss: 1.604e+03, Time: 1.94\n",
      "It: 2440, Loss: 1.603e+03, Time: 1.92\n",
      "It: 2450, Loss: 1.602e+03, Time: 1.94\n",
      "It: 2460, Loss: 1.601e+03, Time: 1.93\n",
      "It: 2470, Loss: 1.599e+03, Time: 1.94\n",
      "It: 2480, Loss: 1.598e+03, Time: 1.93\n",
      "It: 2490, Loss: 1.597e+03, Time: 1.93\n",
      "It: 2500, Loss: 1.601e+03, Time: 1.94\n",
      "It: 2510, Loss: 1.610e+03, Time: 1.92\n",
      "It: 2520, Loss: 1.606e+03, Time: 1.93\n",
      "It: 2530, Loss: 1.594e+03, Time: 1.93\n",
      "It: 2540, Loss: 1.592e+03, Time: 1.94\n",
      "It: 2550, Loss: 1.590e+03, Time: 1.93\n",
      "It: 2560, Loss: 1.589e+03, Time: 1.93\n",
      "It: 2570, Loss: 1.587e+03, Time: 1.92\n",
      "It: 2580, Loss: 1.586e+03, Time: 1.93\n",
      "It: 2590, Loss: 1.585e+03, Time: 1.93\n",
      "It: 2600, Loss: 1.583e+03, Time: 1.94\n",
      "It: 2610, Loss: 1.582e+03, Time: 1.92\n",
      "It: 2620, Loss: 1.580e+03, Time: 1.93\n",
      "It: 2630, Loss: 1.579e+03, Time: 1.93\n",
      "It: 2640, Loss: 1.577e+03, Time: 1.93\n",
      "It: 2650, Loss: 1.576e+03, Time: 1.94\n",
      "It: 2660, Loss: 1.574e+03, Time: 2.27\n",
      "It: 2670, Loss: 1.573e+03, Time: 1.94\n",
      "It: 2680, Loss: 1.571e+03, Time: 1.93\n",
      "It: 2690, Loss: 1.569e+03, Time: 1.94\n",
      "It: 2700, Loss: 1.567e+03, Time: 1.93\n",
      "It: 2710, Loss: 1.566e+03, Time: 1.93\n",
      "It: 2720, Loss: 1.564e+03, Time: 1.93\n",
      "It: 2730, Loss: 1.563e+03, Time: 1.93\n",
      "It: 2740, Loss: 1.570e+03, Time: 1.93\n",
      "It: 2750, Loss: 1.565e+03, Time: 1.92\n",
      "It: 2760, Loss: 1.559e+03, Time: 1.93\n",
      "It: 2770, Loss: 1.555e+03, Time: 1.93\n",
      "It: 2780, Loss: 1.552e+03, Time: 1.94\n",
      "It: 2790, Loss: 1.550e+03, Time: 1.93\n",
      "It: 2800, Loss: 1.548e+03, Time: 1.94\n",
      "It: 2810, Loss: 1.577e+03, Time: 1.94\n",
      "It: 2820, Loss: 1.559e+03, Time: 1.93\n",
      "It: 2830, Loss: 1.545e+03, Time: 1.93\n",
      "It: 2840, Loss: 1.539e+03, Time: 1.94\n",
      "It: 2850, Loss: 1.536e+03, Time: 1.93\n",
      "It: 2860, Loss: 1.533e+03, Time: 1.93\n",
      "It: 2870, Loss: 1.530e+03, Time: 1.93\n",
      "It: 2880, Loss: 1.527e+03, Time: 1.94\n",
      "It: 2890, Loss: 1.524e+03, Time: 1.92\n",
      "It: 2900, Loss: 1.521e+03, Time: 1.92\n",
      "It: 2910, Loss: 1.523e+03, Time: 1.93\n",
      "It: 2920, Loss: 1.518e+03, Time: 1.93\n",
      "It: 2930, Loss: 1.512e+03, Time: 1.92\n",
      "It: 2940, Loss: 1.507e+03, Time: 1.93\n",
      "It: 2950, Loss: 1.507e+03, Time: 1.93\n",
      "It: 2960, Loss: 1.531e+03, Time: 1.93\n",
      "It: 2970, Loss: 1.505e+03, Time: 1.93\n",
      "It: 2980, Loss: 1.496e+03, Time: 1.92\n",
      "It: 2990, Loss: 1.490e+03, Time: 1.92\n",
      "It: 3000, Loss: 1.483e+03, Time: 1.93\n",
      "It: 3010, Loss: 1.477e+03, Time: 1.93\n",
      "It: 3020, Loss: 1.474e+03, Time: 1.92\n",
      "It: 3030, Loss: 1.469e+03, Time: 1.94\n",
      "It: 3040, Loss: 1.473e+03, Time: 1.94\n",
      "It: 3050, Loss: 1.466e+03, Time: 1.93\n",
      "It: 3060, Loss: 1.454e+03, Time: 1.93\n",
      "It: 3070, Loss: 1.446e+03, Time: 1.93\n",
      "It: 3080, Loss: 1.439e+03, Time: 1.93\n",
      "It: 3090, Loss: 1.436e+03, Time: 1.94\n",
      "It: 3100, Loss: 1.453e+03, Time: 1.93\n",
      "It: 3110, Loss: 1.431e+03, Time: 1.93\n",
      "It: 3120, Loss: 1.416e+03, Time: 1.93\n",
      "It: 3130, Loss: 1.405e+03, Time: 1.93\n",
      "It: 3140, Loss: 1.397e+03, Time: 1.93\n",
      "It: 3150, Loss: 1.389e+03, Time: 1.94\n",
      "It: 3160, Loss: 1.414e+03, Time: 1.93\n",
      "It: 3170, Loss: 1.395e+03, Time: 1.93\n",
      "It: 3180, Loss: 1.364e+03, Time: 1.93\n",
      "It: 3190, Loss: 1.354e+03, Time: 1.93\n",
      "It: 3200, Loss: 1.344e+03, Time: 1.94\n",
      "It: 3210, Loss: 1.336e+03, Time: 1.93\n",
      "It: 3220, Loss: 1.353e+03, Time: 2.18\n",
      "It: 3230, Loss: 1.346e+03, Time: 1.99\n",
      "It: 3240, Loss: 1.304e+03, Time: 1.93\n",
      "It: 3250, Loss: 1.298e+03, Time: 1.94\n",
      "It: 3260, Loss: 1.283e+03, Time: 1.93\n",
      "It: 3270, Loss: 1.272e+03, Time: 1.93\n",
      "It: 3280, Loss: 1.288e+03, Time: 1.93\n",
      "It: 3290, Loss: 1.272e+03, Time: 1.93\n",
      "It: 3300, Loss: 1.247e+03, Time: 1.93\n",
      "It: 3310, Loss: 1.230e+03, Time: 1.92\n",
      "It: 3320, Loss: 1.219e+03, Time: 1.93\n",
      "It: 3330, Loss: 1.266e+03, Time: 1.93\n",
      "It: 3340, Loss: 1.202e+03, Time: 1.92\n",
      "It: 3350, Loss: 1.197e+03, Time: 1.92\n",
      "It: 3360, Loss: 1.173e+03, Time: 1.93\n",
      "It: 3370, Loss: 1.163e+03, Time: 1.93\n",
      "It: 3380, Loss: 1.160e+03, Time: 1.93\n",
      "It: 3390, Loss: 1.141e+03, Time: 1.93\n",
      "It: 3400, Loss: 1.130e+03, Time: 1.93\n",
      "It: 3410, Loss: 1.122e+03, Time: 1.93\n",
      "It: 3420, Loss: 1.138e+03, Time: 1.93\n",
      "It: 3430, Loss: 1.116e+03, Time: 1.92\n",
      "It: 3440, Loss: 1.096e+03, Time: 1.93\n",
      "It: 3450, Loss: 1.079e+03, Time: 1.94\n",
      "It: 3460, Loss: 1.073e+03, Time: 1.93\n",
      "It: 3470, Loss: 1.088e+03, Time: 1.93\n",
      "It: 3480, Loss: 1.055e+03, Time: 1.94\n",
      "It: 3490, Loss: 1.044e+03, Time: 1.93\n",
      "It: 3500, Loss: 1.085e+03, Time: 1.93\n",
      "It: 3510, Loss: 1.023e+03, Time: 1.92\n",
      "It: 3520, Loss: 1.021e+03, Time: 1.94\n",
      "It: 3530, Loss: 1.008e+03, Time: 1.93\n",
      "It: 3540, Loss: 1.000e+03, Time: 1.93\n",
      "It: 3550, Loss: 9.930e+02, Time: 1.92\n",
      "It: 3560, Loss: 1.015e+03, Time: 1.92\n",
      "It: 3570, Loss: 9.829e+02, Time: 1.92\n",
      "It: 3580, Loss: 9.766e+02, Time: 1.93\n",
      "It: 3590, Loss: 9.634e+02, Time: 1.95\n",
      "It: 3600, Loss: 9.572e+02, Time: 1.93\n",
      "It: 3610, Loss: 9.506e+02, Time: 1.92\n",
      "It: 3620, Loss: 9.436e+02, Time: 1.93\n",
      "It: 3630, Loss: 9.380e+02, Time: 1.93\n",
      "It: 3640, Loss: 9.620e+02, Time: 1.93\n",
      "It: 3650, Loss: 9.357e+02, Time: 1.93\n",
      "It: 3660, Loss: 9.194e+02, Time: 1.93\n",
      "It: 3670, Loss: 9.136e+02, Time: 1.93\n",
      "It: 3680, Loss: 9.070e+02, Time: 1.93\n",
      "It: 3690, Loss: 9.006e+02, Time: 1.93\n",
      "It: 3700, Loss: 8.943e+02, Time: 1.93\n",
      "It: 3710, Loss: 8.883e+02, Time: 1.93\n",
      "It: 3720, Loss: 8.831e+02, Time: 1.92\n",
      "It: 3730, Loss: 9.076e+02, Time: 1.93\n",
      "It: 3740, Loss: 8.721e+02, Time: 1.93\n",
      "It: 3750, Loss: 8.763e+02, Time: 1.92\n",
      "It: 3760, Loss: 8.606e+02, Time: 1.92\n",
      "It: 3770, Loss: 8.526e+02, Time: 1.92\n",
      "It: 3780, Loss: 8.470e+02, Time: 1.93\n",
      "It: 3790, Loss: 8.407e+02, Time: 2.31\n",
      "It: 3800, Loss: 8.346e+02, Time: 1.91\n",
      "It: 3810, Loss: 8.287e+02, Time: 1.93\n",
      "It: 3820, Loss: 8.228e+02, Time: 1.93\n",
      "It: 3830, Loss: 8.170e+02, Time: 1.92\n",
      "It: 3840, Loss: 8.113e+02, Time: 1.93\n",
      "It: 3850, Loss: 8.057e+02, Time: 1.93\n",
      "It: 3860, Loss: 8.047e+02, Time: 1.93\n",
      "It: 3870, Loss: 8.440e+02, Time: 1.94\n",
      "It: 3880, Loss: 8.071e+02, Time: 1.93\n",
      "It: 3890, Loss: 7.863e+02, Time: 1.93\n",
      "It: 3900, Loss: 7.822e+02, Time: 1.93\n",
      "It: 3910, Loss: 7.777e+02, Time: 1.93\n",
      "It: 3920, Loss: 7.726e+02, Time: 1.93\n",
      "It: 3930, Loss: 7.680e+02, Time: 1.93\n",
      "It: 3940, Loss: 7.637e+02, Time: 1.92\n",
      "It: 3950, Loss: 7.596e+02, Time: 1.93\n",
      "It: 3960, Loss: 7.557e+02, Time: 1.93\n",
      "It: 3970, Loss: 7.520e+02, Time: 1.93\n",
      "It: 3980, Loss: 7.483e+02, Time: 1.93\n",
      "It: 3990, Loss: 7.449e+02, Time: 1.93\n",
      "It: 4000, Loss: 7.480e+02, Time: 1.93\n",
      "It: 4010, Loss: 7.831e+02, Time: 1.93\n",
      "It: 4020, Loss: 7.633e+02, Time: 1.93\n",
      "It: 4030, Loss: 7.397e+02, Time: 1.92\n",
      "It: 4040, Loss: 7.312e+02, Time: 1.93\n",
      "It: 4050, Loss: 7.273e+02, Time: 1.93\n",
      "It: 4060, Loss: 7.246e+02, Time: 1.93\n",
      "It: 4070, Loss: 7.222e+02, Time: 1.92\n",
      "It: 4080, Loss: 7.338e+02, Time: 1.94\n",
      "It: 4090, Loss: 7.254e+02, Time: 1.93\n",
      "It: 4100, Loss: 7.186e+02, Time: 1.93\n",
      "It: 4110, Loss: 7.154e+02, Time: 1.93\n",
      "It: 4120, Loss: 7.134e+02, Time: 1.93\n",
      "It: 4130, Loss: 7.099e+02, Time: 1.92\n",
      "It: 4140, Loss: 7.078e+02, Time: 1.93\n",
      "It: 4150, Loss: 7.059e+02, Time: 1.93\n",
      "It: 4160, Loss: 7.042e+02, Time: 1.93\n",
      "It: 4170, Loss: 7.025e+02, Time: 1.93\n",
      "It: 4180, Loss: 7.008e+02, Time: 1.93\n",
      "It: 4190, Loss: 6.993e+02, Time: 1.93\n",
      "It: 4200, Loss: 7.107e+02, Time: 1.93\n",
      "It: 4210, Loss: 7.291e+02, Time: 1.94\n",
      "It: 4220, Loss: 7.014e+02, Time: 1.93\n",
      "It: 4230, Loss: 6.954e+02, Time: 1.93\n",
      "It: 4240, Loss: 6.932e+02, Time: 1.94\n",
      "It: 4250, Loss: 6.915e+02, Time: 1.92\n",
      "It: 4260, Loss: 6.903e+02, Time: 1.93\n",
      "It: 4270, Loss: 6.892e+02, Time: 1.93\n",
      "It: 4280, Loss: 6.878e+02, Time: 1.93\n",
      "It: 4290, Loss: 6.866e+02, Time: 1.93\n",
      "It: 4300, Loss: 6.854e+02, Time: 1.93\n",
      "It: 4310, Loss: 6.843e+02, Time: 1.93\n",
      "It: 4320, Loss: 6.831e+02, Time: 1.93\n",
      "It: 4330, Loss: 6.825e+02, Time: 1.93\n",
      "It: 4340, Loss: 8.060e+02, Time: 1.94\n"
     ]
    },
    {
     "name": "stdout",
     "output_type": "stream",
     "text": [
      "It: 4350, Loss: 7.300e+02, Time: 1.93\n",
      "It: 4360, Loss: 6.826e+02, Time: 1.94\n",
      "It: 4370, Loss: 6.815e+02, Time: 1.94\n",
      "It: 4380, Loss: 6.815e+02, Time: 1.94\n",
      "It: 4390, Loss: 6.782e+02, Time: 1.93\n",
      "It: 4400, Loss: 6.762e+02, Time: 2.31\n",
      "It: 4410, Loss: 6.750e+02, Time: 1.91\n",
      "It: 4420, Loss: 6.740e+02, Time: 1.93\n",
      "It: 4430, Loss: 6.730e+02, Time: 1.93\n",
      "It: 4440, Loss: 6.721e+02, Time: 1.93\n",
      "It: 4450, Loss: 6.712e+02, Time: 1.93\n",
      "It: 4460, Loss: 6.703e+02, Time: 1.93\n",
      "It: 4470, Loss: 6.694e+02, Time: 1.92\n",
      "It: 4480, Loss: 6.685e+02, Time: 1.93\n",
      "It: 4490, Loss: 6.676e+02, Time: 1.93\n",
      "It: 4500, Loss: 6.674e+02, Time: 1.92\n",
      "It: 4510, Loss: 8.266e+02, Time: 1.93\n",
      "It: 4520, Loss: 6.930e+02, Time: 1.93\n",
      "It: 4530, Loss: 6.808e+02, Time: 1.93\n",
      "It: 4540, Loss: 6.646e+02, Time: 1.92\n",
      "It: 4550, Loss: 6.645e+02, Time: 1.93\n",
      "It: 4560, Loss: 6.634e+02, Time: 1.93\n",
      "It: 4570, Loss: 6.621e+02, Time: 1.93\n",
      "It: 4580, Loss: 6.611e+02, Time: 1.92\n",
      "It: 4590, Loss: 6.603e+02, Time: 1.93\n",
      "It: 4600, Loss: 6.595e+02, Time: 1.93\n",
      "It: 4610, Loss: 6.587e+02, Time: 1.92\n",
      "It: 4620, Loss: 6.579e+02, Time: 1.93\n",
      "It: 4630, Loss: 6.572e+02, Time: 1.93\n",
      "It: 4640, Loss: 6.564e+02, Time: 1.93\n",
      "It: 4650, Loss: 6.557e+02, Time: 1.93\n",
      "It: 4660, Loss: 6.549e+02, Time: 1.93\n",
      "It: 4670, Loss: 6.542e+02, Time: 1.93\n",
      "It: 4680, Loss: 6.551e+02, Time: 1.93\n",
      "It: 4690, Loss: 8.537e+02, Time: 1.93\n",
      "It: 4700, Loss: 6.758e+02, Time: 1.93\n",
      "It: 4710, Loss: 6.653e+02, Time: 1.93\n",
      "It: 4720, Loss: 6.579e+02, Time: 1.93\n",
      "It: 4730, Loss: 6.526e+02, Time: 1.93\n",
      "It: 4740, Loss: 6.505e+02, Time: 1.94\n"
     ]
    }
   ],
   "source": [
    "nnsmooth.train(5000)"
   ]
  },
  {
   "cell_type": "code",
   "execution_count": null,
   "metadata": {},
   "outputs": [],
   "source": []
  }
 ],
 "metadata": {
  "kernelspec": {
   "display_name": "Python 3",
   "language": "python",
   "name": "python3"
  },
  "language_info": {
   "codemirror_mode": {
    "name": "ipython",
    "version": 3
   },
   "file_extension": ".py",
   "mimetype": "text/x-python",
   "name": "python",
   "nbconvert_exporter": "python",
   "pygments_lexer": "ipython3",
   "version": "3.7.3"
  }
 },
 "nbformat": 4,
 "nbformat_minor": 2
}
