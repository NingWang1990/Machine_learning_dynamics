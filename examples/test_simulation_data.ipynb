{
 "cells": [
  {
   "cell_type": "code",
   "execution_count": 1,
   "metadata": {},
   "outputs": [],
   "source": [
    "import numpy as np"
   ]
  },
  {
   "cell_type": "code",
   "execution_count": 2,
   "metadata": {},
   "outputs": [],
   "source": [
    "import scipy\n",
    "from scipy.io import loadmat\n",
    "from data_generator import DataGenerator"
   ]
  },
  {
   "cell_type": "code",
   "execution_count": 3,
   "metadata": {},
   "outputs": [],
   "source": [
    "from likelihood import GaussianLogLikelihood\n",
    "from prior import ComplexityLogPrior\n",
    "from posterior import LogPosterior\n",
    "from mcmc import MCMC\n",
    "from sequential_mc import SequentialMC\n",
    "from util import generate_binary_coef_random\n",
    "import pandas as pd"
   ]
  },
  {
   "cell_type": "code",
   "execution_count": 4,
   "metadata": {},
   "outputs": [],
   "source": [
    "import matplotlib.pyplot as plt"
   ]
  },
  {
   "cell_type": "code",
   "execution_count": null,
   "metadata": {},
   "outputs": [],
   "source": [
    "data = loadmat('../data/phase_field_oneD_simulation_beginning_stage.mat')"
   ]
  },
  {
   "cell_type": "code",
   "execution_count": null,
   "metadata": {},
   "outputs": [],
   "source": [
    "# calculate derivatives and prepare data\n",
    "u = data['usol']\n",
    "t = np.squeeze(data['t'])\n",
    "x = np.squeeze(data['x'])\n",
    "from numerical_derivative import ChebyshevLocalFit_1D\n",
    "width = 5                \n",
    "du_x, du_xx, du_t = ChebyshevLocalFit_1D(u, x, t, deg=3, width=width, diff=2)\n",
    "u = u[width:(-width), width:(-width)]\n",
    "\n",
    "n_samples = 5000\n",
    "\n",
    "u = u.flatten()\n",
    "du_x = du_x.flatten()\n",
    "du_xx = du_xx.flatten()\n",
    "du_t = du_t.flatten()\n",
    "\n",
    "data = np.vstack([u,du_x,du_xx, du_t]).T\n",
    "\n",
    "np.random.seed(1001)\n",
    "\n",
    "np.random.shuffle(data)\n",
    "data = data[:n_samples]\n",
    "\n",
    "np.save('raw_data', data)"
   ]
  },
  {
   "cell_type": "code",
   "execution_count": null,
   "metadata": {},
   "outputs": [],
   "source": [
    "data = np.load('train_data_simulation.npy')"
   ]
  },
  {
   "cell_type": "code",
   "execution_count": null,
   "metadata": {},
   "outputs": [],
   "source": [
    "dg = DataGenerator()"
   ]
  },
  {
   "cell_type": "code",
   "execution_count": null,
   "metadata": {},
   "outputs": [],
   "source": [
    "data[:,:-1].shape"
   ]
  },
  {
   "cell_type": "code",
   "execution_count": null,
   "metadata": {
    "scrolled": true
   },
   "outputs": [],
   "source": [
    "X, names = dg(data[:,:-1], descriptions=['u','u_x','u_xx'] )"
   ]
  },
  {
   "cell_type": "code",
   "execution_count": null,
   "metadata": {},
   "outputs": [],
   "source": [
    "X.shape"
   ]
  },
  {
   "cell_type": "code",
   "execution_count": null,
   "metadata": {},
   "outputs": [],
   "source": [
    "Y = data[:,-1]\n",
    "#Y = -0.9*X[:,0] + 10.*X[:,2] +1.9*X[:,3] -1.*X[:,9]"
   ]
  },
  {
   "cell_type": "code",
   "execution_count": null,
   "metadata": {},
   "outputs": [],
   "source": [
    "prior = ComplexityLogPrior(method='num_terms', simplicity_preference=10.)"
   ]
  },
  {
   "cell_type": "code",
   "execution_count": 18,
   "metadata": {},
   "outputs": [],
   "source": [
    "likelihood = GaussianLogLikelihood(X,Y,reg_normalization=False)"
   ]
  },
  {
   "cell_type": "code",
   "execution_count": 19,
   "metadata": {},
   "outputs": [],
   "source": [
    "posterior = LogPosterior(prior, likelihood)"
   ]
  },
  {
   "cell_type": "code",
   "execution_count": 20,
   "metadata": {},
   "outputs": [],
   "source": [
    "import itertools"
   ]
  },
  {
   "cell_type": "code",
   "execution_count": 21,
   "metadata": {},
   "outputs": [],
   "source": [
    "init_coefs = generate_binary_coef_random(len(names),40)"
   ]
  },
  {
   "cell_type": "code",
   "execution_count": 22,
   "metadata": {},
   "outputs": [],
   "source": [
    "sequentialmc = SequentialMC(posterior=posterior,log_file='mc.csv')"
   ]
  },
  {
   "cell_type": "code",
   "execution_count": 23,
   "metadata": {},
   "outputs": [
    {
     "name": "stdout",
     "output_type": "stream",
     "text": [
      "0 1\n",
      "1 u\n",
      "2 u_x\n",
      "3 u_xx\n",
      "4 u**2\n",
      "5 u*u_x\n",
      "6 u*u_xx\n",
      "7 u_x**2\n",
      "8 u_x*u_xx\n",
      "9 u_xx**2\n",
      "10 u**3\n",
      "11 u**2*u_x\n",
      "12 u**2*u_xx\n",
      "13 u*u_x**2\n",
      "14 u*u_x*u_xx\n",
      "15 u*u_xx**2\n",
      "16 u_x**3\n",
      "17 u_x**2*u_xx\n",
      "18 u_x*u_xx**2\n",
      "19 u_xx**3\n"
     ]
    }
   ],
   "source": [
    "for i, name in enumerate(names):\n",
    "    print (i, name)"
   ]
  },
  {
   "cell_type": "code",
   "execution_count": 24,
   "metadata": {},
   "outputs": [
    {
     "name": "stdout",
     "output_type": "stream",
     "text": [
      "step: 0, beta:  0.000\n",
      "step: 1, beta:  0.010\n",
      "step: 2, beta:  0.020\n",
      "step: 3, beta:  0.030\n",
      "step: 4, beta:  0.040\n",
      "step: 5, beta:  0.051\n",
      "step: 6, beta:  0.061\n",
      "step: 7, beta:  0.071\n",
      "step: 8, beta:  0.081\n",
      "step: 9, beta:  0.091\n",
      "step: 10, beta:  0.101\n",
      "step: 11, beta:  0.111\n",
      "step: 12, beta:  0.121\n",
      "step: 13, beta:  0.131\n",
      "step: 14, beta:  0.141\n",
      "step: 15, beta:  0.152\n",
      "step: 16, beta:  0.162\n",
      "step: 17, beta:  0.172\n",
      "step: 18, beta:  0.182\n",
      "step: 19, beta:  0.192\n",
      "step: 20, beta:  0.202\n",
      "step: 21, beta:  0.212\n",
      "step: 22, beta:  0.222\n",
      "step: 23, beta:  0.232\n",
      "step: 24, beta:  0.242\n",
      "step: 25, beta:  0.253\n",
      "step: 26, beta:  0.263\n",
      "step: 27, beta:  0.273\n",
      "step: 28, beta:  0.283\n",
      "step: 29, beta:  0.293\n",
      "step: 30, beta:  0.303\n",
      "step: 31, beta:  0.313\n",
      "step: 32, beta:  0.323\n",
      "step: 33, beta:  0.333\n",
      "step: 34, beta:  0.343\n",
      "step: 35, beta:  0.354\n",
      "step: 36, beta:  0.364\n",
      "step: 37, beta:  0.374\n",
      "step: 38, beta:  0.384\n",
      "step: 39, beta:  0.394\n",
      "step: 40, beta:  0.404\n",
      "step: 41, beta:  0.414\n",
      "step: 42, beta:  0.424\n",
      "step: 43, beta:  0.434\n",
      "step: 44, beta:  0.444\n",
      "step: 45, beta:  0.455\n",
      "step: 46, beta:  0.465\n",
      "step: 47, beta:  0.475\n",
      "step: 48, beta:  0.485\n",
      "step: 49, beta:  0.495\n",
      "step: 50, beta:  0.505\n",
      "step: 51, beta:  0.515\n",
      "step: 52, beta:  0.525\n",
      "step: 53, beta:  0.535\n",
      "step: 54, beta:  0.545\n",
      "step: 55, beta:  0.556\n",
      "step: 56, beta:  0.566\n",
      "step: 57, beta:  0.576\n",
      "step: 58, beta:  0.586\n",
      "step: 59, beta:  0.596\n",
      "step: 60, beta:  0.606\n",
      "step: 61, beta:  0.616\n",
      "step: 62, beta:  0.626\n",
      "step: 63, beta:  0.636\n",
      "step: 64, beta:  0.646\n",
      "step: 65, beta:  0.657\n",
      "step: 66, beta:  0.667\n",
      "step: 67, beta:  0.677\n",
      "step: 68, beta:  0.687\n",
      "step: 69, beta:  0.697\n",
      "step: 70, beta:  0.707\n",
      "step: 71, beta:  0.717\n",
      "step: 72, beta:  0.727\n",
      "step: 73, beta:  0.737\n",
      "step: 74, beta:  0.747\n",
      "step: 75, beta:  0.758\n",
      "step: 76, beta:  0.768\n",
      "step: 77, beta:  0.778\n",
      "step: 78, beta:  0.788\n",
      "step: 79, beta:  0.798\n",
      "step: 80, beta:  0.808\n",
      "step: 81, beta:  0.818\n",
      "step: 82, beta:  0.828\n",
      "step: 83, beta:  0.838\n",
      "step: 84, beta:  0.848\n",
      "step: 85, beta:  0.859\n",
      "step: 86, beta:  0.869\n",
      "step: 87, beta:  0.879\n",
      "step: 88, beta:  0.889\n",
      "step: 89, beta:  0.899\n",
      "step: 90, beta:  0.909\n",
      "step: 91, beta:  0.919\n",
      "step: 92, beta:  0.929\n",
      "step: 93, beta:  0.939\n",
      "step: 94, beta:  0.949\n",
      "step: 95, beta:  0.960\n",
      "step: 96, beta:  0.970\n",
      "step: 97, beta:  0.980\n",
      "step: 98, beta:  0.990\n",
      "step: 99, beta:  1.000\n",
      "step: 100, beta:  1.000\n",
      "step: 101, beta:  1.000\n",
      "step: 102, beta:  1.000\n",
      "step: 103, beta:  1.000\n",
      "step: 104, beta:  1.000\n",
      "step: 105, beta:  1.000\n",
      "step: 106, beta:  1.000\n",
      "step: 107, beta:  1.000\n",
      "step: 108, beta:  1.000\n",
      "step: 109, beta:  1.000\n",
      "step: 110, beta:  1.000\n",
      "step: 111, beta:  1.000\n",
      "step: 112, beta:  1.000\n",
      "step: 113, beta:  1.000\n",
      "step: 114, beta:  1.000\n",
      "step: 115, beta:  1.000\n",
      "step: 116, beta:  1.000\n",
      "step: 117, beta:  1.000\n",
      "step: 118, beta:  1.000\n",
      "step: 119, beta:  1.000\n",
      "step: 120, beta:  1.000\n",
      "step: 121, beta:  1.000\n",
      "step: 122, beta:  1.000\n",
      "step: 123, beta:  1.000\n",
      "step: 124, beta:  1.000\n",
      "step: 125, beta:  1.000\n",
      "step: 126, beta:  1.000\n",
      "step: 127, beta:  1.000\n",
      "step: 128, beta:  1.000\n",
      "step: 129, beta:  1.000\n",
      "step: 130, beta:  1.000\n",
      "step: 131, beta:  1.000\n",
      "step: 132, beta:  1.000\n",
      "step: 133, beta:  1.000\n",
      "step: 134, beta:  1.000\n",
      "step: 135, beta:  1.000\n",
      "step: 136, beta:  1.000\n",
      "step: 137, beta:  1.000\n",
      "step: 138, beta:  1.000\n",
      "step: 139, beta:  1.000\n",
      "step: 140, beta:  1.000\n",
      "step: 141, beta:  1.000\n",
      "step: 142, beta:  1.000\n",
      "step: 143, beta:  1.000\n",
      "step: 144, beta:  1.000\n",
      "step: 145, beta:  1.000\n",
      "step: 146, beta:  1.000\n",
      "step: 147, beta:  1.000\n",
      "step: 148, beta:  1.000\n",
      "step: 149, beta:  1.000\n",
      "step: 150, beta:  1.000\n",
      "step: 151, beta:  1.000\n",
      "step: 152, beta:  1.000\n",
      "step: 153, beta:  1.000\n",
      "step: 154, beta:  1.000\n",
      "step: 155, beta:  1.000\n",
      "step: 156, beta:  1.000\n",
      "step: 157, beta:  1.000\n",
      "step: 158, beta:  1.000\n",
      "step: 159, beta:  1.000\n",
      "step: 160, beta:  1.000\n",
      "step: 161, beta:  1.000\n",
      "step: 162, beta:  1.000\n",
      "step: 163, beta:  1.000\n",
      "step: 164, beta:  1.000\n",
      "step: 165, beta:  1.000\n",
      "step: 166, beta:  1.000\n",
      "step: 167, beta:  1.000\n",
      "step: 168, beta:  1.000\n",
      "step: 169, beta:  1.000\n",
      "step: 170, beta:  1.000\n",
      "step: 171, beta:  1.000\n",
      "step: 172, beta:  1.000\n",
      "step: 173, beta:  1.000\n",
      "step: 174, beta:  1.000\n",
      "step: 175, beta:  1.000\n",
      "step: 176, beta:  1.000\n",
      "step: 177, beta:  1.000\n",
      "step: 178, beta:  1.000\n",
      "step: 179, beta:  1.000\n",
      "step: 180, beta:  1.000\n",
      "step: 181, beta:  1.000\n",
      "step: 182, beta:  1.000\n",
      "step: 183, beta:  1.000\n",
      "step: 184, beta:  1.000\n",
      "step: 185, beta:  1.000\n",
      "step: 186, beta:  1.000\n",
      "step: 187, beta:  1.000\n",
      "step: 188, beta:  1.000\n",
      "step: 189, beta:  1.000\n",
      "step: 190, beta:  1.000\n",
      "step: 191, beta:  1.000\n",
      "step: 192, beta:  1.000\n",
      "step: 193, beta:  1.000\n",
      "step: 194, beta:  1.000\n",
      "step: 195, beta:  1.000\n",
      "step: 196, beta:  1.000\n",
      "step: 197, beta:  1.000\n",
      "step: 198, beta:  1.000\n",
      "step: 199, beta:  1.000\n"
     ]
    }
   ],
   "source": [
    "pareto_set = sequentialmc(samples=init_coefs,beta0_nsteps=0,beta0to1_nsteps=100,beta1_nsteps=100, mcmc_nsteps=10,feature_descriptions=names )"
   ]
  },
  {
   "cell_type": "code",
   "execution_count": 25,
   "metadata": {},
   "outputs": [],
   "source": [
    "pareto_set = sequentialmc.pareto_set"
   ]
  },
  {
   "cell_type": "code",
   "execution_count": 26,
   "metadata": {},
   "outputs": [],
   "source": [
    "array = pareto_set.to_array()"
   ]
  },
  {
   "cell_type": "code",
   "execution_count": 27,
   "metadata": {},
   "outputs": [
    {
     "data": {
      "text/plain": [
       "array([[0.00000000e+00, 2.93230023e+00],\n",
       "       [5.00000000e-02, 8.23426159e-01],\n",
       "       [1.00000000e-01, 3.66342168e-01],\n",
       "       [1.50000000e-01, 2.00307590e-01],\n",
       "       [2.00000000e-01, 4.41226430e-05],\n",
       "       [2.50000000e-01, 9.03621667e-06],\n",
       "       [3.00000000e-01, 8.00781629e-06],\n",
       "       [3.50000000e-01, 5.33818897e-06],\n",
       "       [4.00000000e-01, 8.23977961e-07],\n",
       "       [4.50000000e-01, 6.38846884e-07],\n",
       "       [5.00000000e-01, 5.72978503e-07],\n",
       "       [5.50000000e-01, 4.68492052e-07],\n",
       "       [6.00000000e-01, 3.68452992e-07],\n",
       "       [6.50000000e-01, 1.93436347e-07],\n",
       "       [7.00000000e-01, 1.68857098e-07],\n",
       "       [8.00000000e-01, 1.24349206e-07]])"
      ]
     },
     "execution_count": 27,
     "metadata": {},
     "output_type": "execute_result"
    }
   ],
   "source": [
    "array"
   ]
  },
  {
   "cell_type": "code",
   "execution_count": 28,
   "metadata": {},
   "outputs": [
    {
     "data": {
      "image/png": "[encoded data removed]",
      "text/plain": [
       "<Figure size 576x432 with 1 Axes>"
      ]
     },
     "metadata": {
      "needs_background": "light"
     },
     "output_type": "display_data"
    }
   ],
   "source": [
    "pareto_set.plot()"
   ]
  },
  {
   "cell_type": "code",
   "execution_count": 37,
   "metadata": {},
   "outputs": [
    {
     "data": {
      "text/plain": [
       "0"
      ]
     },
     "execution_count": 37,
     "metadata": {},
     "output_type": "execute_result"
    }
   ],
   "source": [
    "pareto_set[0].data"
   ]
  },
  {
   "cell_type": "code",
   "execution_count": 38,
   "metadata": {},
   "outputs": [
    {
     "data": {
      "text/plain": [
       "-4.02625439764032*u_x"
      ]
     },
     "execution_count": 38,
     "metadata": {},
     "output_type": "execute_result"
    }
   ],
   "source": [
    "pareto_set[1].data"
   ]
  },
  {
   "cell_type": "code",
   "execution_count": 39,
   "metadata": {},
   "outputs": [
    {
     "data": {
      "text/plain": [
       "0.493491307019347*u**2 - 0.461572065873419*u"
      ]
     },
     "execution_count": 39,
     "metadata": {},
     "output_type": "execute_result"
    }
   ],
   "source": [
    "pareto_set[2].data"
   ]
  },
  {
   "cell_type": "code",
   "execution_count": 40,
   "metadata": {},
   "outputs": [
    {
     "data": {
      "text/plain": [
       "6.10732514369031*u**2*u_x + 0.597655757457876*u**2 - 0.579708543166228*u"
      ]
     },
     "execution_count": 40,
     "metadata": {},
     "output_type": "execute_result"
    }
   ],
   "source": [
    "pareto_set[3].data"
   ]
  },
  {
   "cell_type": "code",
   "execution_count": 41,
   "metadata": {},
   "outputs": [
    {
     "data": {
      "text/plain": [
       "-1.00825304235675*u**3 + 1.91197907720998*u**2 - 0.903843172700869*u + 10.3540837933683*u_xx"
      ]
     },
     "execution_count": 41,
     "metadata": {},
     "output_type": "execute_result"
    }
   ],
   "source": [
    "pareto_set[4].data"
   ]
  },
  {
   "cell_type": "code",
   "execution_count": 42,
   "metadata": {},
   "outputs": [
    {
     "data": {
      "text/plain": [
       "-1.0029908017627*u**3 + 1.90412649428831*u**2 - 0.901272418136458*u + 37.5667312918843*u_x*u_xx + 9.4270439158532*u_xx"
      ]
     },
     "execution_count": 42,
     "metadata": {},
     "output_type": "execute_result"
    }
   ],
   "source": [
    "pareto_set[5].data"
   ]
  },
  {
   "cell_type": "code",
   "execution_count": 43,
   "metadata": {},
   "outputs": [
    {
     "data": {
      "text/plain": [
       "-1.00287883115703*u**3 + 1.90376164131706*u**2 + 82.5100743234686*u*u_x*u_xx - 0.90101505086035*u + 242.346115909425*u_xx**2 + 9.39016420734836*u_xx"
      ]
     },
     "execution_count": 43,
     "metadata": {},
     "output_type": "execute_result"
    }
   ],
   "source": [
    "pareto_set[6].data"
   ]
  },
  {
   "cell_type": "code",
   "execution_count": 44,
   "metadata": {},
   "outputs": [],
   "source": [
    "pareto_set.save_csv('pareto_set_simulation.csv')"
   ]
  },
  {
   "cell_type": "code",
   "execution_count": null,
   "metadata": {},
   "outputs": [],
   "source": []
  }
 ],
 "metadata": {
  "kernelspec": {
   "display_name": "Python 3",
   "language": "python",
   "name": "python3"
  },
  "language_info": {
   "codemirror_mode": {
    "name": "ipython",
    "version": 3
   },
   "file_extension": ".py",
   "mimetype": "text/x-python",
   "name": "python",
   "nbconvert_exporter": "python",
   "pygments_lexer": "ipython3",
   "version": "3.7.3"
  }
 },
 "nbformat": 4,
 "nbformat_minor": 2
}
