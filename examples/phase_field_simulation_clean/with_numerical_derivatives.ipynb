{
 "cells": [
  {
   "cell_type": "code",
   "execution_count": 14,
   "metadata": {},
   "outputs": [],
   "source": [
    "import numpy as np"
   ]
  },
  {
   "cell_type": "code",
   "execution_count": 15,
   "metadata": {},
   "outputs": [],
   "source": [
    "import sys"
   ]
  },
  {
   "cell_type": "code",
   "execution_count": 16,
   "metadata": {},
   "outputs": [],
   "source": [
    "sys.path.append('/u/wangnisn/devel/Machine_learning_dynamics/bayesian')"
   ]
  },
  {
   "cell_type": "code",
   "execution_count": 17,
   "metadata": {},
   "outputs": [],
   "source": [
    "import scipy\n",
    "from scipy.io import loadmat\n",
    "from data_generator import DataGenerator"
   ]
  },
  {
   "cell_type": "code",
   "execution_count": 18,
   "metadata": {},
   "outputs": [],
   "source": [
    "from likelihood import GaussianLogLikelihood\n",
    "from prior import ComplexityLogPrior\n",
    "from posterior import LogPosterior\n",
    "from mcmc import MCMC\n",
    "from sequential_mc import SequentialMC\n",
    "from util import generate_binary_coef_random\n",
    "import pandas as pd"
   ]
  },
  {
   "cell_type": "code",
   "execution_count": 19,
   "metadata": {},
   "outputs": [],
   "source": [
    "import matplotlib.pyplot as plt"
   ]
  },
  {
   "cell_type": "code",
   "execution_count": 20,
   "metadata": {},
   "outputs": [],
   "source": [
    "data = loadmat('/u/wangnisn/devel/Machine_learning_dynamics/data/phase_field_oneD_simulation_beginning_stage.mat')"
   ]
  },
  {
   "cell_type": "code",
   "execution_count": 13,
   "metadata": {},
   "outputs": [],
   "source": [
    "# calculate derivatives and prepare data\n",
    "u = data['usol'][50:200,:]\n",
    "x = np.squeeze(data['x'])[50:200]\n",
    "t = np.squeeze(data['t'])[:]\n",
    "from numerical_derivative import ChebyshevLocalFit_1D\n",
    "width = 5                \n",
    "du_x, du_xx, du_t = ChebyshevLocalFit_1D(u, x, t, deg=3, width=width, diff=2)\n",
    "u = u[width:(-width), width:(-width)]\n",
    "\n",
    "n_samples = 5000\n",
    "\n",
    "u = u.flatten()\n",
    "du_x = du_x.flatten()\n",
    "du_xx = du_xx.flatten()\n",
    "du_t = du_t.flatten()\n",
    "\n",
    "data = np.vstack([u,du_x,du_xx, du_t]).T\n",
    "\n",
    "#np.random.seed(1001)\n",
    "\n",
    "#np.random.shuffle(data)\n",
    "#data = data[:n_samples]\n",
    "\n",
    "np.save('train_data_numerical_derivatives', data)"
   ]
  },
  {
   "cell_type": "code",
   "execution_count": 21,
   "metadata": {},
   "outputs": [],
   "source": [
    "data = np.load('train_data_numerical_derivatives.npy')"
   ]
  },
  {
   "cell_type": "code",
   "execution_count": 22,
   "metadata": {},
   "outputs": [],
   "source": [
    "dg = DataGenerator()"
   ]
  },
  {
   "cell_type": "code",
   "execution_count": 23,
   "metadata": {},
   "outputs": [
    {
     "data": {
      "text/plain": [
       "(68600, 3)"
      ]
     },
     "execution_count": 23,
     "metadata": {},
     "output_type": "execute_result"
    }
   ],
   "source": [
    "data[:,:-1].shape"
   ]
  },
  {
   "cell_type": "code",
   "execution_count": 35,
   "metadata": {
    "scrolled": true
   },
   "outputs": [],
   "source": [
    "X, names,complexities = dg(data[:,:-1], descriptions=['u','u_x','u_xx'],term_order_max=[4,2,1] )"
   ]
  },
  {
   "cell_type": "code",
   "execution_count": 36,
   "metadata": {},
   "outputs": [
    {
     "data": {
      "text/plain": [
       "(68600, 21)"
      ]
     },
     "execution_count": 36,
     "metadata": {},
     "output_type": "execute_result"
    }
   ],
   "source": [
    "X.shape"
   ]
  },
  {
   "cell_type": "code",
   "execution_count": 37,
   "metadata": {},
   "outputs": [],
   "source": [
    "Y = data[:,-1]\n",
    "#Y = -0.9*X[:,0] + 10.*X[:,2] +1.9*X[:,3] -1.*X[:,9]"
   ]
  },
  {
   "cell_type": "code",
   "execution_count": 38,
   "metadata": {},
   "outputs": [],
   "source": [
    "prior = ComplexityLogPrior(method='num_terms', simplicity_preference=10.)"
   ]
  },
  {
   "cell_type": "code",
   "execution_count": 39,
   "metadata": {},
   "outputs": [],
   "source": [
    "likelihood = GaussianLogLikelihood(X,Y,reg_normalization=False)"
   ]
  },
  {
   "cell_type": "code",
   "execution_count": 40,
   "metadata": {},
   "outputs": [],
   "source": [
    "posterior = LogPosterior(prior, likelihood)"
   ]
  },
  {
   "cell_type": "code",
   "execution_count": 41,
   "metadata": {},
   "outputs": [],
   "source": [
    "import itertools"
   ]
  },
  {
   "cell_type": "code",
   "execution_count": 42,
   "metadata": {},
   "outputs": [],
   "source": [
    "init_coefs = generate_binary_coef_random(len(names),40)"
   ]
  },
  {
   "cell_type": "code",
   "execution_count": 43,
   "metadata": {},
   "outputs": [],
   "source": [
    "sequentialmc = SequentialMC(posterior=posterior,log_file='mc.csv')"
   ]
  },
  {
   "cell_type": "code",
   "execution_count": 44,
   "metadata": {},
   "outputs": [
    {
     "name": "stdout",
     "output_type": "stream",
     "text": [
      "0 1\n",
      "1 u\n",
      "2 u_x\n",
      "3 u_xx\n",
      "4 u**2\n",
      "5 u*u_x\n",
      "6 u*u_xx\n",
      "7 u_x**2\n",
      "8 u_x*u_xx\n",
      "9 u**3\n",
      "10 u**2*u_x\n",
      "11 u**2*u_xx\n",
      "12 u*u_x**2\n",
      "13 u*u_x*u_xx\n",
      "14 u_x**2*u_xx\n",
      "15 u**4\n",
      "16 u**3*u_x\n",
      "17 u**3*u_xx\n",
      "18 u**2*u_x**2\n",
      "19 u**2*u_x*u_xx\n",
      "20 u*u_x**2*u_xx\n"
     ]
    }
   ],
   "source": [
    "for i, name in enumerate(names):\n",
    "    print (i, name)"
   ]
  },
  {
   "cell_type": "code",
   "execution_count": 56,
   "metadata": {},
   "outputs": [],
   "source": [
    "init_coefs[0] = np.array([0,1,0,1,1,0,0,0,0,1,0,0,0,0,0,0,0,0,0,0,0])"
   ]
  },
  {
   "cell_type": "code",
   "execution_count": 57,
   "metadata": {},
   "outputs": [],
   "source": [
    "pareto_set = sequentialmc(samples=init_coefs,beta0_nsteps=0,beta0to1_nsteps=0,beta1_nsteps=0, mcmc_nsteps=10,feature_descriptions=names )"
   ]
  },
  {
   "cell_type": "code",
   "execution_count": 58,
   "metadata": {},
   "outputs": [],
   "source": [
    "pareto_set = sequentialmc.pareto_set"
   ]
  },
  {
   "cell_type": "code",
   "execution_count": 59,
   "metadata": {},
   "outputs": [],
   "source": [
    "array = pareto_set.to_array()"
   ]
  },
  {
   "cell_type": "code",
   "execution_count": 60,
   "metadata": {},
   "outputs": [
    {
     "data": {
      "text/plain": [
       "array([[1.00000000e+00, 3.10098245e-02],\n",
       "       [2.00000000e+00, 1.22230387e-02],\n",
       "       [3.00000000e+00, 9.50763059e-03],\n",
       "       [4.00000000e+00, 1.26853898e-04],\n",
       "       [1.20000000e+01, 1.53241662e-05]])"
      ]
     },
     "execution_count": 60,
     "metadata": {},
     "output_type": "execute_result"
    }
   ],
   "source": [
    "array"
   ]
  },
  {
   "cell_type": "code",
   "execution_count": 61,
   "metadata": {},
   "outputs": [
    {
     "data": {
      "image/png": "[encoded data removed]",
      "text/plain": [
       "<Figure size 576x432 with 1 Axes>"
      ]
     },
     "metadata": {
      "needs_background": "light"
     },
     "output_type": "display_data"
    }
   ],
   "source": [
    "pareto_set.plot()"
   ]
  },
  {
   "cell_type": "code",
   "execution_count": 62,
   "metadata": {},
   "outputs": [
    {
     "data": {
      "text/latex": [
       "$\\displaystyle 13.9834945806263 u u_{xx}$"
      ],
      "text/plain": [
       "13.9834945806263*u*u_xx"
      ]
     },
     "execution_count": 62,
     "metadata": {},
     "output_type": "execute_result"
    }
   ],
   "source": [
    "pareto_set[0].data"
   ]
  },
  {
   "cell_type": "code",
   "execution_count": 63,
   "metadata": {},
   "outputs": [
    {
     "data": {
      "text/latex": [
       "$\\displaystyle 6.3113881698941 u^{2} u_{x} - 5.75619516484596 u_{x}$"
      ],
      "text/plain": [
       "6.3113881698941*u**2*u_x - 5.75619516484596*u_x"
      ]
     },
     "execution_count": 63,
     "metadata": {},
     "output_type": "execute_result"
    }
   ],
   "source": [
    "pareto_set[1].data"
   ]
  },
  {
   "cell_type": "code",
   "execution_count": 64,
   "metadata": {},
   "outputs": [
    {
     "data": {
      "text/latex": [
       "$\\displaystyle 5.78525495164717 u^{2} u_{x} + 0.58878069742667 u^{2} - 0.569935034839501 u$"
      ],
      "text/plain": [
       "5.78525495164717*u**2*u_x + 0.58878069742667*u**2 - 0.569935034839501*u"
      ]
     },
     "execution_count": 64,
     "metadata": {},
     "output_type": "execute_result"
    }
   ],
   "source": [
    "pareto_set[2].data"
   ]
  },
  {
   "cell_type": "code",
   "execution_count": 65,
   "metadata": {},
   "outputs": [
    {
     "data": {
      "text/latex": [
       "$\\displaystyle - 1.00752334442286 u^{3} + 1.91098324840891 u^{2} - 0.903562997322919 u + 10.3263096373328 u_{xx}$"
      ],
      "text/plain": [
       "-1.00752334442286*u**3 + 1.91098324840891*u**2 - 0.903562997322919*u + 10.3263096373328*u_xx"
      ]
     },
     "execution_count": 65,
     "metadata": {},
     "output_type": "execute_result"
    }
   ],
   "source": [
    "pareto_set[3].data"
   ]
  },
  {
   "cell_type": "code",
   "execution_count": 55,
   "metadata": {},
   "outputs": [
    {
     "data": {
      "text/latex": [
       "$\\displaystyle 21.1647201175966 u^{2} u_{x} + 0.516288859924315 u^{2} + 99.1064342889429 u u_{xx} - 0.514017077165506 u - 3.56114608671769 u_{x}$"
      ],
      "text/plain": [
       "21.1647201175966*u**2*u_x + 0.516288859924315*u**2 + 99.1064342889429*u*u_xx - 0.514017077165506*u - 3.56114608671769*u_x"
      ]
     },
     "execution_count": 55,
     "metadata": {},
     "output_type": "execute_result"
    }
   ],
   "source": [
    "pareto_set[4].data"
   ]
  },
  {
   "cell_type": "code",
   "execution_count": 42,
   "metadata": {},
   "outputs": [
    {
     "data": {
      "text/plain": [
       "-1.0029908017627*u**3 + 1.90412649428831*u**2 - 0.901272418136458*u + 37.5667312918843*u_x*u_xx + 9.4270439158532*u_xx"
      ]
     },
     "execution_count": 42,
     "metadata": {},
     "output_type": "execute_result"
    }
   ],
   "source": [
    "pareto_set[5].data"
   ]
  },
  {
   "cell_type": "code",
   "execution_count": 43,
   "metadata": {},
   "outputs": [
    {
     "data": {
      "text/plain": [
       "-1.00287883115703*u**3 + 1.90376164131706*u**2 + 82.5100743234686*u*u_x*u_xx - 0.90101505086035*u + 242.346115909425*u_xx**2 + 9.39016420734836*u_xx"
      ]
     },
     "execution_count": 43,
     "metadata": {},
     "output_type": "execute_result"
    }
   ],
   "source": [
    "pareto_set[6].data"
   ]
  },
  {
   "cell_type": "code",
   "execution_count": 44,
   "metadata": {},
   "outputs": [],
   "source": [
    "pareto_set.save_csv('pareto_set_simulation.csv')"
   ]
  },
  {
   "cell_type": "code",
   "execution_count": null,
   "metadata": {},
   "outputs": [],
   "source": []
  }
 ],
 "metadata": {
  "kernelspec": {
   "display_name": "Python 3",
   "language": "python",
   "name": "python3"
  },
  "language_info": {
   "codemirror_mode": {
    "name": "ipython",
    "version": 3
   },
   "file_extension": ".py",
   "mimetype": "text/x-python",
   "name": "python",
   "nbconvert_exporter": "python",
   "pygments_lexer": "ipython3",
   "version": "3.7.3"
  }
 },
 "nbformat": 4,
 "nbformat_minor": 2
}
