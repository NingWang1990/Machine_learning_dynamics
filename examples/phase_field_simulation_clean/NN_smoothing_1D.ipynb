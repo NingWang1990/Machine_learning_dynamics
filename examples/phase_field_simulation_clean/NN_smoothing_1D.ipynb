{
 "cells": [
  {
   "cell_type": "code",
   "execution_count": 1,
   "metadata": {},
   "outputs": [],
   "source": [
    "import numpy as np"
   ]
  },
  {
   "cell_type": "code",
   "execution_count": 2,
   "metadata": {},
   "outputs": [],
   "source": [
    "import matplotlib as mpl\n",
    "mpl.rcParams['figure.dpi'] = 200"
   ]
  },
  {
   "cell_type": "code",
   "execution_count": 3,
   "metadata": {},
   "outputs": [],
   "source": [
    "import sys"
   ]
  },
  {
   "cell_type": "code",
   "execution_count": 4,
   "metadata": {},
   "outputs": [],
   "source": [
    "sys.path.append('/u/wangnisn/devel/Machine_learning_dynamics/bayesian')"
   ]
  },
  {
   "cell_type": "code",
   "execution_count": 5,
   "metadata": {},
   "outputs": [],
   "source": [
    "import scipy\n",
    "from scipy.io import loadmat\n",
    "from data_generator import DataGenerator"
   ]
  },
  {
   "cell_type": "code",
   "execution_count": 6,
   "metadata": {},
   "outputs": [],
   "source": [
    "from likelihood import GaussianLogLikelihood\n",
    "from prior import ComplexityLogPrior\n",
    "from posterior import LogPosterior\n",
    "from mcmc import MCMC\n",
    "from sequential_mc import SequentialMC\n",
    "from util import generate_binary_coef_random\n",
    "import pandas as pd"
   ]
  },
  {
   "cell_type": "code",
   "execution_count": 7,
   "metadata": {},
   "outputs": [],
   "source": [
    "import matplotlib.pyplot as plt"
   ]
  },
  {
   "cell_type": "code",
   "execution_count": 8,
   "metadata": {},
   "outputs": [
    {
     "name": "stdout",
     "output_type": "stream",
     "text": [
      "In init py ['/talos/u/wangnisn/devel/Machine_learning_dynamics/examples/phase_field_simulation_clean', '', '/mpcdf/soft/SLE_15/packages/x86_64/keras/anaconda_3_2019.03-2019.03/2.3.1/lib/python3.7/site-packages', '/mpcdf/soft/SLE_15/packages/skylake/tensorflow/gpu/anaconda_3_2019.03-2019.03-cuda_10.0-10.0.130/1.14.0/lib/python3.7/site-packages', '/mpcdf/soft/SLE_15/packages/skylake/pytorch/gpu/anaconda_3_2019.03-2019.03-cuda_10.0-10.0.130/1.2.0/lib/python3.7/site-packages', '/u/wangnisn/kaggle/defect_in_steel/version3/code/dummy_11a', '/mpcdf/soft/SLE_15/packages/x86_64/anaconda/3/2019.03/lib/python37.zip', '/mpcdf/soft/SLE_15/packages/x86_64/anaconda/3/2019.03/lib/python3.7', '/mpcdf/soft/SLE_15/packages/x86_64/anaconda/3/2019.03/lib/python3.7/lib-dynload', '/u/wangnisn/.local/lib/python3.7/site-packages', '/u/wangnisn/.local/lib/python3.7/site-packages/pystem-0.0.13-py3.7-linux-x86_64.egg', '/mpcdf/soft/SLE_15/packages/x86_64/anaconda/3/2019.03/lib/python3.7/site-packages', '/mpcdf/soft/SLE_15/packages/x86_64/anaconda/3/2019.03/lib/python3.7/site-packages/IPython/extensions', '/talos/u/wangnisn/.ipython', '/u/wangnisn/devel/Machine_learning_dynamics/bayesian']\n"
     ]
    },
    {
     "name": "stderr",
     "output_type": "stream",
     "text": [
      "WARNING: Logging before flag parsing goes to stderr.\n",
      "W0601 13:06:32.923330 47064276315520 __init__.py:308] Limited tf.compat.v2.summary API due to missing TensorBoard installation.\n",
      "W0601 13:06:32.961839 47064276315520 deprecation_wrapper.py:119] From /u/wangnisn/devel/Machine_learning_dynamics/bayesian/nn_smoothing_1D.py:14: The name tf.set_random_seed is deprecated. Please use tf.compat.v1.set_random_seed instead.\n",
      "\n"
     ]
    }
   ],
   "source": [
    "from nn_smoothing_1D import NNSmoothing1D"
   ]
  },
  {
   "cell_type": "code",
   "execution_count": 9,
   "metadata": {},
   "outputs": [],
   "source": [
    "data = loadmat('/u/wangnisn/devel/Machine_learning_dynamics/data/phase_field_oneD_simulation_beginning_stage.mat')"
   ]
  },
  {
   "cell_type": "code",
   "execution_count": 10,
   "metadata": {},
   "outputs": [
    {
     "data": {
      "text/plain": [
       "(500, 500)"
      ]
     },
     "execution_count": 10,
     "metadata": {},
     "output_type": "execute_result"
    }
   ],
   "source": [
    "data['usol'].shape"
   ]
  },
  {
   "cell_type": "code",
   "execution_count": 11,
   "metadata": {},
   "outputs": [],
   "source": [
    "a = np.array([[1,2]])"
   ]
  },
  {
   "cell_type": "code",
   "execution_count": 12,
   "metadata": {},
   "outputs": [
    {
     "data": {
      "text/plain": [
       "Text(0, 0.5, 'x')"
      ]
     },
     "execution_count": 12,
     "metadata": {},
     "output_type": "execute_result"
    },
    {
     "data": {
      "image/png": "[encoded data removed]",
      "text/plain": [
       "<Figure size 432x288 with 1 Axes>"
      ]
     },
     "metadata": {
      "needs_background": "light"
     },
     "output_type": "display_data"
    }
   ],
   "source": [
    "plt.imshow(data['usol'][50:200,:])\n",
    "plt.xlabel('Time')\n",
    "plt.ylabel('x')"
   ]
  },
  {
   "cell_type": "code",
   "execution_count": 13,
   "metadata": {},
   "outputs": [
    {
     "data": {
      "text/plain": [
       "(500, 500)"
      ]
     },
     "execution_count": 13,
     "metadata": {},
     "output_type": "execute_result"
    }
   ],
   "source": [
    "data['usol'].shape"
   ]
  },
  {
   "cell_type": "code",
   "execution_count": 14,
   "metadata": {},
   "outputs": [],
   "source": [
    "# calculate derivatives and prepare data\n",
    "u = data['usol'][50:200,:]\n",
    "x = np.squeeze(data['x'])[50:200]\n",
    "t = np.squeeze(data['t'])[:]"
   ]
  },
  {
   "cell_type": "code",
   "execution_count": 15,
   "metadata": {},
   "outputs": [
    {
     "data": {
      "text/plain": [
       "(150, 500)"
      ]
     },
     "execution_count": 15,
     "metadata": {},
     "output_type": "execute_result"
    }
   ],
   "source": [
    "u.shape"
   ]
  },
  {
   "cell_type": "code",
   "execution_count": 16,
   "metadata": {},
   "outputs": [],
   "source": [
    "x_mesh, t_mesh = np.meshgrid(x,t,indexing='ij')"
   ]
  },
  {
   "cell_type": "code",
   "execution_count": 17,
   "metadata": {},
   "outputs": [],
   "source": [
    "x_train =  x_mesh.flatten()"
   ]
  },
  {
   "cell_type": "code",
   "execution_count": 18,
   "metadata": {},
   "outputs": [],
   "source": [
    "t_train = t_mesh.flatten()"
   ]
  },
  {
   "cell_type": "code",
   "execution_count": 19,
   "metadata": {},
   "outputs": [],
   "source": [
    "y_train = u.flatten()"
   ]
  },
  {
   "cell_type": "code",
   "execution_count": 49,
   "metadata": {},
   "outputs": [],
   "source": [
    "hidden_layers = [ 20, 20, 20, 20, 20, 20]\n",
    "#hidden_layers = [ 20, 20, 20, 20, 20, 20, 20, 20, 20, 20]"
   ]
  },
  {
   "cell_type": "code",
   "execution_count": 50,
   "metadata": {},
   "outputs": [],
   "source": [
    "nnsmooth = NNSmoothing1D(x=x_train, t=t_train,u=y_train, hidden_layers=hidden_layers,alpha=0.1)"
   ]
  },
  {
   "cell_type": "code",
   "execution_count": 51,
   "metadata": {
    "scrolled": true
   },
   "outputs": [
    {
     "name": "stdout",
     "output_type": "stream",
     "text": [
      "It: 0, Loss: 2.671e+04, Time: 2.12\n",
      "It: 10, Loss: 5.937e+03, Time: 0.49\n",
      "It: 20, Loss: 2.339e+03, Time: 0.48\n",
      "It: 30, Loss: 1.609e+03, Time: 0.47\n",
      "It: 40, Loss: 1.547e+03, Time: 0.47\n",
      "It: 50, Loss: 1.336e+03, Time: 0.49\n",
      "It: 60, Loss: 1.335e+03, Time: 0.48\n",
      "It: 70, Loss: 1.284e+03, Time: 0.48\n",
      "It: 80, Loss: 1.262e+03, Time: 0.47\n",
      "It: 90, Loss: 1.235e+03, Time: 0.48\n",
      "It: 100, Loss: 1.202e+03, Time: 0.49\n",
      "It: 110, Loss: 1.165e+03, Time: 0.49\n",
      "It: 120, Loss: 1.118e+03, Time: 0.48\n",
      "It: 130, Loss: 1.056e+03, Time: 0.49\n",
      "It: 140, Loss: 9.763e+02, Time: 0.50\n",
      "It: 150, Loss: 8.719e+02, Time: 0.48\n",
      "It: 160, Loss: 7.420e+02, Time: 0.49\n",
      "It: 170, Loss: 5.950e+02, Time: 0.49\n",
      "It: 180, Loss: 4.494e+02, Time: 0.48\n",
      "It: 190, Loss: 3.349e+02, Time: 0.46\n",
      "It: 200, Loss: 2.766e+02, Time: 0.50\n",
      "It: 210, Loss: 2.597e+02, Time: 0.47\n",
      "It: 220, Loss: 2.547e+02, Time: 0.48\n",
      "It: 230, Loss: 2.489e+02, Time: 0.49\n",
      "It: 240, Loss: 2.424e+02, Time: 0.47\n",
      "It: 250, Loss: 2.365e+02, Time: 0.47\n",
      "It: 260, Loss: 2.307e+02, Time: 0.46\n",
      "It: 270, Loss: 2.249e+02, Time: 0.48\n",
      "It: 280, Loss: 2.190e+02, Time: 0.46\n",
      "It: 290, Loss: 2.130e+02, Time: 0.48\n",
      "It: 300, Loss: 2.071e+02, Time: 0.47\n",
      "It: 310, Loss: 2.011e+02, Time: 0.46\n",
      "It: 320, Loss: 1.953e+02, Time: 0.47\n",
      "It: 330, Loss: 1.895e+02, Time: 0.46\n",
      "It: 340, Loss: 1.839e+02, Time: 0.47\n",
      "It: 350, Loss: 1.785e+02, Time: 0.47\n",
      "It: 360, Loss: 1.731e+02, Time: 0.48\n",
      "It: 370, Loss: 1.677e+02, Time: 0.48\n",
      "It: 380, Loss: 1.624e+02, Time: 0.48\n",
      "It: 390, Loss: 1.570e+02, Time: 0.48\n",
      "It: 400, Loss: 1.516e+02, Time: 0.50\n",
      "It: 410, Loss: 1.461e+02, Time: 0.49\n",
      "It: 420, Loss: 1.405e+02, Time: 0.48\n",
      "It: 430, Loss: 1.348e+02, Time: 0.48\n",
      "It: 440, Loss: 1.291e+02, Time: 0.47\n",
      "It: 450, Loss: 1.233e+02, Time: 0.48\n",
      "It: 460, Loss: 1.174e+02, Time: 0.49\n",
      "It: 470, Loss: 1.116e+02, Time: 0.48\n",
      "It: 480, Loss: 1.057e+02, Time: 0.49\n",
      "It: 490, Loss: 9.982e+01, Time: 0.49\n",
      "It: 500, Loss: 9.395e+01, Time: 0.50\n",
      "It: 510, Loss: 8.809e+01, Time: 0.49\n",
      "It: 520, Loss: 8.226e+01, Time: 0.49\n",
      "It: 530, Loss: 7.646e+01, Time: 0.49\n",
      "It: 540, Loss: 7.068e+01, Time: 0.49\n",
      "It: 550, Loss: 6.494e+01, Time: 0.49\n",
      "It: 560, Loss: 5.924e+01, Time: 0.48\n",
      "It: 570, Loss: 5.360e+01, Time: 0.50\n",
      "It: 580, Loss: 4.806e+01, Time: 0.48\n",
      "It: 590, Loss: 4.270e+01, Time: 0.49\n",
      "It: 600, Loss: 3.761e+01, Time: 0.49\n",
      "It: 610, Loss: 3.290e+01, Time: 0.50\n",
      "It: 620, Loss: 2.866e+01, Time: 0.49\n",
      "It: 630, Loss: 2.497e+01, Time: 0.49\n",
      "It: 640, Loss: 2.182e+01, Time: 0.48\n",
      "It: 650, Loss: 1.919e+01, Time: 0.49\n",
      "It: 660, Loss: 1.700e+01, Time: 0.49\n",
      "It: 670, Loss: 1.518e+01, Time: 0.49\n",
      "It: 680, Loss: 1.364e+01, Time: 0.47\n",
      "It: 690, Loss: 1.235e+01, Time: 0.47\n",
      "It: 700, Loss: 1.127e+01, Time: 0.48\n",
      "It: 710, Loss: 1.037e+01, Time: 0.49\n",
      "It: 720, Loss: 9.619e+00, Time: 0.48\n",
      "It: 730, Loss: 8.997e+00, Time: 0.48\n",
      "It: 740, Loss: 8.484e+00, Time: 0.50\n",
      "It: 750, Loss: 8.061e+00, Time: 0.47\n",
      "It: 760, Loss: 7.714e+00, Time: 0.48\n",
      "It: 770, Loss: 7.427e+00, Time: 0.47\n",
      "It: 780, Loss: 7.188e+00, Time: 0.48\n",
      "It: 790, Loss: 6.988e+00, Time: 0.50\n",
      "It: 800, Loss: 6.819e+00, Time: 0.49\n",
      "It: 810, Loss: 6.673e+00, Time: 0.49\n",
      "It: 820, Loss: 6.548e+00, Time: 0.48\n",
      "It: 830, Loss: 6.437e+00, Time: 0.50\n",
      "It: 840, Loss: 6.338e+00, Time: 0.51\n",
      "It: 850, Loss: 6.250e+00, Time: 0.47\n",
      "It: 860, Loss: 6.169e+00, Time: 0.47\n",
      "It: 870, Loss: 6.094e+00, Time: 0.48\n",
      "It: 880, Loss: 6.025e+00, Time: 0.49\n",
      "It: 890, Loss: 5.961e+00, Time: 0.51\n",
      "It: 900, Loss: 5.900e+00, Time: 0.49\n",
      "It: 910, Loss: 5.842e+00, Time: 0.49\n",
      "It: 920, Loss: 5.787e+00, Time: 0.49\n",
      "It: 930, Loss: 5.735e+00, Time: 0.50\n",
      "It: 940, Loss: 5.684e+00, Time: 0.51\n",
      "It: 950, Loss: 5.636e+00, Time: 0.49\n",
      "It: 960, Loss: 5.588e+00, Time: 0.49\n",
      "It: 970, Loss: 5.543e+00, Time: 0.49\n",
      "It: 980, Loss: 5.498e+00, Time: 0.49\n",
      "It: 990, Loss: 5.455e+00, Time: 0.50\n",
      "It: 1000, Loss: 5.413e+00, Time: 0.49\n",
      "It: 1010, Loss: 5.371e+00, Time: 0.49\n",
      "It: 1020, Loss: 5.331e+00, Time: 0.49\n",
      "It: 1030, Loss: 5.291e+00, Time: 0.50\n",
      "It: 1040, Loss: 5.252e+00, Time: 0.51\n",
      "It: 1050, Loss: 5.213e+00, Time: 0.49\n",
      "It: 1060, Loss: 5.175e+00, Time: 0.50\n",
      "It: 1070, Loss: 5.138e+00, Time: 0.50\n",
      "It: 1080, Loss: 5.101e+00, Time: 0.50\n",
      "It: 1090, Loss: 5.065e+00, Time: 0.50\n",
      "It: 1100, Loss: 5.030e+00, Time: 0.49\n",
      "It: 1110, Loss: 4.994e+00, Time: 0.49\n",
      "It: 1120, Loss: 4.960e+00, Time: 0.49\n",
      "It: 1130, Loss: 4.925e+00, Time: 0.50\n",
      "It: 1140, Loss: 4.891e+00, Time: 0.50\n",
      "It: 1150, Loss: 4.858e+00, Time: 0.51\n",
      "It: 1160, Loss: 4.825e+00, Time: 0.50\n",
      "It: 1170, Loss: 4.792e+00, Time: 0.51\n",
      "It: 1180, Loss: 4.760e+00, Time: 0.50\n",
      "It: 1190, Loss: 4.728e+00, Time: 0.51\n",
      "It: 1200, Loss: 4.697e+00, Time: 0.49\n",
      "It: 1210, Loss: 4.665e+00, Time: 0.50\n",
      "It: 1220, Loss: 4.635e+00, Time: 0.50\n",
      "It: 1230, Loss: 4.604e+00, Time: 0.49\n",
      "It: 1240, Loss: 4.574e+00, Time: 0.49\n",
      "It: 1250, Loss: 4.544e+00, Time: 0.50\n",
      "It: 1260, Loss: 4.515e+00, Time: 0.51\n",
      "It: 1270, Loss: 4.486e+00, Time: 0.50\n",
      "It: 1280, Loss: 4.457e+00, Time: 0.50\n",
      "It: 1290, Loss: 4.428e+00, Time: 0.49\n",
      "It: 1300, Loss: 4.400e+00, Time: 0.51\n",
      "It: 1310, Loss: 4.372e+00, Time: 0.50\n",
      "It: 1320, Loss: 4.345e+00, Time: 0.50\n",
      "It: 1330, Loss: 4.318e+00, Time: 0.51\n",
      "It: 1340, Loss: 4.291e+00, Time: 0.51\n",
      "It: 1350, Loss: 4.264e+00, Time: 0.50\n",
      "It: 1360, Loss: 4.238e+00, Time: 0.51\n",
      "It: 1370, Loss: 4.212e+00, Time: 0.49\n",
      "It: 1380, Loss: 4.186e+00, Time: 0.50\n",
      "It: 1390, Loss: 4.160e+00, Time: 0.48\n",
      "It: 1400, Loss: 4.135e+00, Time: 0.48\n",
      "It: 1410, Loss: 4.110e+00, Time: 0.49\n",
      "It: 1420, Loss: 4.086e+00, Time: 0.49\n",
      "It: 1430, Loss: 4.061e+00, Time: 0.49\n",
      "It: 1440, Loss: 4.037e+00, Time: 0.47\n",
      "It: 1450, Loss: 4.013e+00, Time: 0.49\n",
      "It: 1460, Loss: 3.990e+00, Time: 0.49\n",
      "It: 1470, Loss: 3.967e+00, Time: 0.49\n",
      "It: 1480, Loss: 3.943e+00, Time: 0.50\n",
      "It: 1490, Loss: 3.921e+00, Time: 0.50\n",
      "It: 1500, Loss: 3.900e+00, Time: 0.48\n",
      "It: 1510, Loss: 4.113e+00, Time: 0.48\n",
      "It: 1520, Loss: 3.857e+00, Time: 0.49\n",
      "It: 1530, Loss: 3.859e+00, Time: 0.50\n",
      "It: 1540, Loss: 3.815e+00, Time: 0.47\n",
      "It: 1550, Loss: 3.792e+00, Time: 0.48\n",
      "It: 1560, Loss: 3.771e+00, Time: 0.48\n",
      "It: 1570, Loss: 3.750e+00, Time: 0.48\n",
      "It: 1580, Loss: 3.729e+00, Time: 0.48\n",
      "It: 1590, Loss: 3.709e+00, Time: 0.47\n",
      "It: 1600, Loss: 3.689e+00, Time: 0.48\n",
      "It: 1610, Loss: 3.670e+00, Time: 0.48\n",
      "It: 1620, Loss: 3.650e+00, Time: 0.50\n",
      "It: 1630, Loss: 3.631e+00, Time: 0.47\n",
      "It: 1640, Loss: 3.612e+00, Time: 0.50\n",
      "It: 1650, Loss: 3.593e+00, Time: 0.49\n",
      "It: 1660, Loss: 3.578e+00, Time: 0.50\n",
      "It: 1670, Loss: 3.895e+00, Time: 0.49\n",
      "It: 1680, Loss: 3.747e+00, Time: 0.49\n",
      "It: 1690, Loss: 3.522e+00, Time: 0.49\n",
      "It: 1700, Loss: 3.529e+00, Time: 0.50\n",
      "It: 1710, Loss: 3.487e+00, Time: 0.50\n",
      "It: 1720, Loss: 3.473e+00, Time: 0.48\n",
      "It: 1730, Loss: 3.454e+00, Time: 0.49\n",
      "It: 1740, Loss: 3.436e+00, Time: 0.48\n",
      "It: 1750, Loss: 3.420e+00, Time: 0.49\n",
      "It: 1760, Loss: 3.403e+00, Time: 0.50\n",
      "It: 1770, Loss: 3.387e+00, Time: 0.49\n",
      "It: 1780, Loss: 3.371e+00, Time: 0.48\n",
      "It: 1790, Loss: 3.356e+00, Time: 0.49\n",
      "It: 1800, Loss: 3.340e+00, Time: 0.51\n",
      "It: 1810, Loss: 3.327e+00, Time: 0.47\n",
      "It: 1820, Loss: 3.471e+00, Time: 0.49\n",
      "It: 1830, Loss: 3.296e+00, Time: 0.50\n",
      "It: 1840, Loss: 3.434e+00, Time: 0.48\n",
      "It: 1850, Loss: 3.275e+00, Time: 0.49\n",
      "It: 1860, Loss: 3.267e+00, Time: 0.50\n",
      "It: 1870, Loss: 3.244e+00, Time: 0.50\n",
      "It: 1880, Loss: 3.224e+00, Time: 0.49\n",
      "It: 1890, Loss: 3.210e+00, Time: 0.49\n",
      "It: 1900, Loss: 3.196e+00, Time: 0.49\n",
      "It: 1910, Loss: 3.183e+00, Time: 0.49\n",
      "It: 1920, Loss: 3.169e+00, Time: 0.49\n",
      "It: 1930, Loss: 3.156e+00, Time: 0.50\n",
      "It: 1940, Loss: 3.143e+00, Time: 0.51\n",
      "It: 1950, Loss: 3.130e+00, Time: 0.49\n",
      "It: 1960, Loss: 3.120e+00, Time: 0.49\n"
     ]
    },
    {
     "ename": "KeyboardInterrupt",
     "evalue": "",
     "output_type": "error",
     "traceback": [
      "\u001b[0;31m---------------------------------------------------------------------------\u001b[0m",
      "\u001b[0;31mKeyboardInterrupt\u001b[0m                         Traceback (most recent call last)",
      "\u001b[0;32m<ipython-input-51-e6e89bb044e6>\u001b[0m in \u001b[0;36m<module>\u001b[0;34m\u001b[0m\n\u001b[0;32m----> 1\u001b[0;31m \u001b[0mnnsmooth\u001b[0m\u001b[0;34m.\u001b[0m\u001b[0mtrain\u001b[0m\u001b[0;34m(\u001b[0m\u001b[0;36m5000\u001b[0m\u001b[0;34m)\u001b[0m\u001b[0;34m\u001b[0m\u001b[0;34m\u001b[0m\u001b[0m\n\u001b[0m",
      "\u001b[0;32m~/devel/Machine_learning_dynamics/bayesian/nn_smoothing_1D.py\u001b[0m in \u001b[0;36mtrain\u001b[0;34m(self, nIter)\u001b[0m\n\u001b[1;32m    114\u001b[0m         \u001b[0mstart_time\u001b[0m \u001b[0;34m=\u001b[0m \u001b[0mtime\u001b[0m\u001b[0;34m.\u001b[0m\u001b[0mtime\u001b[0m\u001b[0;34m(\u001b[0m\u001b[0;34m)\u001b[0m\u001b[0;34m\u001b[0m\u001b[0;34m\u001b[0m\u001b[0m\n\u001b[1;32m    115\u001b[0m         \u001b[0;32mfor\u001b[0m \u001b[0mit\u001b[0m \u001b[0;32min\u001b[0m \u001b[0mrange\u001b[0m\u001b[0;34m(\u001b[0m\u001b[0mnIter\u001b[0m\u001b[0;34m)\u001b[0m\u001b[0;34m:\u001b[0m\u001b[0;34m\u001b[0m\u001b[0;34m\u001b[0m\u001b[0m\n\u001b[0;32m--> 116\u001b[0;31m             \u001b[0mself\u001b[0m\u001b[0;34m.\u001b[0m\u001b[0msess\u001b[0m\u001b[0;34m.\u001b[0m\u001b[0mrun\u001b[0m\u001b[0;34m(\u001b[0m\u001b[0mself\u001b[0m\u001b[0;34m.\u001b[0m\u001b[0mtrain_op_Adam\u001b[0m\u001b[0;34m,\u001b[0m \u001b[0mtf_dict\u001b[0m\u001b[0;34m)\u001b[0m\u001b[0;34m\u001b[0m\u001b[0;34m\u001b[0m\u001b[0m\n\u001b[0m\u001b[1;32m    117\u001b[0m \u001b[0;34m\u001b[0m\u001b[0m\n\u001b[1;32m    118\u001b[0m             \u001b[0;31m# Print\u001b[0m\u001b[0;34m\u001b[0m\u001b[0;34m\u001b[0m\u001b[0;34m\u001b[0m\u001b[0m\n",
      "\u001b[0;32m/mpcdf/soft/SLE_15/packages/skylake/tensorflow/gpu/anaconda_3_2019.03-2019.03-cuda_10.0-10.0.130/1.14.0/lib/python3.7/site-packages/tensorflow/python/client/session.py\u001b[0m in \u001b[0;36mrun\u001b[0;34m(self, fetches, feed_dict, options, run_metadata)\u001b[0m\n\u001b[1;32m    948\u001b[0m     \u001b[0;32mtry\u001b[0m\u001b[0;34m:\u001b[0m\u001b[0;34m\u001b[0m\u001b[0;34m\u001b[0m\u001b[0m\n\u001b[1;32m    949\u001b[0m       result = self._run(None, fetches, feed_dict, options_ptr,\n\u001b[0;32m--> 950\u001b[0;31m                          run_metadata_ptr)\n\u001b[0m\u001b[1;32m    951\u001b[0m       \u001b[0;32mif\u001b[0m \u001b[0mrun_metadata\u001b[0m\u001b[0;34m:\u001b[0m\u001b[0;34m\u001b[0m\u001b[0;34m\u001b[0m\u001b[0m\n\u001b[1;32m    952\u001b[0m         \u001b[0mproto_data\u001b[0m \u001b[0;34m=\u001b[0m \u001b[0mtf_session\u001b[0m\u001b[0;34m.\u001b[0m\u001b[0mTF_GetBuffer\u001b[0m\u001b[0;34m(\u001b[0m\u001b[0mrun_metadata_ptr\u001b[0m\u001b[0;34m)\u001b[0m\u001b[0;34m\u001b[0m\u001b[0;34m\u001b[0m\u001b[0m\n",
      "\u001b[0;32m/mpcdf/soft/SLE_15/packages/skylake/tensorflow/gpu/anaconda_3_2019.03-2019.03-cuda_10.0-10.0.130/1.14.0/lib/python3.7/site-packages/tensorflow/python/client/session.py\u001b[0m in \u001b[0;36m_run\u001b[0;34m(self, handle, fetches, feed_dict, options, run_metadata)\u001b[0m\n\u001b[1;32m   1171\u001b[0m     \u001b[0;32mif\u001b[0m \u001b[0mfinal_fetches\u001b[0m \u001b[0;32mor\u001b[0m \u001b[0mfinal_targets\u001b[0m \u001b[0;32mor\u001b[0m \u001b[0;34m(\u001b[0m\u001b[0mhandle\u001b[0m \u001b[0;32mand\u001b[0m \u001b[0mfeed_dict_tensor\u001b[0m\u001b[0;34m)\u001b[0m\u001b[0;34m:\u001b[0m\u001b[0;34m\u001b[0m\u001b[0;34m\u001b[0m\u001b[0m\n\u001b[1;32m   1172\u001b[0m       results = self._do_run(handle, final_targets, final_fetches,\n\u001b[0;32m-> 1173\u001b[0;31m                              feed_dict_tensor, options, run_metadata)\n\u001b[0m\u001b[1;32m   1174\u001b[0m     \u001b[0;32melse\u001b[0m\u001b[0;34m:\u001b[0m\u001b[0;34m\u001b[0m\u001b[0;34m\u001b[0m\u001b[0m\n\u001b[1;32m   1175\u001b[0m       \u001b[0mresults\u001b[0m \u001b[0;34m=\u001b[0m \u001b[0;34m[\u001b[0m\u001b[0;34m]\u001b[0m\u001b[0;34m\u001b[0m\u001b[0;34m\u001b[0m\u001b[0m\n",
      "\u001b[0;32m/mpcdf/soft/SLE_15/packages/skylake/tensorflow/gpu/anaconda_3_2019.03-2019.03-cuda_10.0-10.0.130/1.14.0/lib/python3.7/site-packages/tensorflow/python/client/session.py\u001b[0m in \u001b[0;36m_do_run\u001b[0;34m(self, handle, target_list, fetch_list, feed_dict, options, run_metadata)\u001b[0m\n\u001b[1;32m   1348\u001b[0m     \u001b[0;32mif\u001b[0m \u001b[0mhandle\u001b[0m \u001b[0;32mis\u001b[0m \u001b[0;32mNone\u001b[0m\u001b[0;34m:\u001b[0m\u001b[0;34m\u001b[0m\u001b[0;34m\u001b[0m\u001b[0m\n\u001b[1;32m   1349\u001b[0m       return self._do_call(_run_fn, feeds, fetches, targets, options,\n\u001b[0;32m-> 1350\u001b[0;31m                            run_metadata)\n\u001b[0m\u001b[1;32m   1351\u001b[0m     \u001b[0;32melse\u001b[0m\u001b[0;34m:\u001b[0m\u001b[0;34m\u001b[0m\u001b[0;34m\u001b[0m\u001b[0m\n\u001b[1;32m   1352\u001b[0m       \u001b[0;32mreturn\u001b[0m \u001b[0mself\u001b[0m\u001b[0;34m.\u001b[0m\u001b[0m_do_call\u001b[0m\u001b[0;34m(\u001b[0m\u001b[0m_prun_fn\u001b[0m\u001b[0;34m,\u001b[0m \u001b[0mhandle\u001b[0m\u001b[0;34m,\u001b[0m \u001b[0mfeeds\u001b[0m\u001b[0;34m,\u001b[0m \u001b[0mfetches\u001b[0m\u001b[0;34m)\u001b[0m\u001b[0;34m\u001b[0m\u001b[0;34m\u001b[0m\u001b[0m\n",
      "\u001b[0;32m/mpcdf/soft/SLE_15/packages/skylake/tensorflow/gpu/anaconda_3_2019.03-2019.03-cuda_10.0-10.0.130/1.14.0/lib/python3.7/site-packages/tensorflow/python/client/session.py\u001b[0m in \u001b[0;36m_do_call\u001b[0;34m(self, fn, *args)\u001b[0m\n\u001b[1;32m   1354\u001b[0m   \u001b[0;32mdef\u001b[0m \u001b[0m_do_call\u001b[0m\u001b[0;34m(\u001b[0m\u001b[0mself\u001b[0m\u001b[0;34m,\u001b[0m \u001b[0mfn\u001b[0m\u001b[0;34m,\u001b[0m \u001b[0;34m*\u001b[0m\u001b[0margs\u001b[0m\u001b[0;34m)\u001b[0m\u001b[0;34m:\u001b[0m\u001b[0;34m\u001b[0m\u001b[0;34m\u001b[0m\u001b[0m\n\u001b[1;32m   1355\u001b[0m     \u001b[0;32mtry\u001b[0m\u001b[0;34m:\u001b[0m\u001b[0;34m\u001b[0m\u001b[0;34m\u001b[0m\u001b[0m\n\u001b[0;32m-> 1356\u001b[0;31m       \u001b[0;32mreturn\u001b[0m \u001b[0mfn\u001b[0m\u001b[0;34m(\u001b[0m\u001b[0;34m*\u001b[0m\u001b[0margs\u001b[0m\u001b[0;34m)\u001b[0m\u001b[0;34m\u001b[0m\u001b[0;34m\u001b[0m\u001b[0m\n\u001b[0m\u001b[1;32m   1357\u001b[0m     \u001b[0;32mexcept\u001b[0m \u001b[0merrors\u001b[0m\u001b[0;34m.\u001b[0m\u001b[0mOpError\u001b[0m \u001b[0;32mas\u001b[0m \u001b[0me\u001b[0m\u001b[0;34m:\u001b[0m\u001b[0;34m\u001b[0m\u001b[0;34m\u001b[0m\u001b[0m\n\u001b[1;32m   1358\u001b[0m       \u001b[0mmessage\u001b[0m \u001b[0;34m=\u001b[0m \u001b[0mcompat\u001b[0m\u001b[0;34m.\u001b[0m\u001b[0mas_text\u001b[0m\u001b[0;34m(\u001b[0m\u001b[0me\u001b[0m\u001b[0;34m.\u001b[0m\u001b[0mmessage\u001b[0m\u001b[0;34m)\u001b[0m\u001b[0;34m\u001b[0m\u001b[0;34m\u001b[0m\u001b[0m\n",
      "\u001b[0;32m/mpcdf/soft/SLE_15/packages/skylake/tensorflow/gpu/anaconda_3_2019.03-2019.03-cuda_10.0-10.0.130/1.14.0/lib/python3.7/site-packages/tensorflow/python/client/session.py\u001b[0m in \u001b[0;36m_run_fn\u001b[0;34m(feed_dict, fetch_list, target_list, options, run_metadata)\u001b[0m\n\u001b[1;32m   1339\u001b[0m       \u001b[0mself\u001b[0m\u001b[0;34m.\u001b[0m\u001b[0m_extend_graph\u001b[0m\u001b[0;34m(\u001b[0m\u001b[0;34m)\u001b[0m\u001b[0;34m\u001b[0m\u001b[0;34m\u001b[0m\u001b[0m\n\u001b[1;32m   1340\u001b[0m       return self._call_tf_sessionrun(\n\u001b[0;32m-> 1341\u001b[0;31m           options, feed_dict, fetch_list, target_list, run_metadata)\n\u001b[0m\u001b[1;32m   1342\u001b[0m \u001b[0;34m\u001b[0m\u001b[0m\n\u001b[1;32m   1343\u001b[0m     \u001b[0;32mdef\u001b[0m \u001b[0m_prun_fn\u001b[0m\u001b[0;34m(\u001b[0m\u001b[0mhandle\u001b[0m\u001b[0;34m,\u001b[0m \u001b[0mfeed_dict\u001b[0m\u001b[0;34m,\u001b[0m \u001b[0mfetch_list\u001b[0m\u001b[0;34m)\u001b[0m\u001b[0;34m:\u001b[0m\u001b[0;34m\u001b[0m\u001b[0;34m\u001b[0m\u001b[0m\n",
      "\u001b[0;32m/mpcdf/soft/SLE_15/packages/skylake/tensorflow/gpu/anaconda_3_2019.03-2019.03-cuda_10.0-10.0.130/1.14.0/lib/python3.7/site-packages/tensorflow/python/client/session.py\u001b[0m in \u001b[0;36m_call_tf_sessionrun\u001b[0;34m(self, options, feed_dict, fetch_list, target_list, run_metadata)\u001b[0m\n\u001b[1;32m   1427\u001b[0m     return tf_session.TF_SessionRun_wrapper(\n\u001b[1;32m   1428\u001b[0m         \u001b[0mself\u001b[0m\u001b[0;34m.\u001b[0m\u001b[0m_session\u001b[0m\u001b[0;34m,\u001b[0m \u001b[0moptions\u001b[0m\u001b[0;34m,\u001b[0m \u001b[0mfeed_dict\u001b[0m\u001b[0;34m,\u001b[0m \u001b[0mfetch_list\u001b[0m\u001b[0;34m,\u001b[0m \u001b[0mtarget_list\u001b[0m\u001b[0;34m,\u001b[0m\u001b[0;34m\u001b[0m\u001b[0;34m\u001b[0m\u001b[0m\n\u001b[0;32m-> 1429\u001b[0;31m         run_metadata)\n\u001b[0m\u001b[1;32m   1430\u001b[0m \u001b[0;34m\u001b[0m\u001b[0m\n\u001b[1;32m   1431\u001b[0m   \u001b[0;32mdef\u001b[0m \u001b[0m_call_tf_sessionprun\u001b[0m\u001b[0;34m(\u001b[0m\u001b[0mself\u001b[0m\u001b[0;34m,\u001b[0m \u001b[0mhandle\u001b[0m\u001b[0;34m,\u001b[0m \u001b[0mfeed_dict\u001b[0m\u001b[0;34m,\u001b[0m \u001b[0mfetch_list\u001b[0m\u001b[0;34m)\u001b[0m\u001b[0;34m:\u001b[0m\u001b[0;34m\u001b[0m\u001b[0;34m\u001b[0m\u001b[0m\n",
      "\u001b[0;31mKeyboardInterrupt\u001b[0m: "
     ]
    }
   ],
   "source": [
    "nnsmooth.train(5000)"
   ]
  },
  {
   "cell_type": "code",
   "execution_count": 52,
   "metadata": {},
   "outputs": [],
   "source": [
    "u_predict, u_t_predict, u_x_predict, u_xx_predict = nnsmooth.predict(np.expand_dims(x_train,1), np.expand_dims(t_train,1))"
   ]
  },
  {
   "cell_type": "code",
   "execution_count": 53,
   "metadata": {},
   "outputs": [],
   "source": [
    "u_predict = np.reshape(u_predict, u.shape)\n",
    "u_t_predict = np.reshape(u_t_predict, u.shape)\n",
    "u_x_predict = np.reshape(u_x_predict, u.shape)\n",
    "u_xx_predict = np.reshape(u_xx_predict, u.shape)"
   ]
  },
  {
   "cell_type": "code",
   "execution_count": 54,
   "metadata": {},
   "outputs": [
    {
     "data": {
      "text/plain": [
       "<matplotlib.image.AxesImage at 0x2ad8b05e3908>"
      ]
     },
     "execution_count": 54,
     "metadata": {},
     "output_type": "execute_result"
    },
    {
     "data": {
      "image/png": "[encoded data removed]",
      "text/plain": [
       "<Figure size 432x288 with 1 Axes>"
      ]
     },
     "metadata": {
      "needs_background": "light"
     },
     "output_type": "display_data"
    }
   ],
   "source": [
    "plt.imshow(u)"
   ]
  },
  {
   "cell_type": "code",
   "execution_count": 55,
   "metadata": {},
   "outputs": [
    {
     "data": {
      "text/plain": [
       "<matplotlib.image.AxesImage at 0x2ad8b0635470>"
      ]
     },
     "execution_count": 55,
     "metadata": {},
     "output_type": "execute_result"
    },
    {
     "data": {
      "image/png": "[encoded data removed]",
      "text/plain": [
       "<Figure size 432x288 with 1 Axes>"
      ]
     },
     "metadata": {
      "needs_background": "light"
     },
     "output_type": "display_data"
    }
   ],
   "source": [
    "plt.imshow(u_predict)"
   ]
  },
  {
   "cell_type": "code",
   "execution_count": 56,
   "metadata": {},
   "outputs": [
    {
     "data": {
      "text/plain": [
       "<matplotlib.image.AxesImage at 0x2ad8b067fe80>"
      ]
     },
     "execution_count": 56,
     "metadata": {},
     "output_type": "execute_result"
    },
    {
     "data": {
      "image/png": "[encoded data removed]",
      "text/plain": [
       "<Figure size 432x288 with 1 Axes>"
      ]
     },
     "metadata": {
      "needs_background": "light"
     },
     "output_type": "display_data"
    }
   ],
   "source": [
    "plt.imshow(u_t_predict)"
   ]
  },
  {
   "cell_type": "code",
   "execution_count": 57,
   "metadata": {},
   "outputs": [],
   "source": [
    "ind = 40"
   ]
  },
  {
   "cell_type": "code",
   "execution_count": 58,
   "metadata": {},
   "outputs": [],
   "source": [
    "np.save('train_data_simulation_clean',np.vstack([u_predict.flatten(),u_x_predict.flatten(),u_xx_predict.flatten(), u_t_predict.flatten()]).T)"
   ]
  }
 ],
 "metadata": {
  "kernelspec": {
   "display_name": "Python 3",
   "language": "python",
   "name": "python3"
  },
  "language_info": {
   "codemirror_mode": {
    "name": "ipython",
    "version": 3
   },
   "file_extension": ".py",
   "mimetype": "text/x-python",
   "name": "python",
   "nbconvert_exporter": "python",
   "pygments_lexer": "ipython3",
   "version": "3.7.3"
  }
 },
 "nbformat": 4,
 "nbformat_minor": 2
}
